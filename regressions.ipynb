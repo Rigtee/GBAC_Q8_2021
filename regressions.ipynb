{
 "cells": [
  {
   "cell_type": "code",
   "execution_count": null,
   "metadata": {
    "tags": []
   },
   "outputs": [],
   "source": [
    "import statsmodels.api as sm\n",
    "import linearmodels as lm\n",
    "from sklearn.linear_model import LinearRegression\n",
    "import pandas as pd\n",
    "import numpy as np\n",
    "import matplotlib.pyplot as plt\n",
    "import seaborn as sns\n",
    "\n",
    "#Paths to the reduced data sets (containing 1,000 rows, allows us to work quicker before working on the full-fledged sample)\n",
    "path_ana_red = 'copy_master_data/Anagrafica_ClubQ8_red.csv'\n",
    "path_premi_red = 'copy_master_data/Premi_ClubQ8_red.csv'\n",
    "path_rif_red = 'copy_master_data/Rifornimenti_Carburante_ClubQ8_red.csv'\n",
    "\n",
    "path_ana = 'master_data/Anagrafica_ClubQ8.csv'\n",
    "path_premi = 'master_data/Premi_ClubQ8.csv'\n",
    "path_rif = 'master_data/Rifornimenti_Carburante_ClubQ8.csv'\n",
    "\n",
    "df1 = pd.read_csv(path_ana, sep=';', decimal = ',')\n",
    "df1.head() #OK, works as expected and converts the decimals\n",
    "\n",
    "df2 = pd.read_csv(path_premi, sep=';', decimal = ',')\n",
    "df3 = pd.read_csv(path_rif, sep=';', decimal = ',')"
   ]
  },
  {
   "cell_type": "code",
   "execution_count": null,
   "metadata": {},
   "outputs": [],
   "source": [
    "#For reduced DB as there is an Unnamed column added when performing the function\n",
    "\n",
    "#df1.drop(['Unnamed: 0'], axis = 1, inplace= True)\n",
    "#df2.drop(['Unnamed: 0'], axis = 1, inplace= True)\n",
    "#df3.drop(['Unnamed: 0'], axis = 1, inplace= True)\n",
    "\n",
    "df1.head()"
   ]
  },
  {
   "cell_type": "code",
   "execution_count": null,
   "metadata": {},
   "outputs": [],
   "source": [
    "df2.columns"
   ]
  },
  {
   "cell_type": "code",
   "execution_count": null,
   "metadata": {},
   "outputs": [],
   "source": [
    "#df4 = pd.DataFrame(columns = 'Test')\n",
    "df1['DATA_BATTESIMO'] = df1['DATA_BATTESIMO'].astype('datetime64')\n",
    "df1['DATA_BATTESIMO'] = df1['DATA_BATTESIMO'].dt.date\n",
    "\n",
    "df2['DATA_OPERAZIONE'] = df2['DATA_OPERAZIONE'].astype('datetime64')\n",
    "df2['DATA_OPERAZIONE'] = df2['DATA_OPERAZIONE'].dt.date\n",
    "df2.head()"
   ]
  },
  {
   "cell_type": "code",
   "execution_count": null,
   "metadata": {},
   "outputs": [],
   "source": [
    "df3['DATA_OPERAZIONE'] = df3['DATA_OPERAZIONE'].astype('datetime64')\n",
    "df3['DATA_OPERAZIONE'] = df3['DATA_OPERAZIONE'].dt.date\n",
    "df3.head()\n",
    "\n",
    "df2.sort_values(by=['DATA_OPERAZIONE'], inplace=True, ascending=False)\n",
    "df2.drop_duplicates('COD_PAN_DA_POS', keep='first', inplace=True)\n",
    "\n",
    "df4 = df2.merge(df3, how='inner', on='COD_PAN_DA_POS')\n",
    "print(df4.columns)\n",
    "df4 = df4.iloc[:,[0,1,9,12]]\n",
    "\n",
    "cols = df4.columns.tolist()\n",
    "new_cols = [cols[2], cols[3], cols[0], cols[1]]\n",
    "df4 = df4[new_cols]\n",
    "df4 = df4.rename(columns={'DATA_OPERAZIONE_y': 'Date of gas purchase', 'LITRI': 'Gas Purchase in liters', 'COD_PAN_DA_POS': 'Unique Customer Identifier', 'DATA_OPERAZIONE_x': 'Date of first prize claim'})\n",
    "\n",
    "df4['Date difference'] = df4['Date of gas purchase'].sub(df4['Date of first prize claim'], axis = 0)\n",
    "print(df4.dtypes)\n",
    "df4.head()"
   ]
  },
  {
   "cell_type": "code",
   "execution_count": null,
   "metadata": {},
   "outputs": [],
   "source": [
    "Y = df4.iloc[:,1].values.reshape(-1,1)\n",
    "#df4['Date difference'] = df4['Date difference'].astype('float')  \n",
    "df4['Date difference'] = df4['Date difference']  / np.timedelta64(1,'D')\n",
    "print(df4.dtypes)\n",
    "X = df4.iloc[:,4].values.reshape(-1,1)\n",
    "\n",
    "#SkLearn LinearRegression - This will not be used here, we prefer OLS\n",
    "#lr = LinearRegression()\n",
    "#e = np.random.normal(size=len(df4))\n",
    "#lr.fit(X,Y)\n",
    "#Y_pred = lr.predict(X)\n",
    "\n",
    "\n",
    "#StatsModels OLS\n",
    "model = sm.OLS(Y, X)\n",
    "results = model.fit()\n",
    "print(results.summary())\n",
    "print(\"Parameters: \", results.params)\n",
    "print(\"R2: \", results.rsquared)"
   ]
  },
  {
   "cell_type": "code",
   "execution_count": null,
   "metadata": {},
   "outputs": [],
   "source": [
    "pred_ols = results.get_prediction()\n",
    "\n",
    "#iv_l not necessary here because you cannot fuel a negative quantity; iv_u consequently not needed neither\n",
    "#iv_l = pred_ols.summary_frame()[\"obs_ci_lower\"]\n",
    "#iv_u = pred_ols.summary_frame()[\"obs_ci_upper\"]\n",
    "\n",
    "fig, ax = plt.subplots(figsize=(8, 6))\n",
    "\n",
    "ax.plot(X, Y, \"o\", label=\"data\")\n",
    "ax.plot(X, results.fittedvalues, \"r--.\", label=\"OLS\")\n",
    "#ax.plot(X, iv_u, \"r--\")\n",
    "#ax.plot(X, iv_l, \"r--\")\n",
    "ax.legend(loc=\"best\")\n",
    "plt.title('Regression of the gas purchases on the date difference (refuelling - claiming first prize) - Full sample - No constant')\n",
    "plt.xlabel('Date difference = Date of gas purchase - Date of claiming a first prize')\n",
    "plt.ylabel('Gas purchase in liters')\n",
    "plt.tight_layout()\n",
    "plt.savefig('figures/regression-full-noconstant.png')\n",
    "plt.show()"
   ]
  },
  {
   "cell_type": "code",
   "execution_count": null,
   "metadata": {},
   "outputs": [],
   "source": [
    "#Using a random sample from our data : taking 1000 rows randomly\n",
    "\n",
    "df4sample = df4.sample(1000)\n",
    "Ysample = df4sample.iloc[:,1].values.reshape(-1,1)\n",
    "Xsample = df4sample.iloc[:,4].values.reshape(-1,1)\n",
    "\n",
    "model = sm.OLS(Ysample, Xsample)\n",
    "results = model.fit()\n",
    "print(results.summary())\n",
    "print(\"Parameters: \", results.params)\n",
    "print(\"R2: \", results.rsquared)\n",
    "\n",
    "pred_ols = results.get_prediction()\n",
    "\n",
    "\n",
    "fig, ax = plt.subplots(figsize=(8, 6))\n",
    "ax.plot(Xsample, Ysample, \"o\", label=\"data\")\n",
    "ax.plot(Xsample, results.fittedvalues, \"r--.\", label=\"OLS\")\n",
    "ax.legend(loc=\"best\")\n",
    "plt.title('Regression of the gas purchases on the date difference (refuelling - claiming first prize) - Sample 1000 - No constant')\n",
    "plt.xlabel('Date difference = Date of gas purchase - Date of claiming a first prize')\n",
    "plt.ylabel('Gas purchase in liters')\n",
    "plt.tight_layout()\n",
    "plt.savefig('figures/regression-sample-noconstant.png')\n",
    "plt.show()"
   ]
  },
  {
   "cell_type": "code",
   "execution_count": null,
   "metadata": {
    "pycharm": {
     "is_executing": true
    }
   },
   "outputs": [],
   "source": [
    "#Using PanelOLS regressor to take into account time-fixed and entity-fixed effects\n",
    "\n",
    "#Multi-index needed for PanelOLS\n",
    "df4=df4.set_index(['Date of gas purchase','Unique Customer Identifier'])\n",
    "print(df4.head())\n",
    "Y = df4['Gas Purchase in liters']\n",
    "X = df4['Date difference']\n",
    "model = lm.PanelOLS(Y, X, entity_effects=True, time_effects=True).fit()\n",
    "results = model.fit()\n",
    "print(results.summary())\n",
    "print(\"Parameters: \", results.params)\n",
    "print(\"R2: \", results.rsquared)"
   ]
  },
  {
   "cell_type": "code",
   "execution_count": null,
   "metadata": {
    "pycharm": {
     "is_executing": true
    }
   },
   "outputs": [],
   "source": [
    "#path_rif_red = 'copy_master_data/Rifornimenti_Carburante_ClubQ8_red.csv'\n",
    "#df5 = pd.read_csv(path_rif_red, sep=';', decimal = ',')\n",
    "#low_liter = df5[df5.iloc[:,6] <= 100]\n",
    "#low_liter.sort_values(by=['LITRI'])\n",
    "print(df5sample.head())\n",
    "\n",
    "df5sample = df4.sample(100000)\n",
    "df5sample = df5sample[df5sample['Gas Purchase in liters'] <= 100]\n",
    "Ysample = df5sample.iloc[:,0].values.reshape(-1,1)\n",
    "Xsample = df5sample.iloc[:,2].values.reshape(-1,1)\n",
    "\n",
    "\n",
    "\n",
    "model = sm.OLS(Ysample, Xsample)\n",
    "results = model.fit()\n",
    "print(results.summary())\n",
    "print(\"Parameters: \", results.params)\n",
    "print(\"R2: \", results.rsquared)\n",
    "\n",
    "pred_ols = results.get_prediction()\n",
    "#iv_l = pred_ols.summary_frame()[\"obs_ci_lower\"]\n",
    "#iv_u = pred_ols.summary_frame()[\"obs_ci_upper\"]\n",
    "\n",
    "fig, ax = plt.subplots(figsize=(8, 6))\n",
    "\n",
    "ax.plot(Xsample, Ysample, \"o\", label=\"data\")\n",
    "ax.plot(Xsample, results.fittedvalues, \"r--.\", label=\"OLS\")\n",
    "#ax.plot(Xsample, iv_u, \"r--\")\n",
    "#ax.plot(Xsample, iv_l, \"r--\")\n",
    "ax.legend(loc=\"best\")\n",
    "plt.show()"
   ]
  },
  {
   "cell_type": "code",
   "execution_count": null,
   "metadata": {
    "pycharm": {
     "is_executing": true
    }
   },
   "outputs": [],
   "source": [
    "#sns.kdeplot(Xsample)\n",
    "sns.displot(df5sample, x=\"Gas Purchase in liters\", binwidth=3)\n",
    "plt.show()"
   ]
  },
  {
   "cell_type": "code",
   "execution_count": null,
   "metadata": {
    "pycharm": {
     "is_executing": true
    }
   },
   "outputs": [],
   "source": []
  }
 ],
 "metadata": {
  "kernelspec": {
   "display_name": "Python 3 (ipykernel)",
   "language": "python",
   "name": "python3"
  },
  "language_info": {
   "codemirror_mode": {
    "name": "ipython",
    "version": 3
   },
   "file_extension": ".py",
   "mimetype": "text/x-python",
   "name": "python",
   "nbconvert_exporter": "python",
   "pygments_lexer": "ipython3",
   "version": "3.9.7"
  }
 },
 "nbformat": 4,
 "nbformat_minor": 4
}
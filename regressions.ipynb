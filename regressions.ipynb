{
 "cells": [
  {
   "cell_type": "code",
   "execution_count": 1,
   "metadata": {
    "tags": []
   },
   "outputs": [],
   "source": [
    "import statsmodels.api as sm\n",
    "import linearmodels as lm\n",
    "import pandas as pd\n",
    "import numpy as np\n",
    "from sklearn.linear_model import LinearRegression\n",
    "import matplotlib.pyplot as plt\n",
    "import seaborn as sns\n",
    "\n",
    "path_ana_red = 'copy_master_data/Anagrafica_ClubQ8_red.csv'\n",
    "path_premi_red = 'copy_master_data/Premi_ClubQ8_red.csv'\n",
    "path_rif_red = 'copy_master_data/Rifornimenti_Carburante_ClubQ8_red.csv'\n",
    "\n",
    "path_ana = 'master_data/Anagrafica_ClubQ8.csv'\n",
    "path_premi = 'master_data/Premi_ClubQ8.csv'\n",
    "path_rif = 'master_data/Rifornimenti_Carburante_ClubQ8.csv'\n",
    "\n",
    "df1 = pd.read_csv(path_ana, sep=';', decimal = ',')\n",
    "df1.head() #OK, works as expected and converts the decimals\n",
    "\n",
    "df2 = pd.read_csv(path_premi, sep=';', decimal = ',')\n",
    "df3 = pd.read_csv(path_rif, sep=';', decimal = ',')"
   ]
  },
  {
   "cell_type": "code",
   "execution_count": 2,
   "metadata": {},
   "outputs": [
    {
     "data": {
      "text/plain": "        COD_PAN_DA_POS SEX         DATA_NASCITA   REGIONE PROVINCIA   COMUNE  \\\n0  7071161603018922195   M  1951-09-14 00:00:00     LAZIO   VITERBO    SUTRI   \n1  7071161603005992565   F  1988-09-15 00:00:00       NaN       NaN      NaN   \n2  7071161603025867243   F  1943-09-09 00:00:00     LAZIO      ROMA     ROMA   \n3  7071161603021997861   M  1974-03-01 00:00:00   SICILIA   MESSINA  MESSINA   \n4  7071161603025554049   M  1963-11-22 00:00:00  CAMPANIA   SALERNO    EBOLI   \n\n      TIPO_CARTA       DATA_BATTESIMO  SALDO_PUNTI  \n0  STARQ8_FISICA  2015-01-08 12:32:58        511.0  \n1  STARQ8_FISICA  2020-07-10 12:22:35        379.0  \n2  STARQ8_FISICA  2020-07-10 18:07:14        108.0  \n3  STARQ8_FISICA  2020-07-10 18:08:21        100.0  \n4  STARQ8_FISICA  2020-07-10 18:09:27        284.0  ",
      "text/html": "<div>\n<style scoped>\n    .dataframe tbody tr th:only-of-type {\n        vertical-align: middle;\n    }\n\n    .dataframe tbody tr th {\n        vertical-align: top;\n    }\n\n    .dataframe thead th {\n        text-align: right;\n    }\n</style>\n<table border=\"1\" class=\"dataframe\">\n  <thead>\n    <tr style=\"text-align: right;\">\n      <th></th>\n      <th>COD_PAN_DA_POS</th>\n      <th>SEX</th>\n      <th>DATA_NASCITA</th>\n      <th>REGIONE</th>\n      <th>PROVINCIA</th>\n      <th>COMUNE</th>\n      <th>TIPO_CARTA</th>\n      <th>DATA_BATTESIMO</th>\n      <th>SALDO_PUNTI</th>\n    </tr>\n  </thead>\n  <tbody>\n    <tr>\n      <th>0</th>\n      <td>7071161603018922195</td>\n      <td>M</td>\n      <td>1951-09-14 00:00:00</td>\n      <td>LAZIO</td>\n      <td>VITERBO</td>\n      <td>SUTRI</td>\n      <td>STARQ8_FISICA</td>\n      <td>2015-01-08 12:32:58</td>\n      <td>511.0</td>\n    </tr>\n    <tr>\n      <th>1</th>\n      <td>7071161603005992565</td>\n      <td>F</td>\n      <td>1988-09-15 00:00:00</td>\n      <td>NaN</td>\n      <td>NaN</td>\n      <td>NaN</td>\n      <td>STARQ8_FISICA</td>\n      <td>2020-07-10 12:22:35</td>\n      <td>379.0</td>\n    </tr>\n    <tr>\n      <th>2</th>\n      <td>7071161603025867243</td>\n      <td>F</td>\n      <td>1943-09-09 00:00:00</td>\n      <td>LAZIO</td>\n      <td>ROMA</td>\n      <td>ROMA</td>\n      <td>STARQ8_FISICA</td>\n      <td>2020-07-10 18:07:14</td>\n      <td>108.0</td>\n    </tr>\n    <tr>\n      <th>3</th>\n      <td>7071161603021997861</td>\n      <td>M</td>\n      <td>1974-03-01 00:00:00</td>\n      <td>SICILIA</td>\n      <td>MESSINA</td>\n      <td>MESSINA</td>\n      <td>STARQ8_FISICA</td>\n      <td>2020-07-10 18:08:21</td>\n      <td>100.0</td>\n    </tr>\n    <tr>\n      <th>4</th>\n      <td>7071161603025554049</td>\n      <td>M</td>\n      <td>1963-11-22 00:00:00</td>\n      <td>CAMPANIA</td>\n      <td>SALERNO</td>\n      <td>EBOLI</td>\n      <td>STARQ8_FISICA</td>\n      <td>2020-07-10 18:09:27</td>\n      <td>284.0</td>\n    </tr>\n  </tbody>\n</table>\n</div>"
     },
     "execution_count": 2,
     "metadata": {},
     "output_type": "execute_result"
    }
   ],
   "source": [
    "#For reduced DB as there is an Unnamed column added when performing the function\n",
    "\n",
    "#df1.drop(['Unnamed: 0'], axis = 1, inplace= True)\n",
    "#df2.drop(['Unnamed: 0'], axis = 1, inplace= True)\n",
    "#df3.drop(['Unnamed: 0'], axis = 1, inplace= True)\n",
    "\n",
    "df1.head()"
   ]
  },
  {
   "cell_type": "code",
   "execution_count": 3,
   "metadata": {},
   "outputs": [
    {
     "data": {
      "text/plain": "Index(['COD_PAN_DA_POS', 'DATA_OPERAZIONE', 'LUOGO_PRENOTAZIONE_PREMIO',\n       'CATEGORIA', 'RAGGRUPPAMENTO_MERCEOLOGICO', 'DESCRIZIONE',\n       'PUNTI_RICHIESTI', 'CONTRIBUTO_CLIENTE_CON_IVA'],\n      dtype='object')"
     },
     "execution_count": 3,
     "metadata": {},
     "output_type": "execute_result"
    }
   ],
   "source": [
    "df2.columns"
   ]
  },
  {
   "cell_type": "code",
   "execution_count": 4,
   "metadata": {},
   "outputs": [
    {
     "data": {
      "text/plain": "        COD_PAN_DA_POS DATA_OPERAZIONE LUOGO_PRENOTAZIONE_PREMIO  \\\n0  7071161603670014604      2020-09-01                    ONLINE   \n1  7071161603670014604      2020-09-01                    ONLINE   \n2  7071161603670014604      2020-09-01                    ONLINE   \n3  7071161603670014604      2020-09-01                    ONLINE   \n4  7071161603014051338      2020-09-01             PUNTO VENDITA   \n\n       CATEGORIA RAGGRUPPAMENTO_MERCEOLOGICO  \\\n0  PREMIO FISICO             PER LA TUA CASA   \n1  PREMIO FISICO             PER LA TUA CASA   \n2  PREMIO FISICO             PER LA TUA CASA   \n3  PREMIO FISICO             PER LA TUA CASA   \n4  PREMIO FISICO                      PER TE   \n\n                               DESCRIZIONE  PUNTI_RICHIESTI  \\\n0    CONSEGNA CODICE GIFT CARDS 20E AMAZON           1800.0   \n1    CONSEGNA CODICE GIFT CARDS 20E AMAZON           1800.0   \n2    CONSEGNA CODICE GIFT CARDS 20E AMAZON           1800.0   \n3    CONSEGNA CODICE GIFT CARDS 20E AMAZON           1800.0   \n4  PRENOTAZIONE PORTA CARTE CREDITO SPARCO            450.0   \n\n   CONTRIBUTO_CLIENTE_CON_IVA  \n0                         NaN  \n1                         NaN  \n2                         NaN  \n3                         NaN  \n4                         0.0  ",
      "text/html": "<div>\n<style scoped>\n    .dataframe tbody tr th:only-of-type {\n        vertical-align: middle;\n    }\n\n    .dataframe tbody tr th {\n        vertical-align: top;\n    }\n\n    .dataframe thead th {\n        text-align: right;\n    }\n</style>\n<table border=\"1\" class=\"dataframe\">\n  <thead>\n    <tr style=\"text-align: right;\">\n      <th></th>\n      <th>COD_PAN_DA_POS</th>\n      <th>DATA_OPERAZIONE</th>\n      <th>LUOGO_PRENOTAZIONE_PREMIO</th>\n      <th>CATEGORIA</th>\n      <th>RAGGRUPPAMENTO_MERCEOLOGICO</th>\n      <th>DESCRIZIONE</th>\n      <th>PUNTI_RICHIESTI</th>\n      <th>CONTRIBUTO_CLIENTE_CON_IVA</th>\n    </tr>\n  </thead>\n  <tbody>\n    <tr>\n      <th>0</th>\n      <td>7071161603670014604</td>\n      <td>2020-09-01</td>\n      <td>ONLINE</td>\n      <td>PREMIO FISICO</td>\n      <td>PER LA TUA CASA</td>\n      <td>CONSEGNA CODICE GIFT CARDS 20E AMAZON</td>\n      <td>1800.0</td>\n      <td>NaN</td>\n    </tr>\n    <tr>\n      <th>1</th>\n      <td>7071161603670014604</td>\n      <td>2020-09-01</td>\n      <td>ONLINE</td>\n      <td>PREMIO FISICO</td>\n      <td>PER LA TUA CASA</td>\n      <td>CONSEGNA CODICE GIFT CARDS 20E AMAZON</td>\n      <td>1800.0</td>\n      <td>NaN</td>\n    </tr>\n    <tr>\n      <th>2</th>\n      <td>7071161603670014604</td>\n      <td>2020-09-01</td>\n      <td>ONLINE</td>\n      <td>PREMIO FISICO</td>\n      <td>PER LA TUA CASA</td>\n      <td>CONSEGNA CODICE GIFT CARDS 20E AMAZON</td>\n      <td>1800.0</td>\n      <td>NaN</td>\n    </tr>\n    <tr>\n      <th>3</th>\n      <td>7071161603670014604</td>\n      <td>2020-09-01</td>\n      <td>ONLINE</td>\n      <td>PREMIO FISICO</td>\n      <td>PER LA TUA CASA</td>\n      <td>CONSEGNA CODICE GIFT CARDS 20E AMAZON</td>\n      <td>1800.0</td>\n      <td>NaN</td>\n    </tr>\n    <tr>\n      <th>4</th>\n      <td>7071161603014051338</td>\n      <td>2020-09-01</td>\n      <td>PUNTO VENDITA</td>\n      <td>PREMIO FISICO</td>\n      <td>PER TE</td>\n      <td>PRENOTAZIONE PORTA CARTE CREDITO SPARCO</td>\n      <td>450.0</td>\n      <td>0.0</td>\n    </tr>\n  </tbody>\n</table>\n</div>"
     },
     "execution_count": 4,
     "metadata": {},
     "output_type": "execute_result"
    }
   ],
   "source": [
    "#df4 = pd.DataFrame(columns = 'Test')\n",
    "df1['DATA_BATTESIMO'] = df1['DATA_BATTESIMO'].astype('datetime64')\n",
    "df1['DATA_BATTESIMO'] = df1['DATA_BATTESIMO'].dt.date\n",
    "\n",
    "df2['DATA_OPERAZIONE'] = df2['DATA_OPERAZIONE'].astype('datetime64')\n",
    "df2['DATA_OPERAZIONE'] = df2['DATA_OPERAZIONE'].dt.date\n",
    "df2.head()"
   ]
  },
  {
   "cell_type": "code",
   "execution_count": 5,
   "metadata": {},
   "outputs": [
    {
     "name": "stdout",
     "output_type": "stream",
     "text": [
      "Index(['COD_PAN_DA_POS', 'DATA_OPERAZIONE_x', 'LUOGO_PRENOTAZIONE_PREMIO',\n",
      "       'CATEGORIA', 'RAGGRUPPAMENTO_MERCEOLOGICO', 'DESCRIZIONE',\n",
      "       'PUNTI_RICHIESTI', 'CONTRIBUTO_CLIENTE_CON_IVA', 'COD_PV',\n",
      "       'DATA_OPERAZIONE_y', 'PRODOTTO', 'MODALITA_VENDITA', 'LITRI',\n",
      "       'PUNTI_CARBURANTE'],\n",
      "      dtype='object')\n",
      "Date of gas purchase                   object\n",
      "Gas Purchase in liters                  int64\n",
      "Unique Customer Identifier              int64\n",
      "Date of first prize claim              object\n",
      "Date difference               timedelta64[ns]\n",
      "dtype: object\n"
     ]
    },
    {
     "data": {
      "text/plain": "  Date of gas purchase  Gas Purchase in liters  Unique Customer Identifier  \\\n0           2021-03-10                      50         7071161603020806626   \n1           2021-03-24                      45         7071161603020806626   \n2           2021-03-29                      42         7071161603020806626   \n3           2021-04-01                      50         7071161603020806626   \n4           2021-04-12                      45         7071161603020806626   \n\n  Date of first prize claim Date difference  \n0                2021-08-31       -174 days  \n1                2021-08-31       -160 days  \n2                2021-08-31       -155 days  \n3                2021-08-31       -152 days  \n4                2021-08-31       -141 days  ",
      "text/html": "<div>\n<style scoped>\n    .dataframe tbody tr th:only-of-type {\n        vertical-align: middle;\n    }\n\n    .dataframe tbody tr th {\n        vertical-align: top;\n    }\n\n    .dataframe thead th {\n        text-align: right;\n    }\n</style>\n<table border=\"1\" class=\"dataframe\">\n  <thead>\n    <tr style=\"text-align: right;\">\n      <th></th>\n      <th>Date of gas purchase</th>\n      <th>Gas Purchase in liters</th>\n      <th>Unique Customer Identifier</th>\n      <th>Date of first prize claim</th>\n      <th>Date difference</th>\n    </tr>\n  </thead>\n  <tbody>\n    <tr>\n      <th>0</th>\n      <td>2021-03-10</td>\n      <td>50</td>\n      <td>7071161603020806626</td>\n      <td>2021-08-31</td>\n      <td>-174 days</td>\n    </tr>\n    <tr>\n      <th>1</th>\n      <td>2021-03-24</td>\n      <td>45</td>\n      <td>7071161603020806626</td>\n      <td>2021-08-31</td>\n      <td>-160 days</td>\n    </tr>\n    <tr>\n      <th>2</th>\n      <td>2021-03-29</td>\n      <td>42</td>\n      <td>7071161603020806626</td>\n      <td>2021-08-31</td>\n      <td>-155 days</td>\n    </tr>\n    <tr>\n      <th>3</th>\n      <td>2021-04-01</td>\n      <td>50</td>\n      <td>7071161603020806626</td>\n      <td>2021-08-31</td>\n      <td>-152 days</td>\n    </tr>\n    <tr>\n      <th>4</th>\n      <td>2021-04-12</td>\n      <td>45</td>\n      <td>7071161603020806626</td>\n      <td>2021-08-31</td>\n      <td>-141 days</td>\n    </tr>\n  </tbody>\n</table>\n</div>"
     },
     "execution_count": 5,
     "metadata": {},
     "output_type": "execute_result"
    }
   ],
   "source": [
    "df3['DATA_OPERAZIONE'] = df3['DATA_OPERAZIONE'].astype('datetime64')\n",
    "df3['DATA_OPERAZIONE'] = df3['DATA_OPERAZIONE'].dt.date\n",
    "df3.head()\n",
    "\n",
    "df2.sort_values(by=['DATA_OPERAZIONE'], inplace=True, ascending=False)\n",
    "df2.drop_duplicates('COD_PAN_DA_POS', keep='first', inplace=True)\n",
    "\n",
    "df4 = df2.merge(df3, how='inner', on='COD_PAN_DA_POS')\n",
    "print(df4.columns)\n",
    "df4 = df4.iloc[:,[0,1,9,12]]\n",
    "\n",
    "cols = df4.columns.tolist()\n",
    "new_cols = [cols[2], cols[3], cols[0], cols[1]]\n",
    "df4 = df4[new_cols]\n",
    "df4 = df4.rename(columns={'DATA_OPERAZIONE_y': 'Date of gas purchase', 'LITRI': 'Gas Purchase in liters', 'COD_PAN_DA_POS': 'Unique Customer Identifier', 'DATA_OPERAZIONE_x': 'Date of first prize claim'})\n",
    "\n",
    "df4['Date difference'] = df4['Date of gas purchase'].sub(df4['Date of first prize claim'], axis = 0)\n",
    "print(df4.dtypes)\n",
    "df4.head()"
   ]
  },
  {
   "cell_type": "code",
   "execution_count": 6,
   "metadata": {},
   "outputs": [
    {
     "name": "stdout",
     "output_type": "stream",
     "text": [
      "Date of gas purchase           object\n",
      "Gas Purchase in liters          int64\n",
      "Unique Customer Identifier      int64\n",
      "Date of first prize claim      object\n",
      "Date difference               float64\n",
      "dtype: object\n",
      "                                 OLS Regression Results                                \n",
      "=======================================================================================\n",
      "Dep. Variable:                      y   R-squared (uncentered):                   0.039\n",
      "Model:                            OLS   Adj. R-squared (uncentered):              0.039\n",
      "Method:                 Least Squares   F-statistic:                          1.682e+05\n",
      "Date:                Thu, 13 Jan 2022   Prob (F-statistic):                        0.00\n",
      "Time:                        22:58:13   Log-Likelihood:                     -2.3198e+07\n",
      "No. Observations:             4113141   AIC:                                  4.640e+07\n",
      "Df Residuals:                 4113140   BIC:                                  4.640e+07\n",
      "Df Model:                           1                                                  \n",
      "Covariance Type:            nonrobust                                                  \n",
      "==============================================================================\n",
      "                 coef    std err          t      P>|t|      [0.025      0.975]\n",
      "------------------------------------------------------------------------------\n",
      "x1             0.1149      0.000    410.078      0.000       0.114       0.115\n",
      "==============================================================================\n",
      "Omnibus:                  6386279.586   Durbin-Watson:                   0.275\n",
      "Prob(Omnibus):                  0.000   Jarque-Bera (JB):       4184833929.684\n",
      "Skew:                           9.897   Prob(JB):                         0.00\n",
      "Kurtosis:                     158.005   Cond. No.                         1.00\n",
      "==============================================================================\n",
      "\n",
      "Notes:\n",
      "[1] R² is computed without centering (uncentered) since the model does not contain a constant.\n",
      "[2] Standard Errors assume that the covariance matrix of the errors is correctly specified.\n",
      "Parameters:  [0.11492639]\n",
      "R2:  0.03927876824661358\n"
     ]
    }
   ],
   "source": [
    "Y = df4.iloc[:,1].values.reshape(-1,1)\n",
    "#df4['Date difference'] = df4['Date difference'].astype('float')  \n",
    "df4['Date difference'] = df4['Date difference']  / np.timedelta64(1,'D')\n",
    "print(df4.dtypes)\n",
    "X = df4.iloc[:,4].values.reshape(-1,1)\n",
    "\n",
    "#SkLearn LinearRegression\n",
    "lr = LinearRegression()\n",
    "#e = np.random.normal(size=len(df4))\n",
    "lr.fit(X,Y)\n",
    "Y_pred = lr.predict(X)\n",
    "\n",
    "#StatsModels OLS\n",
    "model = sm.OLS(Y, X)\n",
    "results = model.fit()\n",
    "print(results.summary())\n",
    "print(\"Parameters: \", results.params)\n",
    "print(\"R2: \", results.rsquared)"
   ]
  },
  {
   "cell_type": "code",
   "execution_count": 7,
   "metadata": {},
   "outputs": [
    {
     "data": {
      "text/plain": "<Figure size 576x432 with 1 Axes>",
      "image/png": "[encoded data removed]"
     },
     "metadata": {
      "needs_background": "light"
     },
     "output_type": "display_data"
    }
   ],
   "source": [
    "pred_ols = results.get_prediction()\n",
    "iv_l = pred_ols.summary_frame()[\"obs_ci_lower\"]\n",
    "iv_u = pred_ols.summary_frame()[\"obs_ci_upper\"]\n",
    "\n",
    "fig, ax = plt.subplots(figsize=(8, 6))\n",
    "\n",
    "ax.plot(X, Y, \"o\", label=\"data\")\n",
    "#ax.plot(x, y_true, \"b-\", label=\"True\")\n",
    "ax.plot(X, results.fittedvalues, \"r--.\", label=\"OLS\")\n",
    "ax.plot(X, iv_u, \"r--\")\n",
    "ax.plot(X, iv_l, \"r--\")\n",
    "ax.legend(loc=\"best\")\n",
    "plt.show()"
   ]
  },
  {
   "cell_type": "code",
   "execution_count": 8,
   "metadata": {},
   "outputs": [
    {
     "name": "stdout",
     "output_type": "stream",
     "text": [
      "                                 OLS Regression Results                                \n",
      "=======================================================================================\n",
      "Dep. Variable:                      y   R-squared (uncentered):                   0.046\n",
      "Model:                            OLS   Adj. R-squared (uncentered):              0.045\n",
      "Method:                 Least Squares   F-statistic:                              47.85\n",
      "Date:                Thu, 13 Jan 2022   Prob (F-statistic):                    8.22e-12\n",
      "Time:                        22:59:09   Log-Likelihood:                         -5665.3\n",
      "No. Observations:                1000   AIC:                                  1.133e+04\n",
      "Df Residuals:                     999   BIC:                                  1.134e+04\n",
      "Df Model:                           1                                                  \n",
      "Covariance Type:            nonrobust                                                  \n",
      "==============================================================================\n",
      "                 coef    std err          t      P>|t|      [0.025      0.975]\n",
      "------------------------------------------------------------------------------\n",
      "x1             0.1272      0.018      6.917      0.000       0.091       0.163\n",
      "==============================================================================\n",
      "Omnibus:                     1298.596   Durbin-Watson:                   1.329\n",
      "Prob(Omnibus):                  0.000   Jarque-Bera (JB):           193479.522\n",
      "Skew:                           6.886   Prob(JB):                         0.00\n",
      "Kurtosis:                      69.737   Cond. No.                         1.00\n",
      "==============================================================================\n",
      "\n",
      "Notes:\n",
      "[1] R² is computed without centering (uncentered) since the model does not contain a constant.\n",
      "[2] Standard Errors assume that the covariance matrix of the errors is correctly specified.\n",
      "Parameters:  [0.12719502]\n",
      "R2:  0.04570583685481411\n"
     ]
    },
    {
     "data": {
      "text/plain": "<Figure size 576x432 with 1 Axes>",
      "image/png": "[encoded data removed]"
     },
     "metadata": {
      "needs_background": "light"
     },
     "output_type": "display_data"
    }
   ],
   "source": [
    "#Using a random sample from our data\n",
    "\n",
    "df4sample = df4.sample(1000)\n",
    "Ysample = df4sample.iloc[:,1].values.reshape(-1,1)\n",
    "Xsample = df4sample.iloc[:,4].values.reshape(-1,1)\n",
    "\n",
    "model = sm.OLS(Ysample, Xsample)\n",
    "results = model.fit()\n",
    "print(results.summary())\n",
    "print(\"Parameters: \", results.params)\n",
    "print(\"R2: \", results.rsquared)\n",
    "\n",
    "pred_ols = results.get_prediction()\n",
    "#iv_l = pred_ols.summary_frame()[\"obs_ci_lower\"]\n",
    "#iv_u = pred_ols.summary_frame()[\"obs_ci_upper\"]\n",
    "\n",
    "fig, ax = plt.subplots(figsize=(8, 6))\n",
    "\n",
    "ax.plot(Xsample, Ysample, \"o\", label=\"data\")\n",
    "#ax.plot(x, y_true, \"b-\", label=\"True\")\n",
    "ax.plot(Xsample, results.fittedvalues, \"r--.\", label=\"OLS\")\n",
    "#ax.plot(Xsample, iv_u, \"r--\")\n",
    "#ax.plot(Xsample, iv_l, \"r--\")\n",
    "ax.legend(loc=\"best\")\n",
    "plt.show()"
   ]
  },
  {
   "cell_type": "code",
   "execution_count": 8,
   "metadata": {},
   "outputs": [],
   "source": []
  },
  {
   "cell_type": "code",
   "execution_count": null,
   "metadata": {
    "pycharm": {
     "is_executing": true
    }
   },
   "outputs": [
    {
     "name": "stdout",
     "output_type": "stream",
     "text": [
      "                                                 Gas Purchase in liters  \\\n",
      "Date of gas purchase Unique Customer Identifier                           \n",
      "2021-03-10           7071161603020806626                             50   \n",
      "2021-03-24           7071161603020806626                             45   \n",
      "2021-03-29           7071161603020806626                             42   \n",
      "2021-04-01           7071161603020806626                             50   \n",
      "2021-04-12           7071161603020806626                             45   \n",
      "\n",
      "                                                Date of first prize claim  \\\n",
      "Date of gas purchase Unique Customer Identifier                             \n",
      "2021-03-10           7071161603020806626                       2021-08-31   \n",
      "2021-03-24           7071161603020806626                       2021-08-31   \n",
      "2021-03-29           7071161603020806626                       2021-08-31   \n",
      "2021-04-01           7071161603020806626                       2021-08-31   \n",
      "2021-04-12           7071161603020806626                       2021-08-31   \n",
      "\n",
      "                                                 Date difference  \n",
      "Date of gas purchase Unique Customer Identifier                   \n",
      "2021-03-10           7071161603020806626                  -174.0  \n",
      "2021-03-24           7071161603020806626                  -160.0  \n",
      "2021-03-29           7071161603020806626                  -155.0  \n",
      "2021-04-01           7071161603020806626                  -152.0  \n",
      "2021-04-12           7071161603020806626                  -141.0  \n",
      "Date of gas purchase  Unique Customer Identifier\n",
      "2021-03-10            7071161603020806626           50\n",
      "2021-03-24            7071161603020806626           45\n",
      "2021-03-29            7071161603020806626           42\n",
      "2021-04-01            7071161603020806626           50\n",
      "2021-04-12            7071161603020806626           45\n",
      "                                                    ..\n",
      "2021-08-18            7071161603013206248           25\n",
      "2021-08-20            7071161603013206248           25\n",
      "2021-08-24            7071161603013206248           15\n",
      "2021-08-26            7071161603013206248           19\n",
      "2021-08-28            7071161603013206248           16\n",
      "Name: Gas Purchase in liters, Length: 4113141, dtype: int64\n",
      "Date of gas purchase  Unique Customer Identifier\n",
      "2021-03-10            7071161603020806626          -174.0\n",
      "2021-03-24            7071161603020806626          -160.0\n",
      "2021-03-29            7071161603020806626          -155.0\n",
      "2021-04-01            7071161603020806626          -152.0\n",
      "2021-04-12            7071161603020806626          -141.0\n",
      "                                                    ...  \n",
      "2021-08-18            7071161603013206248           351.0\n",
      "2021-08-20            7071161603013206248           353.0\n",
      "2021-08-24            7071161603013206248           357.0\n",
      "2021-08-26            7071161603013206248           359.0\n",
      "2021-08-28            7071161603013206248           361.0\n",
      "Name: Date difference, Length: 4113141, dtype: float64\n"
     ]
    }
   ],
   "source": [
    "#Using PanelOLS regressor to take into account time-fixed and entity-fixed effects\n",
    "\n",
    "df4=df4.set_index(['Date of gas purchase','Unique Customer Identifier'])\n",
    "print(df4.head())\n",
    "Y = df4['Gas Purchase in liters']\n",
    "X = df4['Date difference']\n",
    "print(Y)\n",
    "print(X)\n",
    "model = lm.PanelOLS(Y, X, entity_effects=True, time_effects=True).fit()\n",
    "#results = model.fit()\n",
    "print(results.summary())\n",
    "print(\"Parameters: \", results.params)\n",
    "print(\"R2: \", results.rsquared)"
   ]
  },
  {
   "cell_type": "code",
   "execution_count": null,
   "metadata": {
    "pycharm": {
     "is_executing": true
    }
   },
   "outputs": [],
   "source": [
    "df5sample.iloc[:,0]"
   ]
  },
  {
   "cell_type": "code",
   "execution_count": null,
   "metadata": {
    "pycharm": {
     "is_executing": true
    }
   },
   "outputs": [],
   "source": [
    "#path_rif_red = 'copy_master_data/Rifornimenti_Carburante_ClubQ8_red.csv'\n",
    "#df5 = pd.read_csv(path_rif_red, sep=';', decimal = ',')\n",
    "#low_liter = df5[df5.iloc[:,6] <= 100]\n",
    "#low_liter.sort_values(by=['LITRI'])\n",
    "print(df5sample.head())\n",
    "\n",
    "df5sample = df4.sample(100000)\n",
    "df5sample = df5sample[df5sample['Gas Purchase in liters'] <= 100]\n",
    "Ysample = df5sample.iloc[:,0].values.reshape(-1,1)\n",
    "Xsample = df5sample.iloc[:,2].values.reshape(-1,1)\n",
    "\n",
    "\n",
    "\n",
    "model = sm.OLS(Ysample, Xsample)\n",
    "results = model.fit()\n",
    "print(results.summary())\n",
    "print(\"Parameters: \", results.params)\n",
    "print(\"R2: \", results.rsquared)\n",
    "\n",
    "pred_ols = results.get_prediction()\n",
    "#iv_l = pred_ols.summary_frame()[\"obs_ci_lower\"]\n",
    "#iv_u = pred_ols.summary_frame()[\"obs_ci_upper\"]\n",
    "\n",
    "fig, ax = plt.subplots(figsize=(8, 6))\n",
    "\n",
    "ax.plot(Xsample, Ysample, \"o\", label=\"data\")\n",
    "#ax.plot(x, y_true, \"b-\", label=\"True\")\n",
    "ax.plot(Xsample, results.fittedvalues, \"r--.\", label=\"OLS\")\n",
    "#ax.plot(Xsample, iv_u, \"r--\")\n",
    "#ax.plot(Xsample, iv_l, \"r--\")\n",
    "ax.legend(loc=\"best\")\n",
    "plt.show()\n",
    "\n"
   ]
  },
  {
   "cell_type": "code",
   "execution_count": null,
   "metadata": {
    "pycharm": {
     "is_executing": true
    }
   },
   "outputs": [],
   "source": [
    "#sns.kdeplot(Xsample)\n",
    "sns.displot(df5sample, x=\"Gas Purchase in liters\", binwidth=3)\n",
    "plt.show()"
   ]
  },
  {
   "cell_type": "code",
   "execution_count": null,
   "metadata": {
    "pycharm": {
     "is_executing": true
    }
   },
   "outputs": [],
   "source": []
  }
 ],
 "metadata": {
  "kernelspec": {
   "display_name": "Python 3 (ipykernel)",
   "language": "python",
   "name": "python3"
  },
  "language_info": {
   "codemirror_mode": {
    "name": "ipython",
    "version": 3
   },
   "file_extension": ".py",
   "mimetype": "text/x-python",
   "name": "python",
   "nbconvert_exporter": "python",
   "pygments_lexer": "ipython3",
   "version": "3.9.7"
  }
 },
 "nbformat": 4,
 "nbformat_minor": 4
}
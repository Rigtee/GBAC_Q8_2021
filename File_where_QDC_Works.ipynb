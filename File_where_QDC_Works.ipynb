{
 "cells": [
  {
   "cell_type": "code",
   "execution_count": 1,
   "metadata": {},
   "outputs": [],
   "source": [
    "import pandas as pd\n",
    "import numpy as np\n",
    "import matplotlib.pyplot as plt\n",
    "import matplotlib.cm as cm\n",
    "import datetime as DT\n",
    "import io"
   ]
  },
  {
   "cell_type": "code",
   "execution_count": 3,
   "metadata": {},
   "outputs": [
    {
     "name": "stderr",
     "output_type": "stream",
     "text": [
      "/Users/eduardomaia/PycharmProjects/GBAC_Q8_2021/venv/lib/python3.8/site-packages/IPython/core/interactiveshell.py:3444: DtypeWarning: Columns (6) have mixed types.Specify dtype option on import or set low_memory=False.\n",
      "  exec(code_obj, self.user_global_ns, self.user_ns)\n"
     ]
    }
   ],
   "source": [
    "df=pd.read_csv('master_data/Premi_ClubQ8.csv', sep=';', index_col='COD_PAN_DA_POS')"
   ]
  },
  {
   "cell_type": "code",
   "execution_count": 162,
   "metadata": {},
   "outputs": [],
   "source": [
    "df_head = df.head(1000)"
   ]
  },
  {
   "cell_type": "code",
   "execution_count": 163,
   "metadata": {},
   "outputs": [],
   "source": [
    "# see the caategorical variables and the absolute variables\n",
    "cols_focus_cat = [\n",
    "    'LUOGO_PRENOTAZIONE_PREMIO',\n",
    "    'CATEGORIA',\n",
    "    'RAGGRUPPAMENTO_MERCEOLOGICO',\n",
    "    'DESCRIZIONE',\n",
    "]\n",
    "cols_focus_num = [\n",
    "    'PUNTI_RICHIESTI',\n",
    "    'CONTRIBUTO_CLIENTE_CON_IVA',\n",
    "]"
   ]
  },
  {
   "cell_type": "code",
   "execution_count": 164,
   "metadata": {},
   "outputs": [],
   "source": [
    "cols_focus = cols_focus_cat + cols_focus_num"
   ]
  },
  {
   "cell_type": "code",
   "execution_count": 165,
   "metadata": {},
   "outputs": [
    {
     "data": {
      "text/html": [
       "<div>\n",
       "<style scoped>\n",
       "    .dataframe tbody tr th:only-of-type {\n",
       "        vertical-align: middle;\n",
       "    }\n",
       "\n",
       "    .dataframe tbody tr th {\n",
       "        vertical-align: top;\n",
       "    }\n",
       "\n",
       "    .dataframe thead th {\n",
       "        text-align: right;\n",
       "    }\n",
       "</style>\n",
       "<table border=\"1\" class=\"dataframe\">\n",
       "  <thead>\n",
       "    <tr style=\"text-align: right;\">\n",
       "      <th></th>\n",
       "      <th>count</th>\n",
       "      <th>unique</th>\n",
       "      <th>top</th>\n",
       "      <th>freq</th>\n",
       "    </tr>\n",
       "  </thead>\n",
       "  <tbody>\n",
       "    <tr>\n",
       "      <th>PUNTI_RICHIESTI</th>\n",
       "      <td>501220</td>\n",
       "      <td>324</td>\n",
       "      <td>430</td>\n",
       "      <td>160070</td>\n",
       "    </tr>\n",
       "    <tr>\n",
       "      <th>CONTRIBUTO_CLIENTE_CON_IVA</th>\n",
       "      <td>463554</td>\n",
       "      <td>42</td>\n",
       "      <td>0,000000</td>\n",
       "      <td>389550</td>\n",
       "    </tr>\n",
       "  </tbody>\n",
       "</table>\n",
       "</div>"
      ],
      "text/plain": [
       "                             count unique       top    freq\n",
       "PUNTI_RICHIESTI             501220    324       430  160070\n",
       "CONTRIBUTO_CLIENTE_CON_IVA  463554     42  0,000000  389550"
      ]
     },
     "execution_count": 165,
     "metadata": {},
     "output_type": "execute_result"
    }
   ],
   "source": [
    "df[cols_focus_num].describe().transpose()"
   ]
  },
  {
   "cell_type": "code",
   "execution_count": 166,
   "metadata": {},
   "outputs": [
    {
     "data": {
      "text/html": [
       "<div>\n",
       "<style scoped>\n",
       "    .dataframe tbody tr th:only-of-type {\n",
       "        vertical-align: middle;\n",
       "    }\n",
       "\n",
       "    .dataframe tbody tr th {\n",
       "        vertical-align: top;\n",
       "    }\n",
       "\n",
       "    .dataframe thead th {\n",
       "        text-align: right;\n",
       "    }\n",
       "</style>\n",
       "<table border=\"1\" class=\"dataframe\">\n",
       "  <thead>\n",
       "    <tr style=\"text-align: right;\">\n",
       "      <th></th>\n",
       "      <th>count</th>\n",
       "      <th>unique</th>\n",
       "      <th>top</th>\n",
       "      <th>freq</th>\n",
       "    </tr>\n",
       "  </thead>\n",
       "  <tbody>\n",
       "    <tr>\n",
       "      <th>LUOGO_PRENOTAZIONE_PREMIO</th>\n",
       "      <td>501449</td>\n",
       "      <td>2</td>\n",
       "      <td>PUNTO VENDITA</td>\n",
       "      <td>469059</td>\n",
       "    </tr>\n",
       "    <tr>\n",
       "      <th>CATEGORIA</th>\n",
       "      <td>501449</td>\n",
       "      <td>2</td>\n",
       "      <td>BUONO SCONTO CARBURANTE</td>\n",
       "      <td>272660</td>\n",
       "    </tr>\n",
       "    <tr>\n",
       "      <th>RAGGRUPPAMENTO_MERCEOLOGICO</th>\n",
       "      <td>501449</td>\n",
       "      <td>20</td>\n",
       "      <td>BUONO SCONTO CARBURANTE</td>\n",
       "      <td>272660</td>\n",
       "    </tr>\n",
       "    <tr>\n",
       "      <th>DESCRIZIONE</th>\n",
       "      <td>501449</td>\n",
       "      <td>393</td>\n",
       "      <td>BUONO SCONTO CARB 4E 430 PUNTI</td>\n",
       "      <td>88550</td>\n",
       "    </tr>\n",
       "  </tbody>\n",
       "</table>\n",
       "</div>"
      ],
      "text/plain": [
       "                              count unique                             top  \\\n",
       "LUOGO_PRENOTAZIONE_PREMIO    501449      2                   PUNTO VENDITA   \n",
       "CATEGORIA                    501449      2         BUONO SCONTO CARBURANTE   \n",
       "RAGGRUPPAMENTO_MERCEOLOGICO  501449     20         BUONO SCONTO CARBURANTE   \n",
       "DESCRIZIONE                  501449    393  BUONO SCONTO CARB 4E 430 PUNTI   \n",
       "\n",
       "                               freq  \n",
       "LUOGO_PRENOTAZIONE_PREMIO    469059  \n",
       "CATEGORIA                    272660  \n",
       "RAGGRUPPAMENTO_MERCEOLOGICO  272660  \n",
       "DESCRIZIONE                   88550  "
      ]
     },
     "execution_count": 166,
     "metadata": {},
     "output_type": "execute_result"
    }
   ],
   "source": [
    "df[cols_focus_cat].astype(str).describe().transpose()"
   ]
  },
  {
   "cell_type": "code",
   "execution_count": 167,
   "metadata": {},
   "outputs": [],
   "source": [
    "def get_frequencies(series: pd.Series, n_categories: int = None, \n",
    "                    bins: int = None, dropna: bool = True\n",
    "                    ) -> pd.DataFrame:\n",
    "    vc = series.value_counts(ascending=False,\n",
    "                             bins=bins,\n",
    "                             dropna=dropna\n",
    "                            ) \n",
    "    if n_categories is not None:\n",
    "        if not isinstance(n_categories, int) or n_categories <= 0:\n",
    "            raise TypeError('n_categories should be a strictly positive integer')\n",
    "        if n_categories < len(vc):\n",
    "            freq_others = vc.iloc[n_categories - 1:].sum()\n",
    "            vc = vc.iloc[:n_categories - 1]\\\n",
    "                   .append(pd.Series({'others': freq_others}))\n",
    "    return pd.DataFrame({'absolute': vc,\n",
    "                         'relative': vc / len(series) * 100,\n",
    "                         },\n",
    "                        index=vc.index\n",
    "                        )"
   ]
  },
  {
   "cell_type": "code",
   "execution_count": 168,
   "metadata": {},
   "outputs": [
    {
     "data": {
      "text/html": [
       "<div>\n",
       "<style scoped>\n",
       "    .dataframe tbody tr th:only-of-type {\n",
       "        vertical-align: middle;\n",
       "    }\n",
       "\n",
       "    .dataframe tbody tr th {\n",
       "        vertical-align: top;\n",
       "    }\n",
       "\n",
       "    .dataframe thead th {\n",
       "        text-align: right;\n",
       "    }\n",
       "</style>\n",
       "<table border=\"1\" class=\"dataframe\">\n",
       "  <thead>\n",
       "    <tr style=\"text-align: right;\">\n",
       "      <th></th>\n",
       "      <th>absolute</th>\n",
       "      <th>relative</th>\n",
       "    </tr>\n",
       "  </thead>\n",
       "  <tbody>\n",
       "    <tr>\n",
       "      <th>BUONO SCONTO CARBURANTE</th>\n",
       "      <td>272660</td>\n",
       "      <td>54.374423</td>\n",
       "    </tr>\n",
       "    <tr>\n",
       "      <th>PREMIO FISICO</th>\n",
       "      <td>228789</td>\n",
       "      <td>45.625577</td>\n",
       "    </tr>\n",
       "  </tbody>\n",
       "</table>\n",
       "</div>"
      ],
      "text/plain": [
       "                         absolute   relative\n",
       "BUONO SCONTO CARBURANTE    272660  54.374423\n",
       "PREMIO FISICO              228789  45.625577"
      ]
     },
     "execution_count": 168,
     "metadata": {},
     "output_type": "execute_result"
    }
   ],
   "source": [
    "get_frequencies(df['CATEGORIA'], n_categories=2)"
   ]
  },
  {
   "cell_type": "code",
   "execution_count": 169,
   "metadata": {},
   "outputs": [
    {
     "data": {
      "text/html": [
       "<div>\n",
       "<style scoped>\n",
       "    .dataframe tbody tr th:only-of-type {\n",
       "        vertical-align: middle;\n",
       "    }\n",
       "\n",
       "    .dataframe tbody tr th {\n",
       "        vertical-align: top;\n",
       "    }\n",
       "\n",
       "    .dataframe thead th {\n",
       "        text-align: right;\n",
       "    }\n",
       "</style>\n",
       "<table border=\"1\" class=\"dataframe\">\n",
       "  <thead>\n",
       "    <tr style=\"text-align: right;\">\n",
       "      <th></th>\n",
       "      <th>absolute</th>\n",
       "      <th>relative</th>\n",
       "    </tr>\n",
       "  </thead>\n",
       "  <tbody>\n",
       "    <tr>\n",
       "      <th>PUNTO VENDITA</th>\n",
       "      <td>469059</td>\n",
       "      <td>93.540719</td>\n",
       "    </tr>\n",
       "    <tr>\n",
       "      <th>ONLINE</th>\n",
       "      <td>32390</td>\n",
       "      <td>6.459281</td>\n",
       "    </tr>\n",
       "  </tbody>\n",
       "</table>\n",
       "</div>"
      ],
      "text/plain": [
       "               absolute   relative\n",
       "PUNTO VENDITA    469059  93.540719\n",
       "ONLINE            32390   6.459281"
      ]
     },
     "execution_count": 169,
     "metadata": {},
     "output_type": "execute_result"
    }
   ],
   "source": [
    "get_frequencies(df['LUOGO_PRENOTAZIONE_PREMIO'], n_categories=2)"
   ]
  },
  {
   "cell_type": "code",
   "execution_count": 170,
   "metadata": {},
   "outputs": [
    {
     "data": {
      "text/html": [
       "<div>\n",
       "<style scoped>\n",
       "    .dataframe tbody tr th:only-of-type {\n",
       "        vertical-align: middle;\n",
       "    }\n",
       "\n",
       "    .dataframe tbody tr th {\n",
       "        vertical-align: top;\n",
       "    }\n",
       "\n",
       "    .dataframe thead th {\n",
       "        text-align: right;\n",
       "    }\n",
       "</style>\n",
       "<table border=\"1\" class=\"dataframe\">\n",
       "  <thead>\n",
       "    <tr style=\"text-align: right;\">\n",
       "      <th></th>\n",
       "      <th>absolute</th>\n",
       "      <th>relative</th>\n",
       "    </tr>\n",
       "  </thead>\n",
       "  <tbody>\n",
       "    <tr>\n",
       "      <th>BUONO SCONTO CARBURANTE</th>\n",
       "      <td>272660</td>\n",
       "      <td>54.374423</td>\n",
       "    </tr>\n",
       "    <tr>\n",
       "      <th>PER LA TUA CASA</th>\n",
       "      <td>68450</td>\n",
       "      <td>13.650441</td>\n",
       "    </tr>\n",
       "    <tr>\n",
       "      <th>PER TE</th>\n",
       "      <td>30569</td>\n",
       "      <td>6.096133</td>\n",
       "    </tr>\n",
       "    <tr>\n",
       "      <th>ELETTRONICA</th>\n",
       "      <td>24924</td>\n",
       "      <td>4.970396</td>\n",
       "    </tr>\n",
       "    <tr>\n",
       "      <th>TAVOLA &amp; CUCINA</th>\n",
       "      <td>20407</td>\n",
       "      <td>4.069606</td>\n",
       "    </tr>\n",
       "    <tr>\n",
       "      <th>CASA</th>\n",
       "      <td>18529</td>\n",
       "      <td>3.695092</td>\n",
       "    </tr>\n",
       "    <tr>\n",
       "      <th>ELETTRODOMESTICI</th>\n",
       "      <td>17489</td>\n",
       "      <td>3.487693</td>\n",
       "    </tr>\n",
       "    <tr>\n",
       "      <th>PER IL TUO BENESSERE</th>\n",
       "      <td>14858</td>\n",
       "      <td>2.963013</td>\n",
       "    </tr>\n",
       "    <tr>\n",
       "      <th>TEMPO LIBERO</th>\n",
       "      <td>9569</td>\n",
       "      <td>1.908270</td>\n",
       "    </tr>\n",
       "    <tr>\n",
       "      <th>MODA</th>\n",
       "      <td>7237</td>\n",
       "      <td>1.443218</td>\n",
       "    </tr>\n",
       "    <tr>\n",
       "      <th>SPORT</th>\n",
       "      <td>3438</td>\n",
       "      <td>0.685613</td>\n",
       "    </tr>\n",
       "    <tr>\n",
       "      <th>PER IL TUO AMBIENTE</th>\n",
       "      <td>2849</td>\n",
       "      <td>0.568153</td>\n",
       "    </tr>\n",
       "    <tr>\n",
       "      <th>PER IL TUO BAMBINO</th>\n",
       "      <td>2837</td>\n",
       "      <td>0.565760</td>\n",
       "    </tr>\n",
       "    <tr>\n",
       "      <th>PER IL TUO VIAGGIO</th>\n",
       "      <td>2171</td>\n",
       "      <td>0.432945</td>\n",
       "    </tr>\n",
       "    <tr>\n",
       "      <th>BAMBINI</th>\n",
       "      <td>1749</td>\n",
       "      <td>0.348789</td>\n",
       "    </tr>\n",
       "    <tr>\n",
       "      <th>AMICI A 4 ZAMPE</th>\n",
       "      <td>1554</td>\n",
       "      <td>0.309902</td>\n",
       "    </tr>\n",
       "    <tr>\n",
       "      <th>GUARDA &amp; PRENOTA</th>\n",
       "      <td>1366</td>\n",
       "      <td>0.272411</td>\n",
       "    </tr>\n",
       "    <tr>\n",
       "      <th>BELLEZZA &amp; BENESSERE</th>\n",
       "      <td>698</td>\n",
       "      <td>0.139197</td>\n",
       "    </tr>\n",
       "    <tr>\n",
       "      <th>PER IL  TUO CUCCIOLO</th>\n",
       "      <td>60</td>\n",
       "      <td>0.011965</td>\n",
       "    </tr>\n",
       "    <tr>\n",
       "      <th>ONLUS &amp; PROGETTI</th>\n",
       "      <td>35</td>\n",
       "      <td>0.006980</td>\n",
       "    </tr>\n",
       "  </tbody>\n",
       "</table>\n",
       "</div>"
      ],
      "text/plain": [
       "                         absolute   relative\n",
       "BUONO SCONTO CARBURANTE    272660  54.374423\n",
       "PER LA TUA CASA             68450  13.650441\n",
       "PER TE                      30569   6.096133\n",
       "ELETTRONICA                 24924   4.970396\n",
       "TAVOLA & CUCINA             20407   4.069606\n",
       "CASA                        18529   3.695092\n",
       "ELETTRODOMESTICI            17489   3.487693\n",
       "PER IL TUO BENESSERE        14858   2.963013\n",
       "TEMPO LIBERO                 9569   1.908270\n",
       "MODA                         7237   1.443218\n",
       "SPORT                        3438   0.685613\n",
       "PER IL TUO AMBIENTE          2849   0.568153\n",
       "PER IL TUO BAMBINO           2837   0.565760\n",
       "PER IL TUO VIAGGIO           2171   0.432945\n",
       "BAMBINI                      1749   0.348789\n",
       "AMICI A 4 ZAMPE              1554   0.309902\n",
       "GUARDA & PRENOTA             1366   0.272411\n",
       "BELLEZZA & BENESSERE          698   0.139197\n",
       "PER IL  TUO CUCCIOLO           60   0.011965\n",
       "ONLUS & PROGETTI               35   0.006980"
      ]
     },
     "execution_count": 170,
     "metadata": {},
     "output_type": "execute_result"
    }
   ],
   "source": [
    "get_frequencies(df['RAGGRUPPAMENTO_MERCEOLOGICO'], n_categories=20)"
   ]
  },
  {
   "cell_type": "code",
   "execution_count": null,
   "metadata": {},
   "outputs": [],
   "source": []
  },
  {
   "cell_type": "code",
   "execution_count": 171,
   "metadata": {},
   "outputs": [
    {
     "data": {
      "text/plain": [
       "435"
      ]
     },
     "execution_count": 171,
     "metadata": {},
     "output_type": "execute_result"
    }
   ],
   "source": [
    "len(df[df['DESCRIZIONE'].str.contains('ANNULLO ')])\n"
   ]
  },
  {
   "cell_type": "code",
   "execution_count": 172,
   "metadata": {},
   "outputs": [
    {
     "data": {
      "text/html": [
       "<div>\n",
       "<style scoped>\n",
       "    .dataframe tbody tr th:only-of-type {\n",
       "        vertical-align: middle;\n",
       "    }\n",
       "\n",
       "    .dataframe tbody tr th {\n",
       "        vertical-align: top;\n",
       "    }\n",
       "\n",
       "    .dataframe thead th {\n",
       "        text-align: right;\n",
       "    }\n",
       "</style>\n",
       "<table border=\"1\" class=\"dataframe\">\n",
       "  <thead>\n",
       "    <tr style=\"text-align: right;\">\n",
       "      <th></th>\n",
       "      <th>absolute</th>\n",
       "      <th>relative</th>\n",
       "    </tr>\n",
       "  </thead>\n",
       "  <tbody>\n",
       "    <tr>\n",
       "      <th>BUONO SCONTO CARB 4E 430 PUNTI</th>\n",
       "      <td>88550</td>\n",
       "      <td>17.658825</td>\n",
       "    </tr>\n",
       "    <tr>\n",
       "      <th>BUONO SCONTO CARB 4E 860 PUNTI</th>\n",
       "      <td>70302</td>\n",
       "      <td>14.019771</td>\n",
       "    </tr>\n",
       "    <tr>\n",
       "      <th>BUONO SCONTO CARB 4E 1290 PUNTI</th>\n",
       "      <td>66117</td>\n",
       "      <td>13.185189</td>\n",
       "    </tr>\n",
       "    <tr>\n",
       "      <th>BUONO SCONTO CARB 4E 2580 PUNTI</th>\n",
       "      <td>47553</td>\n",
       "      <td>9.483118</td>\n",
       "    </tr>\n",
       "    <tr>\n",
       "      <th>CONSEGNA PASTA GAROFALO</th>\n",
       "      <td>30722</td>\n",
       "      <td>6.126645</td>\n",
       "    </tr>\n",
       "    <tr>\n",
       "      <th>...</th>\n",
       "      <td>...</td>\n",
       "      <td>...</td>\n",
       "    </tr>\n",
       "    <tr>\n",
       "      <th>ANNULLO PRENOTAZIONE OROL.+ BRACCIALE</th>\n",
       "      <td>1</td>\n",
       "      <td>0.000199</td>\n",
       "    </tr>\n",
       "    <tr>\n",
       "      <th>ANNULLO PRENOTAZIONE SECTOR OROLOGIO +BRACCIALE DO</th>\n",
       "      <td>1</td>\n",
       "      <td>0.000199</td>\n",
       "    </tr>\n",
       "    <tr>\n",
       "      <th>ANNULLO PRENOTAZIONE PINZA SCOLAFRITTO</th>\n",
       "      <td>1</td>\n",
       "      <td>0.000199</td>\n",
       "    </tr>\n",
       "    <tr>\n",
       "      <th>ANNULLO PRENOTAZIONE OROLOGIO UOMO</th>\n",
       "      <td>1</td>\n",
       "      <td>0.000199</td>\n",
       "    </tr>\n",
       "    <tr>\n",
       "      <th>ANNULLO PRENOTAZIONE GALAXY A12 BLACK</th>\n",
       "      <td>1</td>\n",
       "      <td>0.000199</td>\n",
       "    </tr>\n",
       "  </tbody>\n",
       "</table>\n",
       "<p>393 rows × 2 columns</p>\n",
       "</div>"
      ],
      "text/plain": [
       "                                                    absolute   relative\n",
       "BUONO SCONTO CARB 4E 430 PUNTI                         88550  17.658825\n",
       "BUONO SCONTO CARB 4E 860 PUNTI                         70302  14.019771\n",
       "BUONO SCONTO CARB 4E 1290 PUNTI                        66117  13.185189\n",
       "BUONO SCONTO CARB 4E 2580 PUNTI                        47553   9.483118\n",
       "CONSEGNA PASTA GAROFALO                                30722   6.126645\n",
       "...                                                      ...        ...\n",
       "ANNULLO PRENOTAZIONE OROL.+ BRACCIALE                      1   0.000199\n",
       "ANNULLO PRENOTAZIONE SECTOR OROLOGIO +BRACCIALE DO         1   0.000199\n",
       "ANNULLO PRENOTAZIONE PINZA SCOLAFRITTO                     1   0.000199\n",
       "ANNULLO PRENOTAZIONE OROLOGIO UOMO                         1   0.000199\n",
       "ANNULLO PRENOTAZIONE GALAXY A12 BLACK                      1   0.000199\n",
       "\n",
       "[393 rows x 2 columns]"
      ]
     },
     "execution_count": 172,
     "metadata": {},
     "output_type": "execute_result"
    }
   ],
   "source": [
    "get_frequencies(df['DESCRIZIONE'], n_categories=393)"
   ]
  },
  {
   "cell_type": "code",
   "execution_count": 173,
   "metadata": {},
   "outputs": [
    {
     "data": {
      "text/plain": [
       "BUONO SCONTO CARB 4E 430 PUNTI                        88550\n",
       "BUONO SCONTO CARB 4E 860 PUNTI                        70302\n",
       "BUONO SCONTO CARB 4E 1290 PUNTI                       66117\n",
       "BUONO SCONTO CARB 4E 2580 PUNTI                       47553\n",
       "CONSEGNA PASTA GAROFALO                               30722\n",
       "                                                      ...  \n",
       "ANNULLO PRENOTAZIONE OROL.+ BRACCIALE                     1\n",
       "ANNULLO PRENOTAZIONE SECTOR OROLOGIO +BRACCIALE DO        1\n",
       "ANNULLO PRENOTAZIONE PINZA SCOLAFRITTO                    1\n",
       "ANNULLO PRENOTAZIONE OROLOGIO UOMO                        1\n",
       "ANNULLO PRENOTAZIONE GALAXY A12 BLACK                     1\n",
       "Name: DESCRIZIONE, Length: 393, dtype: int64"
      ]
     },
     "execution_count": 173,
     "metadata": {},
     "output_type": "execute_result"
    }
   ],
   "source": [
    "df['DESCRIZIONE'].value_counts()"
   ]
  },
  {
   "cell_type": "code",
   "execution_count": null,
   "metadata": {},
   "outputs": [],
   "source": []
  },
  {
   "cell_type": "code",
   "execution_count": null,
   "metadata": {},
   "outputs": [],
   "source": []
  },
  {
   "cell_type": "code",
   "execution_count": 174,
   "metadata": {},
   "outputs": [
    {
     "data": {
      "text/html": [
       "<div>\n",
       "<style scoped>\n",
       "    .dataframe tbody tr th:only-of-type {\n",
       "        vertical-align: middle;\n",
       "    }\n",
       "\n",
       "    .dataframe tbody tr th {\n",
       "        vertical-align: top;\n",
       "    }\n",
       "\n",
       "    .dataframe thead th {\n",
       "        text-align: right;\n",
       "    }\n",
       "</style>\n",
       "<table border=\"1\" class=\"dataframe\">\n",
       "  <thead>\n",
       "    <tr style=\"text-align: right;\">\n",
       "      <th></th>\n",
       "      <th>absolute</th>\n",
       "      <th>relative</th>\n",
       "    </tr>\n",
       "  </thead>\n",
       "  <tbody>\n",
       "    <tr>\n",
       "      <th>BUONO SCONTO CARB 4E 430 PUNTI</th>\n",
       "      <td>88550</td>\n",
       "      <td>17.658825</td>\n",
       "    </tr>\n",
       "    <tr>\n",
       "      <th>BUONO SCONTO CARB 4E 860 PUNTI</th>\n",
       "      <td>70302</td>\n",
       "      <td>14.019771</td>\n",
       "    </tr>\n",
       "    <tr>\n",
       "      <th>BUONO SCONTO CARB 4E 1290 PUNTI</th>\n",
       "      <td>66117</td>\n",
       "      <td>13.185189</td>\n",
       "    </tr>\n",
       "    <tr>\n",
       "      <th>BUONO SCONTO CARB 4E 2580 PUNTI</th>\n",
       "      <td>47553</td>\n",
       "      <td>9.483118</td>\n",
       "    </tr>\n",
       "    <tr>\n",
       "      <th>CONSEGNA PASTA GAROFALO</th>\n",
       "      <td>30722</td>\n",
       "      <td>6.126645</td>\n",
       "    </tr>\n",
       "    <tr>\n",
       "      <th>...</th>\n",
       "      <td>...</td>\n",
       "      <td>...</td>\n",
       "    </tr>\n",
       "    <tr>\n",
       "      <th>ANNULLO PRENOTAZIONE OROL.+ BRACCIALE</th>\n",
       "      <td>1</td>\n",
       "      <td>0.000199</td>\n",
       "    </tr>\n",
       "    <tr>\n",
       "      <th>ANNULLO PRENOTAZIONE SECTOR OROLOGIO +BRACCIALE DO</th>\n",
       "      <td>1</td>\n",
       "      <td>0.000199</td>\n",
       "    </tr>\n",
       "    <tr>\n",
       "      <th>ANNULLO PRENOTAZIONE PINZA SCOLAFRITTO</th>\n",
       "      <td>1</td>\n",
       "      <td>0.000199</td>\n",
       "    </tr>\n",
       "    <tr>\n",
       "      <th>ANNULLO PRENOTAZIONE OROLOGIO UOMO</th>\n",
       "      <td>1</td>\n",
       "      <td>0.000199</td>\n",
       "    </tr>\n",
       "    <tr>\n",
       "      <th>ANNULLO PRENOTAZIONE GALAXY A12 BLACK</th>\n",
       "      <td>1</td>\n",
       "      <td>0.000199</td>\n",
       "    </tr>\n",
       "  </tbody>\n",
       "</table>\n",
       "<p>393 rows × 2 columns</p>\n",
       "</div>"
      ],
      "text/plain": [
       "                                                    absolute   relative\n",
       "BUONO SCONTO CARB 4E 430 PUNTI                         88550  17.658825\n",
       "BUONO SCONTO CARB 4E 860 PUNTI                         70302  14.019771\n",
       "BUONO SCONTO CARB 4E 1290 PUNTI                        66117  13.185189\n",
       "BUONO SCONTO CARB 4E 2580 PUNTI                        47553   9.483118\n",
       "CONSEGNA PASTA GAROFALO                                30722   6.126645\n",
       "...                                                      ...        ...\n",
       "ANNULLO PRENOTAZIONE OROL.+ BRACCIALE                      1   0.000199\n",
       "ANNULLO PRENOTAZIONE SECTOR OROLOGIO +BRACCIALE DO         1   0.000199\n",
       "ANNULLO PRENOTAZIONE PINZA SCOLAFRITTO                     1   0.000199\n",
       "ANNULLO PRENOTAZIONE OROLOGIO UOMO                         1   0.000199\n",
       "ANNULLO PRENOTAZIONE GALAXY A12 BLACK                      1   0.000199\n",
       "\n",
       "[393 rows x 2 columns]"
      ]
     },
     "execution_count": 174,
     "metadata": {},
     "output_type": "execute_result"
    }
   ],
   "source": [
    "get_frequencies(df['DESCRIZIONE'], n_categories=393)"
   ]
  },
  {
   "cell_type": "code",
   "execution_count": 175,
   "metadata": {},
   "outputs": [
    {
     "data": {
      "text/plain": [
       "BUONO SCONTO CARBURANTE    272660\n",
       "PREMIO FISICO              228789\n",
       "Name: CATEGORIA, dtype: int64"
      ]
     },
     "execution_count": 175,
     "metadata": {},
     "output_type": "execute_result"
    }
   ],
   "source": [
    "df['CATEGORIA'].value_counts()"
   ]
  },
  {
   "cell_type": "code",
   "execution_count": null,
   "metadata": {},
   "outputs": [],
   "source": []
  },
  {
   "cell_type": "code",
   "execution_count": 176,
   "metadata": {},
   "outputs": [
    {
     "data": {
      "text/plain": [
       "PUNTO VENDITA    469059\n",
       "ONLINE            32390\n",
       "Name: LUOGO_PRENOTAZIONE_PREMIO, dtype: int64"
      ]
     },
     "execution_count": 176,
     "metadata": {},
     "output_type": "execute_result"
    }
   ],
   "source": [
    "df['LUOGO_PRENOTAZIONE_PREMIO'].value_counts()"
   ]
  },
  {
   "cell_type": "code",
   "execution_count": 177,
   "metadata": {},
   "outputs": [
    {
     "data": {
      "text/plain": [
       "BUONO SCONTO CARBURANTE    272660\n",
       "PER LA TUA CASA             68450\n",
       "PER TE                      30569\n",
       "ELETTRONICA                 24924\n",
       "TAVOLA & CUCINA             20407\n",
       "CASA                        18529\n",
       "ELETTRODOMESTICI            17489\n",
       "PER IL TUO BENESSERE        14858\n",
       "TEMPO LIBERO                 9569\n",
       "MODA                         7237\n",
       "SPORT                        3438\n",
       "PER IL TUO AMBIENTE          2849\n",
       "PER IL TUO BAMBINO           2837\n",
       "PER IL TUO VIAGGIO           2171\n",
       "BAMBINI                      1749\n",
       "AMICI A 4 ZAMPE              1554\n",
       "GUARDA & PRENOTA             1366\n",
       "BELLEZZA & BENESSERE          698\n",
       "PER IL  TUO CUCCIOLO           60\n",
       "ONLUS & PROGETTI               35\n",
       "Name: RAGGRUPPAMENTO_MERCEOLOGICO, dtype: int64"
      ]
     },
     "execution_count": 177,
     "metadata": {},
     "output_type": "execute_result"
    }
   ],
   "source": [
    "df['RAGGRUPPAMENTO_MERCEOLOGICO'].value_counts()"
   ]
  },
  {
   "cell_type": "code",
   "execution_count": 178,
   "metadata": {},
   "outputs": [
    {
     "data": {
      "text/plain": [
       "BUONO SCONTO CARB 4E 430 PUNTI                        88550\n",
       "BUONO SCONTO CARB 4E 860 PUNTI                        70302\n",
       "BUONO SCONTO CARB 4E 1290 PUNTI                       66117\n",
       "BUONO SCONTO CARB 4E 2580 PUNTI                       47553\n",
       "CONSEGNA PASTA GAROFALO                               30722\n",
       "                                                      ...  \n",
       "ANNULLO PRENOTAZIONE OROL.+ BRACCIALE                     1\n",
       "ANNULLO PRENOTAZIONE SECTOR OROLOGIO +BRACCIALE DO        1\n",
       "ANNULLO PRENOTAZIONE PINZA SCOLAFRITTO                    1\n",
       "ANNULLO PRENOTAZIONE OROLOGIO UOMO                        1\n",
       "ANNULLO PRENOTAZIONE GALAXY A12 BLACK                     1\n",
       "Name: DESCRIZIONE, Length: 393, dtype: int64"
      ]
     },
     "execution_count": 178,
     "metadata": {},
     "output_type": "execute_result"
    }
   ],
   "source": [
    "df['DESCRIZIONE'].value_counts()"
   ]
  },
  {
   "cell_type": "code",
   "execution_count": 179,
   "metadata": {},
   "outputs": [
    {
     "data": {
      "text/plain": [
       "<function matplotlib.pyplot.show(close=None, block=None)>"
      ]
     },
     "execution_count": 179,
     "metadata": {},
     "output_type": "execute_result"
    },
    {
     "data": {
      "image/png": "[encoded data removed]",
      "text/plain": [
       "<Figure size 432x432 with 1 Axes>"
      ]
     },
     "metadata": {},
     "output_type": "display_data"
    }
   ],
   "source": [
    "tmp = get_frequencies(df['CATEGORIA'], n_categories=2)['relative']\n",
    "cmap = cm.get_cmap('viridis')\n",
    "ax = tmp.plot(kind='pie',\n",
    "              title=\"More fuel or Rewards?\", autopct='{:02.2f}%'.format,\n",
    "              legend=True,\n",
    "              labeldistance=None,\n",
    "              startangle=170,\n",
    "              colors=[cmap(i) for i in np.linspace(.25, .9, len(tmp\n",
    " ))],\n",
    "              figsize=(6, 6)\n",
    "             )\n",
    "ax.set(ylabel='')\n",
    "plt.show\n"
   ]
  },
  {
   "cell_type": "code",
   "execution_count": 20,
   "metadata": {},
   "outputs": [
    {
     "data": {
      "text/plain": [
       "['BUONO SCONTO CARB 4E 1290 PUNTI',\n",
       " 'BUONO SCONTO CARB 4E 2580 PUNTI',\n",
       " 'BUONO SCONTO CARB 4E 430 PUNTI',\n",
       " 'BUONO SCONTO CARB 4E 450 PUNTI',\n",
       " 'BUONO SCONTO CARB 4E 860 PUNTI',\n",
       " 'CONSEGNA CODICE 50 STAMPE FOTO',\n",
       " 'CONSEGNA CODICE ABBON FAI',\n",
       " 'CONSEGNA CODICE ALBERO TREEDOM',\n",
       " 'CONSEGNA CODICE ASPARAGIERA',\n",
       " 'CONSEGNA CODICE ASPIR IROBOT',\n",
       " 'CONSEGNA CODICE ASSE DA STIRO',\n",
       " 'CONSEGNA CODICE ASSE DA STIRO FOPPAPEDRETTI',\n",
       " 'CONSEGNA CODICE AVIS DREAM CAR 1G',\n",
       " 'CONSEGNA CODICE AVIS DREAM CAR 1GG',\n",
       " 'CONSEGNA CODICE AVIS DREAMCAR 1GG',\n",
       " 'CONSEGNA CODICE BISTECCHIERA',\n",
       " 'CONSEGNA CODICE BUDGET FAMILY',\n",
       " 'CONSEGNA CODICE BUDGET NOL 1G',\n",
       " 'CONSEGNA CODICE CUCINA MODERNA SEM',\n",
       " 'CONSEGNA CODICE DONNA MODERNA SEM',\n",
       " 'CONSEGNA CODICE DOVE SEM',\n",
       " 'CONSEGNA CODICE DUERUOTE 6MESI',\n",
       " 'CONSEGNA CODICE FOCUS JUNIOR SEM',\n",
       " 'CONSEGNA CODICE FOCUS SEM',\n",
       " 'CONSEGNA CODICE GARDALAND',\n",
       " 'CONSEGNA CODICE GARDALAND PARK',\n",
       " 'CONSEGNA CODICE GIFT AMILON 100?',\n",
       " 'CONSEGNA CODICE GIFT AMILON 20?',\n",
       " 'CONSEGNA CODICE GIFT AMILON 50?',\n",
       " 'CONSEGNA CODICE GIFT AMILON 5?',\n",
       " 'CONSEGNA CODICE GIFT CARD BATA',\n",
       " 'CONSEGNA CODICE GIFT CARD CHILI E20',\n",
       " 'CONSEGNA CODICE GIFT CARD E? 25 UNIEURO',\n",
       " 'CONSEGNA CODICE GIFT CARDS 20E AMAZON',\n",
       " 'CONSEGNA CODICE GULLIVERNAPRO',\n",
       " 'CONSEGNA CODICE LEOLANDIA',\n",
       " 'CONSEGNA CODICE LETTINO PRENDISOLE',\n",
       " 'CONSEGNA CODICE LONELY PLANET',\n",
       " 'CONSEGNA CODICE MAGGIORE NOL 2 G',\n",
       " 'CONSEGNA CODICE MIRABILANDIA',\n",
       " 'CONSEGNA CODICE MULTIOVEN',\n",
       " 'CONSEGNA CODICE NATIONAL GEO SEM',\n",
       " 'CONSEGNA CODICE NPH PASTO',\n",
       " 'CONSEGNA CODICE OVETTO KAS 4850',\n",
       " 'CONSEGNA CODICE OVETTO KAS 8000',\n",
       " 'CONSEGNA CODICE PHOTOCITY STAMPA',\n",
       " 'CONSEGNA CODICE PIATTI NEW SAHARA',\n",
       " 'CONSEGNA CODICE POZZETTO CONGELATORE IGNIS',\n",
       " 'CONSEGNA CODICE QUATTRO RUOTE 6 MESI',\n",
       " 'CONSEGNA CODICE RAFFRESCAT ELECTROLINE',\n",
       " 'CONSEGNA CODICE SERV.PIATTI 18PZ',\n",
       " 'CONSEGNA CODICE SET 24 POSATE',\n",
       " 'CONSEGNA CODICE SET PENTOLE BY LUCA TRAZZI',\n",
       " 'CONSEGNA CODICE SET PIATTI 18PZ',\n",
       " 'CONSEGNA CODICE SGABELLO BAR',\n",
       " 'CONSEGNA CODICE SGABELLO FOPPAP',\n",
       " 'CONSEGNA CODICE SGABELLO FOPPAPEDRETTI',\n",
       " 'CONSEGNA CODICE SMART TV 43\";15000\"',\n",
       " 'CONSEGNA CODICE SMART TV 43\";31500\"',\n",
       " 'CONSEGNA CODICE SMART TV55\";23500\"',\n",
       " 'CONSEGNA CODICE SMART TV55\";44898\"',\n",
       " 'CONSEGNA CODICE STENDINO FOPPAPEDRETTI',\n",
       " 'CONSEGNA CODICE TAVOLINO CON SEDIE GIARDINO',\n",
       " 'CONSEGNA CODICE TAVOLINO+SEDIE',\n",
       " 'CONSEGNA CODICE TOPOLINO SEM',\n",
       " 'CONSEGNA CODICE TV 50 SAMSUNG\"',\n",
       " 'CONSEGNA CODICE ZOOMARINE',\n",
       " 'CONSEGNA MASCHERINA TOMBOLINI',\n",
       " 'CONSEGNA PASTA GAROFALO',\n",
       " 'CONSEGNA TELO MARE RE-TOWEL',\n",
       " 'PRENOTAZIONE 3 CALZINI  BIMBI',\n",
       " 'PRENOTAZIONE 4 CALZINI  UOMO',\n",
       " 'PRENOTAZIONE ACCESSORIO RICARICA UNIVERS CELLULARL',\n",
       " 'PRENOTAZIONE AEROSOL RANA',\n",
       " 'PRENOTAZIONE AFFETTATRICE',\n",
       " 'PRENOTAZIONE ALZ. BIMBI AUTO',\n",
       " 'PRENOTAZIONE ALZATA IN VETRO',\n",
       " 'PRENOTAZIONE AMPLIF. WI-FII',\n",
       " 'PRENOTAZIONE APPLE WATCH SERIE 5',\n",
       " 'PRENOTAZIONE ARCADE MINIATURAPAC MAN',\n",
       " 'PRENOTAZIONE ARIETE B-CHEESE',\n",
       " 'PRENOTAZIONE ASCIUGACAPELLI REMINGTON PIEGHEVOLE',\n",
       " 'PRENOTAZIONE ASPIRAPOLVERE PER AUTO SPARCO',\n",
       " 'PRENOTAZIONE AURICOL.BT',\n",
       " 'PRENOTAZIONE AVVITATORE',\n",
       " 'PRENOTAZIONE B. CAMPOMARZIO',\n",
       " 'PRENOTAZIONE BANDA ELASTICA',\n",
       " 'PRENOTAZIONE BBQ WEBERCOMPACT 47CM',\n",
       " 'PRENOTAZIONE BIALETI MOKA 3PZ',\n",
       " 'PRENOTAZIONE BICCHIERE GUZZINI',\n",
       " 'PRENOTAZIONE BICCHIERE GUZZINI 4PZ',\n",
       " 'PRENOTAZIONE BICI PIEGHEVOLE',\n",
       " 'PRENOTAZIONE BILANCIA BODYMASTER ROWENTA',\n",
       " 'PRENOTAZIONE BILANCIA CUCINA IMETEC',\n",
       " 'PRENOTAZIONE BILANCIA PESABAGAGLI',\n",
       " 'PRENOTAZIONE BISCOTT. GR. 500',\n",
       " 'PRENOTAZIONE BISCOTT. GR. 501',\n",
       " 'PRENOTAZIONE BLACK&DECKER SMOOTHIE MAKER',\n",
       " 'PRENOTAZIONE BORSA CAMPOMARZIO',\n",
       " 'PRENOTAZIONE BORSA EMILY',\n",
       " 'PRENOTAZIONE BORSA SEA BAG',\n",
       " 'PRENOTAZIONE BORSA WATERPROOF SEA BAG',\n",
       " 'PRENOTAZIONE BORSONE BREKKA',\n",
       " 'PRENOTAZIONE BOTT. TERMICA',\n",
       " \"PRENOTAZIONE C. LETTO  HENNE'\",\n",
       " 'PRENOTAZIONE CABIN ZERO ZAINO CLASSIC 44 L',\n",
       " 'PRENOTAZIONE CAFFE POLVERE',\n",
       " 'PRENOTAZIONE CANOA GONFIABILE  RIVIERA',\n",
       " 'PRENOTAZIONE CANOA GONFIABILE RIVIERA',\n",
       " 'PRENOTAZIONE CARAFFA VENICE',\n",
       " 'PRENOTAZIONE CARAFFA VENICE GUZZINI',\n",
       " 'PRENOTAZIONE CARLI OL.EVO 5L',\n",
       " 'PRENOTAZIONE CARRELLO GIMI',\n",
       " 'PRENOTAZIONE CASSE PER PC',\n",
       " 'PRENOTAZIONE CAVIGL/POLS 1KG',\n",
       " 'PRENOTAZIONE CIBO CANI ALMO',\n",
       " 'PRENOTAZIONE CIBO GATTI ALMO',\n",
       " 'PRENOTAZIONE CIOTOLA 120 ML',\n",
       " 'PRENOTAZIONE CIOTOLA 500 ML',\n",
       " 'PRENOTAZIONE CIOTOLA DA VIAGGIO ON THE ROAD',\n",
       " 'PRENOTAZIONE COMPL.LETTO BIMBA 1 P',\n",
       " 'PRENOTAZIONE COMPL.LETTO BIMBO 1 P',\n",
       " 'PRENOTAZIONE COMPLETO LETTO',\n",
       " 'PRENOTAZIONE COMPRESSORE',\n",
       " 'PRENOTAZIONE CONF RISO',\n",
       " 'PRENOTAZIONE CORDA SALTO',\n",
       " 'PRENOTAZIONE CUFFIE  LOGITECH',\n",
       " 'PRENOTAZIONE CUOCI RISO',\n",
       " 'PRENOTAZIONE CUOCIPIZZA ARIETE',\n",
       " 'PRENOTAZIONE CUSCINO CUCCIA',\n",
       " 'PRENOTAZIONE DUNLOP TEAM 2020 PADEL RAPID C/CUSTOD',\n",
       " 'PRENOTAZIONE EPILATORE PHILIPS',\n",
       " 'PRENOTAZIONE FERRO DA STIRO',\n",
       " 'PRENOTAZIONE FOREO LUNA PLAY',\n",
       " 'PRENOTAZIONE FRUL.IMMERS.SMEG',\n",
       " 'PRENOTAZIONE FRULL.IMMERS.SMEG',\n",
       " 'PRENOTAZIONE GALAXY A12 BLACK',\n",
       " 'PRENOTAZIONE GELATIERA ARIETE',\n",
       " 'PRENOTAZIONE GO PRO HERO 7 WHITE',\n",
       " 'PRENOTAZIONE GUANCIALE',\n",
       " 'PRENOTAZIONE GUZZINI BORSA TERMICA',\n",
       " 'PRENOTAZIONE GYMBALL CM 55',\n",
       " 'PRENOTAZIONE HARDDISK TOSHIBA',\n",
       " 'PRENOTAZIONE HELMET BICI6450',\n",
       " 'PRENOTAZIONE HELMET BICI9000',\n",
       " 'PRENOTAZIONE IDROPULITRICE  K2  BASIC KARCHER',\n",
       " 'PRENOTAZIONE IDROPULITRICE KARCHER',\n",
       " 'PRENOTAZIONE KARTELL CACHE CACHE',\n",
       " 'PRENOTAZIONE KARTELL MING',\n",
       " 'PRENOTAZIONE KEEP ME COMP.LETTO  BIMBA',\n",
       " 'PRENOTAZIONE KEEP ME COMP.LETTO  BIMBO',\n",
       " 'PRENOTAZIONE KIT 38 UTENSILI',\n",
       " 'PRENOTAZIONE KIT PASTA RIPIENA',\n",
       " 'PRENOTAZIONE LAMP THINKPOETIC',\n",
       " 'PRENOTAZIONE LAMPADA BOLLEKE USB.',\n",
       " 'PRENOTAZIONE LAMPADA KARTELL',\n",
       " 'PRENOTAZIONE LAMPADA KOZIOL',\n",
       " 'PRENOTAZIONE LENZ ZUCCHI',\n",
       " 'PRENOTAZIONE LENZUOLA BIMBA+BIMBO KEEP ME',\n",
       " 'PRENOTAZIONE MACC.PASTA ATLAS',\n",
       " 'PRENOTAZIONE MACCHINA  PANE',\n",
       " 'PRENOTAZIONE MANTEL.BICI L XXL',\n",
       " 'PRENOTAZIONE MANTEL.BICI XS M',\n",
       " 'PRENOTAZIONE MASCHERINA TOMBOLINI',\n",
       " 'PRENOTAZIONE MINISPEAKER BT GO2 JBL',\n",
       " 'PRENOTAZIONE MISUR PRESSIONE',\n",
       " 'PRENOTAZIONE MIXER KENWOOD',\n",
       " 'PRENOTAZIONE MOBILE CONTENITORE COMPONIBILE KARTEL',\n",
       " 'PRENOTAZIONE MOBILE KARTELL',\n",
       " 'PRENOTAZIONE MOKKA EXPR',\n",
       " 'PRENOTAZIONE MONOPOLI',\n",
       " 'PRENOTAZIONE NESPRESSO',\n",
       " 'PRENOTAZIONE OCCHIALI D.SOLE',\n",
       " 'PRENOTAZIONE OCCHIALI DA SOLE UNISEX',\n",
       " 'PRENOTAZIONE OCCHIALI DONNA CAMPOMAR.',\n",
       " 'PRENOTAZIONE OLIERA 500 ML',\n",
       " 'PRENOTAZIONE OMBRELLO PORSCHE',\n",
       " 'PRENOTAZIONE OROL.+ BRACCIALE',\n",
       " 'PRENOTAZIONE OROLOGIO SECTOR',\n",
       " 'PRENOTAZIONE OROLOGIO UOMO',\n",
       " 'PRENOTAZIONE P.CHI. BALDININI',\n",
       " 'PRENOTAZIONE PARKA  BREKKA XL',\n",
       " 'PRENOTAZIONE PARKA BREKKA L',\n",
       " 'PRENOTAZIONE PARKA BREKKA S/M',\n",
       " 'PRENOTAZIONE PARKA BREKKA XL',\n",
       " 'PRENOTAZIONE PENTOL. LAGOSTINA',\n",
       " 'PRENOTAZIONE PESAPERSONE',\n",
       " 'PRENOTAZIONE PHILIPS RASOIO',\n",
       " 'PRENOTAZIONE PHON REMINGTON',\n",
       " 'PRENOTAZIONE PINZA SCOLAFRITTO',\n",
       " 'PRENOTAZIONE POCKETBOOK',\n",
       " 'PRENOTAZIONE PORTA CALCIO POP UP',\n",
       " 'PRENOTAZIONE PORTA CARTE CREDITO SPARCO',\n",
       " 'PRENOTAZIONE PORTABIANCHERIA',\n",
       " 'PRENOTAZIONE PORTABOTTIGLIE',\n",
       " 'PRENOTAZIONE PORTAF.PORSCHE',\n",
       " 'PRENOTAZIONE POUF',\n",
       " 'PRENOTAZIONE POWER BANK PURO',\n",
       " 'PRENOTAZIONE POWERBANK CELLULARLINE',\n",
       " 'PRENOTAZIONE PUDDLE JUMPER GALLEGGIAMENTO BIMBI',\n",
       " 'PRENOTAZIONE PUL.VAPORE 2IN1',\n",
       " 'PRENOTAZIONE PUL.VAPORE 2IN2',\n",
       " 'PRENOTAZIONE PULSOXIMETRO',\n",
       " 'PRENOTAZIONE PULSOXIMETRO DA DITO-ASS',\n",
       " 'PRENOTAZIONE PUMO DIFFUSORE',\n",
       " 'PRENOTAZIONE PUMO DIFFUSORE AMBIENTE',\n",
       " 'PRENOTAZIONE PURIFICAT ARIA PHILIPS',\n",
       " 'PRENOTAZIONE PURIFICAT. ARIA',\n",
       " 'PRENOTAZIONE RACCH+PALL.PADEL',\n",
       " 'PRENOTAZIONE RACCHETTA +PALLINE DUNLOP',\n",
       " 'PRENOTAZIONE RANGE EXTENDER',\n",
       " 'PRENOTAZIONE RASOIO DURABLADE',\n",
       " 'PRENOTAZIONE RIALZO DA SEDIA',\n",
       " 'PRENOTAZIONE SAMSUNG A20S',\n",
       " 'PRENOTAZIONE SC.GENTILINI',\n",
       " 'PRENOTAZIONE SCALETTA UP&DOWN',\n",
       " 'PRENOTAZIONE SECTOR OROLOGIO +BRACCIALE DONNA',\n",
       " 'PRENOTAZIONE SEDIA ERGONOMICA',\n",
       " 'PRENOTAZIONE SEGGIOLINO BICI',\n",
       " 'PRENOTAZIONE SELFIE RING JOCCA',\n",
       " 'PRENOTAZIONE SET 4 MONGOLF. PROFUM.',\n",
       " 'PRENOTAZIONE SET SPUGNE',\n",
       " 'PRENOTAZIONE SET SPUGNE C.I.',\n",
       " 'PRENOTAZIONE SET T.GOLEO 3PZ',\n",
       " 'PRENOTAZIONE SMANICATO  TG. L',\n",
       " 'PRENOTAZIONE SMANICATO  TG. S/M',\n",
       " 'PRENOTAZIONE SMANICATO  TG. XL',\n",
       " 'PRENOTAZIONE SMANICATO BREKKA L',\n",
       " 'PRENOTAZIONE SMANICATO BREKKA S /M',\n",
       " 'PRENOTAZIONE SMANICATO BREKKA XL',\n",
       " 'PRENOTAZIONE SMART TV 28\";10500\"',\n",
       " 'PRENOTAZIONE SMART TV 28\";18995\"',\n",
       " 'PRENOTAZIONE SMARTPHONE SAMSUNG A10',\n",
       " 'PRENOTAZIONE SPAZZOLA KERATION GAMA',\n",
       " 'PRENOTAZIONE SPREM.SMEG PANNA',\n",
       " 'PRENOTAZIONE SPREM.SMEG ROSSO',\n",
       " 'PRENOTAZIONE SPREMIAGRUMI',\n",
       " 'PRENOTAZIONE STAMPANTE HP',\n",
       " 'PRENOTAZIONE STAMPANTE MINI',\n",
       " 'PRENOTAZIONE STARTER BATTERIA AUTO SPARCO',\n",
       " 'PRENOTAZIONE STERILIZZ. 2IN1',\n",
       " 'PRENOTAZIONE STERILIZZ. 2IN2',\n",
       " 'PRENOTAZIONE STIR.VER.ROWENTA',\n",
       " 'PRENOTAZIONE STRUM.DI SCIENZE',\n",
       " 'PRENOTAZIONE STYLER ROWENTA',\n",
       " 'PRENOTAZIONE SUPP.MAGN.PROF.',\n",
       " 'PRENOTAZIONE TABLET GALAXY',\n",
       " 'PRENOTAZIONE TAPPETINO RINFRESCANTE DIMENSIONI: 90',\n",
       " 'PRENOTAZIONE TAPPETINO+ ROLLER',\n",
       " 'PRENOTAZIONE TAPPETO BRANDANI PVC',\n",
       " 'PRENOTAZIONE TAPPETO CUCINA',\n",
       " 'PRENOTAZIONE TAST. E MOUSE HP',\n",
       " 'PRENOTAZIONE TEIERA IN GHISA',\n",
       " 'PRENOTAZIONE TELO MARE JECKERSON',\n",
       " 'PRENOTAZIONE TELO MARE RE-TOWEL',\n",
       " 'PRENOTAZIONE TERMOM.INFRAROS.',\n",
       " 'PRENOTAZIONE TERMOVENTILATORE',\n",
       " 'PRENOTAZIONE TERMOVENTILATORE C/F',\n",
       " 'PRENOTAZIONE THE SEGAFREDO',\n",
       " 'PRENOTAZIONE TIPPY DISPOS.ALLARME ANTIAB.',\n",
       " 'PRENOTAZIONE TIPPY DISPOSIT.',\n",
       " 'PRENOTAZIONE TOST+SPREM PANNA',\n",
       " 'PRENOTAZIONE TOST+SPREM ROSSO',\n",
       " 'PRENOTAZIONE TOST.SMEG PANNA',\n",
       " 'PRENOTAZIONE TOST.SMEG ROSSO',\n",
       " 'PRENOTAZIONE TOUCHMEL - INSALATIERA - PORTO',\n",
       " 'PRENOTAZIONE TOUCHMEL -VASSOIO - PORTO',\n",
       " 'PRENOTAZIONE TOVAGL+PENNAREL.',\n",
       " 'PRENOTAZIONE TOVAGLIA BELLORA',\n",
       " 'PRENOTAZIONE TRAPANO AVVITAT.',\n",
       " 'PRENOTAZIONE TRAPANO BATTENTE',\n",
       " 'PRENOTAZIONE TRAVEL MUG',\n",
       " 'PRENOTAZIONE TROLLEY BREKKA',\n",
       " 'PRENOTAZIONE TROLLEY SPARCO',\n",
       " 'PRENOTAZIONE TUBO PRO PADEL 3 BALLS DUNLOP',\n",
       " 'PRENOTAZIONE TV 24 SAMSUNG\"',\n",
       " 'PRENOTAZIONE ULTRAV.HOOVER',\n",
       " 'PRENOTAZIONE UV BOX POWER BANK',\n",
       " 'PRENOTAZIONE VASO RE-POT',\n",
       " 'PRENOTAZIONE VASSOIO + INSALATIERA TOUCH ZANI',\n",
       " 'PRENOTAZIONE VASSOIO KARTELL',\n",
       " 'PRENOTAZIONE WEBCAM 1.3MP',\n",
       " 'PRENOTAZIONE ZAINO BATMAN',\n",
       " 'PRENOTAZIONE ZAINO CABIN ZERO',\n",
       " 'PRENOTAZIONE ZAINO CABINZERO NERO',\n",
       " 'PRENOTAZIONE ZAINO WONDERWOMAN',\n",
       " 'PRENOTAZIONE ZAINOCAMPOMARZIO']"
      ]
     },
     "execution_count": 20,
     "metadata": {},
     "output_type": "execute_result"
    }
   ],
   "source": [
    "prize_description = df[\"DESCRIZIONE\"].value_counts()\n",
    "prize_description = prize_description.index.to_list()\n",
    "prize_description = sorted(prize_description)\n",
    "prize_description = prize_description[106:]\n",
    "\n",
    "prize_description"
   ]
  },
  {
   "cell_type": "code",
   "execution_count": 21,
   "metadata": {},
   "outputs": [
    {
     "data": {
      "text/plain": [
       "<function matplotlib.pyplot.show(close=None, block=None)>"
      ]
     },
     "execution_count": 21,
     "metadata": {},
     "output_type": "execute_result"
    },
    {
     "data": {
      "image/png": "[encoded data removed]",
      "text/plain": [
       "<Figure size 432x432 with 1 Axes>"
      ]
     },
     "metadata": {},
     "output_type": "display_data"
    }
   ],
   "source": [
    "tmp = get_frequencies(df['CATEGORIA'], n_categories=2)['relative']\n",
    "cmap = cm.get_cmap('viridis')\n",
    "ax = tmp.plot(kind='pie',\n",
    "              title=\"More fuel or Rewards?\", autopct='{:02.2f}%'.format,\n",
    "              legend=True,\n",
    "              labeldistance=None,\n",
    "              startangle=170,\n",
    "              colors=[cmap(i) for i in np.linspace(.25, .9, len(tmp\n",
    " ))],\n",
    "              figsize=(6, 6)\n",
    "             )\n",
    "ax.set(ylabel='dont know')\n",
    "plt.show"
   ]
  },
  {
   "cell_type": "code",
   "execution_count": 22,
   "metadata": {},
   "outputs": [
    {
     "data": {
      "text/plain": [
       "<function matplotlib.pyplot.show(close=None, block=None)>"
      ]
     },
     "execution_count": 22,
     "metadata": {},
     "output_type": "execute_result"
    },
    {
     "data": {
      "image/png": "[encoded data removed]",
      "text/plain": [
       "<Figure size 432x432 with 1 Axes>"
      ]
     },
     "metadata": {},
     "output_type": "display_data"
    }
   ],
   "source": [
    "tmp = get_frequencies(df['LUOGO_PRENOTAZIONE_PREMIO'], n_categories=2)['relative']\n",
    "cmap = cm.get_cmap('viridis')\n",
    "ax = tmp.plot(kind='pie',\n",
    "              title=\"Where the clients claim the rewards?\", autopct='{:02.2f}%'.format,\n",
    "              legend=True,\n",
    "              labeldistance=None,\n",
    "              startangle=170,\n",
    "              colors=[cmap(i) for i in np.linspace(.25, .9, len(tmp\n",
    " ))],\n",
    "              figsize=(6, 6)\n",
    "             )\n",
    "ax.set(ylabel='dont know')\n",
    "plt.show"
   ]
  },
  {
   "cell_type": "code",
   "execution_count": 23,
   "metadata": {},
   "outputs": [
    {
     "data": {
      "text/plain": [
       "<function matplotlib.pyplot.show(close=None, block=None)>"
      ]
     },
     "execution_count": 23,
     "metadata": {},
     "output_type": "execute_result"
    },
    {
     "data": {
      "image/png": "[encoded data removed]",
      "text/plain": [
       "<Figure size 432x432 with 1 Axes>"
      ]
     },
     "metadata": {},
     "output_type": "display_data"
    }
   ],
   "source": [
    "tmp = get_frequencies(df['RAGGRUPPAMENTO_MERCEOLOGICO'], n_categories=2)['relative']\n",
    "cmap = cm.get_cmap('viridis')\n",
    "ax = tmp.plot(kind='pie',\n",
    "              title=\"Type of Rewards\", autopct='{:02.2f}%'.format,\n",
    "              legend=True,\n",
    "              labeldistance=None,\n",
    "              startangle=170,\n",
    "              colors=[cmap(i) for i in np.linspace(.25, .9, len(tmp\n",
    " ))],\n",
    "              figsize=(6, 6)\n",
    "             )\n",
    "ax.set(ylabel='dont know')\n",
    "plt.show"
   ]
  },
  {
   "cell_type": "code",
   "execution_count": 24,
   "metadata": {},
   "outputs": [
    {
     "data": {
      "image/png": "[encoded data removed]",
      "text/plain": [
       "<Figure size 432x288 with 1 Axes>"
      ]
     },
     "metadata": {
      "needs_background": "light"
     },
     "output_type": "display_data"
    }
   ],
   "source": [
    "tmp = df['RAGGRUPPAMENTO_MERCEOLOGICO'].value_counts() / len(df) * 100\n",
    "cmap = cm.get_cmap('viridis')\n",
    "ax = tmp.plot(kind='barh',\n",
    "              title=\"Type of Rewards\",\n",
    "              color=cmap(.25),\n",
    "              width=.6,\n",
    "              )\n",
    "ax.grid(True, axis='x', color='lightgrey', linestyle='--')\n",
    "ax.set(xlabel='Frequency (in %)')\n",
    "plt.show()"
   ]
  },
  {
   "cell_type": "code",
   "execution_count": 25,
   "metadata": {},
   "outputs": [
    {
     "data": {
      "image/png": "[encoded data removed]",
      "text/plain": [
       "<Figure size 432x288 with 1 Axes>"
      ]
     },
     "metadata": {
      "needs_background": "light"
     },
     "output_type": "display_data"
    },
    {
     "data": {
      "text/plain": [
       "<Figure size 432x288 with 0 Axes>"
      ]
     },
     "metadata": {},
     "output_type": "display_data"
    }
   ],
   "source": [
    "tmp = df['DESCRIZIONE'].value_counts() / len(df) * 100\n",
    "cmap = cm.get_cmap('viridis')\n",
    "ax = tmp.plot(kind='barh',\n",
    "              title=\"Type of Rewards\",\n",
    "              color=cmap(.25),\n",
    "              width=.6,\n",
    "              )\n",
    "ax.grid(True, axis='x', color='lightgrey', linestyle='--')\n",
    "ax.set(xlabel='Frequency (in %)')\n",
    "plt.show()\n",
    "plt.tight_layout()"
   ]
  },
  {
   "cell_type": "code",
   "execution_count": 26,
   "metadata": {},
   "outputs": [
    {
     "data": {
      "image/png": "[encoded data removed]",
      "text/plain": [
       "<Figure size 432x288 with 1 Axes>"
      ]
     },
     "metadata": {
      "needs_background": "light"
     },
     "output_type": "display_data"
    }
   ],
   "source": [
    "tmp = df['CATEGORIA'].value_counts() / len(df) * 100\n",
    "cmap = cm.get_cmap('viridis')\n",
    "ax = tmp.plot(kind='barh',\n",
    "              title=\"More fuel or Rewards?\",\n",
    "              color=cmap(.25),\n",
    "              width=.6,\n",
    "              )\n",
    "ax.grid(True, axis='x', color='lightgrey', linestyle='--')\n",
    "ax.set(xlabel='Frequency (in %)')\n",
    "plt.show()"
   ]
  },
  {
   "cell_type": "code",
   "execution_count": 27,
   "metadata": {},
   "outputs": [
    {
     "data": {
      "image/png": "[encoded data removed]",
      "text/plain": [
       "<Figure size 432x288 with 1 Axes>"
      ]
     },
     "metadata": {
      "needs_background": "light"
     },
     "output_type": "display_data"
    }
   ],
   "source": [
    "tmp = df['LUOGO_PRENOTAZIONE_PREMIO'].value_counts() / len(df) * 100\n",
    "cmap = cm.get_cmap('viridis')\n",
    "ax = tmp.plot(kind='barh',\n",
    "              title=\"Where the client claims the Prizes?\",\n",
    "              color=cmap(.25),\n",
    "              width=.6,\n",
    "              )\n",
    "ax.grid(True, axis='x', color='lightgrey', linestyle='--')\n",
    "ax.set(xlabel='Frequency (in %)')\n",
    "plt.show()"
   ]
  },
  {
   "cell_type": "code",
   "execution_count": 28,
   "metadata": {},
   "outputs": [
    {
     "data": {
      "image/png": "[encoded data removed]",
      "text/plain": [
       "<Figure size 432x288 with 1 Axes>"
      ]
     },
     "metadata": {
      "needs_background": "light"
     },
     "output_type": "display_data"
    }
   ],
   "source": [
    "tmp = df['DESCRIZIONE'].value_counts() / len(df) * 100\n",
    "cmap = cm.get_cmap('viridis')\n",
    "ax = tmp.plot(kind='barh',\n",
    "              title=\"Type of Rewards\",\n",
    "              color=cmap(.25),\n",
    "              width=.6,\n",
    "              )\n",
    "ax.grid(True, axis='x', color='lightgrey', linestyle='--')\n",
    "ax.set(xlabel='Frequency (in %)')\n",
    "#plt.tight_layout()\n",
    "plt.show()"
   ]
  },
  {
   "cell_type": "code",
   "execution_count": null,
   "metadata": {},
   "outputs": [],
   "source": [
    "#favorite prizes- some trends\n",
    "tmp = df['RAGGRUPPAMENTO_MERCEOLOGICO'].value_counts() / len(df) * 100\n",
    "cmap = cm.get_cmap('viridis')\n",
    "ax = tmp.plot(kind='barh',\n",
    "              title=\"Type of Rewards\",\n",
    "              color=cmap(.25),\n",
    "              width=.6,\n",
    "              )\n",
    "ax.grid(True, axis='x', color='lightgrey', linestyle='--')\n",
    "ax.set(xlabel='Frequency (in %)')\n",
    "plt.show()"
   ]
  },
  {
   "cell_type": "code",
   "execution_count": 6,
   "metadata": {},
   "outputs": [],
   "source": [
    "df[\"DATA_OPERAZIONE\"] = df[\"DATA_OPERAZIONE\"].astype(\"datetime64\")\n",
    "df[\"DATA_OPERAZIONE\"] =df[\"DATA_OPERAZIONE\"].dt.date\n",
    "df[\"DATA_OPERAZIONE\"] = df[\"DATA_OPERAZIONE\"].astype(\"datetime64\")"
   ]
  },
  {
   "cell_type": "code",
   "execution_count": 7,
   "metadata": {},
   "outputs": [
    {
     "data": {
      "text/html": [
       "<div>\n",
       "<style scoped>\n",
       "    .dataframe tbody tr th:only-of-type {\n",
       "        vertical-align: middle;\n",
       "    }\n",
       "\n",
       "    .dataframe tbody tr th {\n",
       "        vertical-align: top;\n",
       "    }\n",
       "\n",
       "    .dataframe thead th {\n",
       "        text-align: right;\n",
       "    }\n",
       "</style>\n",
       "<table border=\"1\" class=\"dataframe\">\n",
       "  <thead>\n",
       "    <tr style=\"text-align: right;\">\n",
       "      <th></th>\n",
       "      <th>DATA_OPERAZIONE</th>\n",
       "      <th>LUOGO_PRENOTAZIONE_PREMIO</th>\n",
       "      <th>CATEGORIA</th>\n",
       "      <th>RAGGRUPPAMENTO_MERCEOLOGICO</th>\n",
       "      <th>DESCRIZIONE</th>\n",
       "      <th>PUNTI_RICHIESTI</th>\n",
       "      <th>CONTRIBUTO_CLIENTE_CON_IVA</th>\n",
       "    </tr>\n",
       "    <tr>\n",
       "      <th>COD_PAN_DA_POS</th>\n",
       "      <th></th>\n",
       "      <th></th>\n",
       "      <th></th>\n",
       "      <th></th>\n",
       "      <th></th>\n",
       "      <th></th>\n",
       "      <th></th>\n",
       "    </tr>\n",
       "  </thead>\n",
       "  <tbody>\n",
       "    <tr>\n",
       "      <th>7071161603670014604</th>\n",
       "      <td>2020-09-01</td>\n",
       "      <td>ONLINE</td>\n",
       "      <td>PREMIO FISICO</td>\n",
       "      <td>PER LA TUA CASA</td>\n",
       "      <td>CONSEGNA CODICE GIFT CARDS 20E AMAZON</td>\n",
       "      <td>1800</td>\n",
       "      <td>NaN</td>\n",
       "    </tr>\n",
       "    <tr>\n",
       "      <th>7071161603670014604</th>\n",
       "      <td>2020-09-01</td>\n",
       "      <td>ONLINE</td>\n",
       "      <td>PREMIO FISICO</td>\n",
       "      <td>PER LA TUA CASA</td>\n",
       "      <td>CONSEGNA CODICE GIFT CARDS 20E AMAZON</td>\n",
       "      <td>1800</td>\n",
       "      <td>NaN</td>\n",
       "    </tr>\n",
       "    <tr>\n",
       "      <th>7071161603670014604</th>\n",
       "      <td>2020-09-01</td>\n",
       "      <td>ONLINE</td>\n",
       "      <td>PREMIO FISICO</td>\n",
       "      <td>PER LA TUA CASA</td>\n",
       "      <td>CONSEGNA CODICE GIFT CARDS 20E AMAZON</td>\n",
       "      <td>1800</td>\n",
       "      <td>NaN</td>\n",
       "    </tr>\n",
       "    <tr>\n",
       "      <th>7071161603670014604</th>\n",
       "      <td>2020-09-01</td>\n",
       "      <td>ONLINE</td>\n",
       "      <td>PREMIO FISICO</td>\n",
       "      <td>PER LA TUA CASA</td>\n",
       "      <td>CONSEGNA CODICE GIFT CARDS 20E AMAZON</td>\n",
       "      <td>1800</td>\n",
       "      <td>NaN</td>\n",
       "    </tr>\n",
       "    <tr>\n",
       "      <th>7071161603014051338</th>\n",
       "      <td>2020-09-01</td>\n",
       "      <td>PUNTO VENDITA</td>\n",
       "      <td>PREMIO FISICO</td>\n",
       "      <td>PER TE</td>\n",
       "      <td>PRENOTAZIONE PORTA CARTE CREDITO SPARCO</td>\n",
       "      <td>450</td>\n",
       "      <td>0,000000</td>\n",
       "    </tr>\n",
       "    <tr>\n",
       "      <th>...</th>\n",
       "      <td>...</td>\n",
       "      <td>...</td>\n",
       "      <td>...</td>\n",
       "      <td>...</td>\n",
       "      <td>...</td>\n",
       "      <td>...</td>\n",
       "      <td>...</td>\n",
       "    </tr>\n",
       "    <tr>\n",
       "      <th>7071161603014068530</th>\n",
       "      <td>2021-08-31</td>\n",
       "      <td>PUNTO VENDITA</td>\n",
       "      <td>PREMIO FISICO</td>\n",
       "      <td>ELETTRODOMESTICI</td>\n",
       "      <td>PRENOTAZIONE PHILIPS RASOIO</td>\n",
       "      <td>2395.0</td>\n",
       "      <td>0,000000</td>\n",
       "    </tr>\n",
       "    <tr>\n",
       "      <th>7071161603670271808</th>\n",
       "      <td>2021-08-31</td>\n",
       "      <td>PUNTO VENDITA</td>\n",
       "      <td>PREMIO FISICO</td>\n",
       "      <td>MODA</td>\n",
       "      <td>PRENOTAZIONE OROLOGIO SECTOR</td>\n",
       "      <td>3500.0</td>\n",
       "      <td>30,000000</td>\n",
       "    </tr>\n",
       "    <tr>\n",
       "      <th>7071161603014068530</th>\n",
       "      <td>2021-08-31</td>\n",
       "      <td>PUNTO VENDITA</td>\n",
       "      <td>PREMIO FISICO</td>\n",
       "      <td>ELETTRONICA</td>\n",
       "      <td>PRENOTAZIONE AVVITATORE</td>\n",
       "      <td>4200.0</td>\n",
       "      <td>15,000000</td>\n",
       "    </tr>\n",
       "    <tr>\n",
       "      <th>7071161603007816325</th>\n",
       "      <td>2021-08-31</td>\n",
       "      <td>PUNTO VENDITA</td>\n",
       "      <td>PREMIO FISICO</td>\n",
       "      <td>CASA</td>\n",
       "      <td>PRENOTAZIONE PORTABIANCHERIA</td>\n",
       "      <td>4175.0</td>\n",
       "      <td>0,000000</td>\n",
       "    </tr>\n",
       "    <tr>\n",
       "      <th>7071161603020806626</th>\n",
       "      <td>2021-08-31</td>\n",
       "      <td>PUNTO VENDITA</td>\n",
       "      <td>PREMIO FISICO</td>\n",
       "      <td>ELETTRODOMESTICI</td>\n",
       "      <td>PRENOTAZIONE PHILIPS RASOIO</td>\n",
       "      <td>1750.0</td>\n",
       "      <td>6,000000</td>\n",
       "    </tr>\n",
       "  </tbody>\n",
       "</table>\n",
       "<p>501449 rows × 7 columns</p>\n",
       "</div>"
      ],
      "text/plain": [
       "                    DATA_OPERAZIONE LUOGO_PRENOTAZIONE_PREMIO      CATEGORIA  \\\n",
       "COD_PAN_DA_POS                                                                 \n",
       "7071161603670014604      2020-09-01                    ONLINE  PREMIO FISICO   \n",
       "7071161603670014604      2020-09-01                    ONLINE  PREMIO FISICO   \n",
       "7071161603670014604      2020-09-01                    ONLINE  PREMIO FISICO   \n",
       "7071161603670014604      2020-09-01                    ONLINE  PREMIO FISICO   \n",
       "7071161603014051338      2020-09-01             PUNTO VENDITA  PREMIO FISICO   \n",
       "...                             ...                       ...            ...   \n",
       "7071161603014068530      2021-08-31             PUNTO VENDITA  PREMIO FISICO   \n",
       "7071161603670271808      2021-08-31             PUNTO VENDITA  PREMIO FISICO   \n",
       "7071161603014068530      2021-08-31             PUNTO VENDITA  PREMIO FISICO   \n",
       "7071161603007816325      2021-08-31             PUNTO VENDITA  PREMIO FISICO   \n",
       "7071161603020806626      2021-08-31             PUNTO VENDITA  PREMIO FISICO   \n",
       "\n",
       "                    RAGGRUPPAMENTO_MERCEOLOGICO  \\\n",
       "COD_PAN_DA_POS                                    \n",
       "7071161603670014604             PER LA TUA CASA   \n",
       "7071161603670014604             PER LA TUA CASA   \n",
       "7071161603670014604             PER LA TUA CASA   \n",
       "7071161603670014604             PER LA TUA CASA   \n",
       "7071161603014051338                      PER TE   \n",
       "...                                         ...   \n",
       "7071161603014068530            ELETTRODOMESTICI   \n",
       "7071161603670271808                        MODA   \n",
       "7071161603014068530                 ELETTRONICA   \n",
       "7071161603007816325                        CASA   \n",
       "7071161603020806626            ELETTRODOMESTICI   \n",
       "\n",
       "                                                 DESCRIZIONE PUNTI_RICHIESTI  \\\n",
       "COD_PAN_DA_POS                                                                 \n",
       "7071161603670014604    CONSEGNA CODICE GIFT CARDS 20E AMAZON            1800   \n",
       "7071161603670014604    CONSEGNA CODICE GIFT CARDS 20E AMAZON            1800   \n",
       "7071161603670014604    CONSEGNA CODICE GIFT CARDS 20E AMAZON            1800   \n",
       "7071161603670014604    CONSEGNA CODICE GIFT CARDS 20E AMAZON            1800   \n",
       "7071161603014051338  PRENOTAZIONE PORTA CARTE CREDITO SPARCO             450   \n",
       "...                                                      ...             ...   \n",
       "7071161603014068530              PRENOTAZIONE PHILIPS RASOIO          2395.0   \n",
       "7071161603670271808             PRENOTAZIONE OROLOGIO SECTOR          3500.0   \n",
       "7071161603014068530                  PRENOTAZIONE AVVITATORE          4200.0   \n",
       "7071161603007816325             PRENOTAZIONE PORTABIANCHERIA          4175.0   \n",
       "7071161603020806626              PRENOTAZIONE PHILIPS RASOIO          1750.0   \n",
       "\n",
       "                    CONTRIBUTO_CLIENTE_CON_IVA  \n",
       "COD_PAN_DA_POS                                  \n",
       "7071161603670014604                        NaN  \n",
       "7071161603670014604                        NaN  \n",
       "7071161603670014604                        NaN  \n",
       "7071161603670014604                        NaN  \n",
       "7071161603014051338                   0,000000  \n",
       "...                                        ...  \n",
       "7071161603014068530                   0,000000  \n",
       "7071161603670271808                  30,000000  \n",
       "7071161603014068530                  15,000000  \n",
       "7071161603007816325                   0,000000  \n",
       "7071161603020806626                   6,000000  \n",
       "\n",
       "[501449 rows x 7 columns]"
      ]
     },
     "execution_count": 7,
     "metadata": {},
     "output_type": "execute_result"
    }
   ],
   "source": []
  },
  {
   "cell_type": "code",
   "execution_count": 26,
   "metadata": {},
   "outputs": [],
   "source": [
    "#See if categories of prizes change over time \n",
    "AUTUMN = (df[\"DATA_OPERAZIONE\"] > '2020-08-31') & (df[\"DATA_OPERAZIONE\"] < '2020-12-21')\n",
    "AUTUMN_FAV = df.loc[AUTUMN]\n",
    "\n"
   ]
  },
  {
   "cell_type": "code",
   "execution_count": 27,
   "metadata": {},
   "outputs": [
    {
     "data": {
      "text/html": [
       "<div>\n",
       "<style scoped>\n",
       "    .dataframe tbody tr th:only-of-type {\n",
       "        vertical-align: middle;\n",
       "    }\n",
       "\n",
       "    .dataframe tbody tr th {\n",
       "        vertical-align: top;\n",
       "    }\n",
       "\n",
       "    .dataframe thead th {\n",
       "        text-align: right;\n",
       "    }\n",
       "</style>\n",
       "<table border=\"1\" class=\"dataframe\">\n",
       "  <thead>\n",
       "    <tr style=\"text-align: right;\">\n",
       "      <th></th>\n",
       "      <th>DATA_OPERAZIONE</th>\n",
       "      <th>LUOGO_PRENOTAZIONE_PREMIO</th>\n",
       "      <th>CATEGORIA</th>\n",
       "      <th>RAGGRUPPAMENTO_MERCEOLOGICO</th>\n",
       "      <th>DESCRIZIONE</th>\n",
       "      <th>PUNTI_RICHIESTI</th>\n",
       "      <th>CONTRIBUTO_CLIENTE_CON_IVA</th>\n",
       "    </tr>\n",
       "    <tr>\n",
       "      <th>COD_PAN_DA_POS</th>\n",
       "      <th></th>\n",
       "      <th></th>\n",
       "      <th></th>\n",
       "      <th></th>\n",
       "      <th></th>\n",
       "      <th></th>\n",
       "      <th></th>\n",
       "    </tr>\n",
       "  </thead>\n",
       "  <tbody>\n",
       "    <tr>\n",
       "      <th>7071161603013903273</th>\n",
       "      <td>2020-12-21</td>\n",
       "      <td>PUNTO VENDITA</td>\n",
       "      <td>PREMIO FISICO</td>\n",
       "      <td>ELETTRONICA</td>\n",
       "      <td>PRENOTAZIONE MISUR PRESSIONE</td>\n",
       "      <td>1738</td>\n",
       "      <td>0,000000</td>\n",
       "    </tr>\n",
       "    <tr>\n",
       "      <th>7071161603007864119</th>\n",
       "      <td>2020-12-21</td>\n",
       "      <td>PUNTO VENDITA</td>\n",
       "      <td>PREMIO FISICO</td>\n",
       "      <td>MODA</td>\n",
       "      <td>PRENOTAZIONE 4 CALZINI  UOMO</td>\n",
       "      <td>650</td>\n",
       "      <td>0,000000</td>\n",
       "    </tr>\n",
       "    <tr>\n",
       "      <th>7071161603007864119</th>\n",
       "      <td>2020-12-21</td>\n",
       "      <td>PUNTO VENDITA</td>\n",
       "      <td>PREMIO FISICO</td>\n",
       "      <td>PER LA TUA CASA</td>\n",
       "      <td>PRENOTAZIONE BICCHIERE GUZZINI</td>\n",
       "      <td>100</td>\n",
       "      <td>0,000000</td>\n",
       "    </tr>\n",
       "    <tr>\n",
       "      <th>7071161603670549096</th>\n",
       "      <td>2020-12-21</td>\n",
       "      <td>ONLINE</td>\n",
       "      <td>PREMIO FISICO</td>\n",
       "      <td>PER TE</td>\n",
       "      <td>CONSEGNA CODICE GIFT AMILON 5?</td>\n",
       "      <td>650</td>\n",
       "      <td>NaN</td>\n",
       "    </tr>\n",
       "    <tr>\n",
       "      <th>7071161603007864408</th>\n",
       "      <td>2020-12-21</td>\n",
       "      <td>PUNTO VENDITA</td>\n",
       "      <td>PREMIO FISICO</td>\n",
       "      <td>PER LA TUA CASA</td>\n",
       "      <td>PRENOTAZIONE CARAFFA VENICE GUZZINI</td>\n",
       "      <td>1450</td>\n",
       "      <td>4,000000</td>\n",
       "    </tr>\n",
       "    <tr>\n",
       "      <th>...</th>\n",
       "      <td>...</td>\n",
       "      <td>...</td>\n",
       "      <td>...</td>\n",
       "      <td>...</td>\n",
       "      <td>...</td>\n",
       "      <td>...</td>\n",
       "      <td>...</td>\n",
       "    </tr>\n",
       "    <tr>\n",
       "      <th>7071161603014288120</th>\n",
       "      <td>2021-03-20</td>\n",
       "      <td>PUNTO VENDITA</td>\n",
       "      <td>PREMIO FISICO</td>\n",
       "      <td>TEMPO LIBERO</td>\n",
       "      <td>PRENOTAZIONE TRAVEL MUG</td>\n",
       "      <td>750</td>\n",
       "      <td>0,000000</td>\n",
       "    </tr>\n",
       "    <tr>\n",
       "      <th>7071161603011411584</th>\n",
       "      <td>2021-03-20</td>\n",
       "      <td>PUNTO VENDITA</td>\n",
       "      <td>PREMIO FISICO</td>\n",
       "      <td>CASA</td>\n",
       "      <td>PRENOTAZIONE POUF</td>\n",
       "      <td>1200</td>\n",
       "      <td>3,000000</td>\n",
       "    </tr>\n",
       "    <tr>\n",
       "      <th>7071161603600085054</th>\n",
       "      <td>2021-03-20</td>\n",
       "      <td>PUNTO VENDITA</td>\n",
       "      <td>PREMIO FISICO</td>\n",
       "      <td>TAVOLA &amp; CUCINA</td>\n",
       "      <td>PRENOTAZIONE CUOCI RISO</td>\n",
       "      <td>350</td>\n",
       "      <td>0,000000</td>\n",
       "    </tr>\n",
       "    <tr>\n",
       "      <th>7071161603012371738</th>\n",
       "      <td>2021-03-20</td>\n",
       "      <td>PUNTO VENDITA</td>\n",
       "      <td>PREMIO FISICO</td>\n",
       "      <td>ELETTRONICA</td>\n",
       "      <td>PRENOTAZIONE CUFFIE  LOGITECH</td>\n",
       "      <td>2600</td>\n",
       "      <td>15,000000</td>\n",
       "    </tr>\n",
       "    <tr>\n",
       "      <th>7071161603002165496</th>\n",
       "      <td>2021-03-20</td>\n",
       "      <td>PUNTO VENDITA</td>\n",
       "      <td>PREMIO FISICO</td>\n",
       "      <td>PER TE</td>\n",
       "      <td>PRENOTAZIONE PORTA CARTE CREDITO SPARCO</td>\n",
       "      <td>450</td>\n",
       "      <td>0,000000</td>\n",
       "    </tr>\n",
       "  </tbody>\n",
       "</table>\n",
       "<p>122285 rows × 7 columns</p>\n",
       "</div>"
      ],
      "text/plain": [
       "                    DATA_OPERAZIONE LUOGO_PRENOTAZIONE_PREMIO      CATEGORIA  \\\n",
       "COD_PAN_DA_POS                                                                 \n",
       "7071161603013903273      2020-12-21             PUNTO VENDITA  PREMIO FISICO   \n",
       "7071161603007864119      2020-12-21             PUNTO VENDITA  PREMIO FISICO   \n",
       "7071161603007864119      2020-12-21             PUNTO VENDITA  PREMIO FISICO   \n",
       "7071161603670549096      2020-12-21                    ONLINE  PREMIO FISICO   \n",
       "7071161603007864408      2020-12-21             PUNTO VENDITA  PREMIO FISICO   \n",
       "...                             ...                       ...            ...   \n",
       "7071161603014288120      2021-03-20             PUNTO VENDITA  PREMIO FISICO   \n",
       "7071161603011411584      2021-03-20             PUNTO VENDITA  PREMIO FISICO   \n",
       "7071161603600085054      2021-03-20             PUNTO VENDITA  PREMIO FISICO   \n",
       "7071161603012371738      2021-03-20             PUNTO VENDITA  PREMIO FISICO   \n",
       "7071161603002165496      2021-03-20             PUNTO VENDITA  PREMIO FISICO   \n",
       "\n",
       "                    RAGGRUPPAMENTO_MERCEOLOGICO  \\\n",
       "COD_PAN_DA_POS                                    \n",
       "7071161603013903273                 ELETTRONICA   \n",
       "7071161603007864119                        MODA   \n",
       "7071161603007864119             PER LA TUA CASA   \n",
       "7071161603670549096                      PER TE   \n",
       "7071161603007864408             PER LA TUA CASA   \n",
       "...                                         ...   \n",
       "7071161603014288120                TEMPO LIBERO   \n",
       "7071161603011411584                        CASA   \n",
       "7071161603600085054             TAVOLA & CUCINA   \n",
       "7071161603012371738                 ELETTRONICA   \n",
       "7071161603002165496                      PER TE   \n",
       "\n",
       "                                                 DESCRIZIONE PUNTI_RICHIESTI  \\\n",
       "COD_PAN_DA_POS                                                                 \n",
       "7071161603013903273             PRENOTAZIONE MISUR PRESSIONE            1738   \n",
       "7071161603007864119             PRENOTAZIONE 4 CALZINI  UOMO             650   \n",
       "7071161603007864119           PRENOTAZIONE BICCHIERE GUZZINI             100   \n",
       "7071161603670549096           CONSEGNA CODICE GIFT AMILON 5?             650   \n",
       "7071161603007864408      PRENOTAZIONE CARAFFA VENICE GUZZINI            1450   \n",
       "...                                                      ...             ...   \n",
       "7071161603014288120                  PRENOTAZIONE TRAVEL MUG             750   \n",
       "7071161603011411584                        PRENOTAZIONE POUF            1200   \n",
       "7071161603600085054                  PRENOTAZIONE CUOCI RISO             350   \n",
       "7071161603012371738            PRENOTAZIONE CUFFIE  LOGITECH            2600   \n",
       "7071161603002165496  PRENOTAZIONE PORTA CARTE CREDITO SPARCO             450   \n",
       "\n",
       "                    CONTRIBUTO_CLIENTE_CON_IVA  \n",
       "COD_PAN_DA_POS                                  \n",
       "7071161603013903273                   0,000000  \n",
       "7071161603007864119                   0,000000  \n",
       "7071161603007864119                   0,000000  \n",
       "7071161603670549096                        NaN  \n",
       "7071161603007864408                   4,000000  \n",
       "...                                        ...  \n",
       "7071161603014288120                   0,000000  \n",
       "7071161603011411584                   3,000000  \n",
       "7071161603600085054                   0,000000  \n",
       "7071161603012371738                  15,000000  \n",
       "7071161603002165496                   0,000000  \n",
       "\n",
       "[122285 rows x 7 columns]"
      ]
     },
     "execution_count": 27,
     "metadata": {},
     "output_type": "execute_result"
    }
   ],
   "source": [
    "Winter = (df[\"DATA_OPERAZIONE\"] > '2020-12-20') & (df[\"DATA_OPERAZIONE\"] < '2021-03-21')\n",
    "WINTER_FAV = df.loc[Winter]\n",
    "WINTER_FAV"
   ]
  },
  {
   "cell_type": "code",
   "execution_count": 49,
   "metadata": {},
   "outputs": [
    {
     "data": {
      "text/html": [
       "<div>\n",
       "<style scoped>\n",
       "    .dataframe tbody tr th:only-of-type {\n",
       "        vertical-align: middle;\n",
       "    }\n",
       "\n",
       "    .dataframe tbody tr th {\n",
       "        vertical-align: top;\n",
       "    }\n",
       "\n",
       "    .dataframe thead th {\n",
       "        text-align: right;\n",
       "    }\n",
       "</style>\n",
       "<table border=\"1\" class=\"dataframe\">\n",
       "  <thead>\n",
       "    <tr style=\"text-align: right;\">\n",
       "      <th></th>\n",
       "      <th>DATA_OPERAZIONE</th>\n",
       "      <th>LUOGO_PRENOTAZIONE_PREMIO</th>\n",
       "      <th>CATEGORIA</th>\n",
       "      <th>RAGGRUPPAMENTO_MERCEOLOGICO</th>\n",
       "      <th>DESCRIZIONE</th>\n",
       "      <th>PUNTI_RICHIESTI</th>\n",
       "      <th>CONTRIBUTO_CLIENTE_CON_IVA</th>\n",
       "    </tr>\n",
       "    <tr>\n",
       "      <th>COD_PAN_DA_POS</th>\n",
       "      <th></th>\n",
       "      <th></th>\n",
       "      <th></th>\n",
       "      <th></th>\n",
       "      <th></th>\n",
       "      <th></th>\n",
       "      <th></th>\n",
       "    </tr>\n",
       "  </thead>\n",
       "  <tbody>\n",
       "    <tr>\n",
       "      <th>7071161603013004585</th>\n",
       "      <td>2021-03-21</td>\n",
       "      <td>PUNTO VENDITA</td>\n",
       "      <td>PREMIO FISICO</td>\n",
       "      <td>MODA</td>\n",
       "      <td>PRENOTAZIONE 4 CALZINI  UOMO</td>\n",
       "      <td>650</td>\n",
       "      <td>0,000000</td>\n",
       "    </tr>\n",
       "    <tr>\n",
       "      <th>7071161603670248178</th>\n",
       "      <td>2021-03-21</td>\n",
       "      <td>PUNTO VENDITA</td>\n",
       "      <td>PREMIO FISICO</td>\n",
       "      <td>BAMBINI</td>\n",
       "      <td>PRENOTAZIONE 3 CALZINI  BIMBI</td>\n",
       "      <td>550</td>\n",
       "      <td>0,000000</td>\n",
       "    </tr>\n",
       "    <tr>\n",
       "      <th>7071161603013004585</th>\n",
       "      <td>2021-03-21</td>\n",
       "      <td>PUNTO VENDITA</td>\n",
       "      <td>PREMIO FISICO</td>\n",
       "      <td>MODA</td>\n",
       "      <td>PRENOTAZIONE OCCHIALI D.SOLE</td>\n",
       "      <td>3775</td>\n",
       "      <td>0,000000</td>\n",
       "    </tr>\n",
       "    <tr>\n",
       "      <th>7071161603002353464</th>\n",
       "      <td>2021-03-21</td>\n",
       "      <td>ONLINE</td>\n",
       "      <td>PREMIO FISICO</td>\n",
       "      <td>PER TE</td>\n",
       "      <td>CONSEGNA CODICE GIFT AMILON 5?</td>\n",
       "      <td>650</td>\n",
       "      <td>NaN</td>\n",
       "    </tr>\n",
       "    <tr>\n",
       "      <th>7071161603002522829</th>\n",
       "      <td>2021-03-21</td>\n",
       "      <td>PUNTO VENDITA</td>\n",
       "      <td>PREMIO FISICO</td>\n",
       "      <td>MODA</td>\n",
       "      <td>PRENOTAZIONE 4 CALZINI  UOMO</td>\n",
       "      <td>650</td>\n",
       "      <td>0,000000</td>\n",
       "    </tr>\n",
       "    <tr>\n",
       "      <th>...</th>\n",
       "      <td>...</td>\n",
       "      <td>...</td>\n",
       "      <td>...</td>\n",
       "      <td>...</td>\n",
       "      <td>...</td>\n",
       "      <td>...</td>\n",
       "      <td>...</td>\n",
       "    </tr>\n",
       "    <tr>\n",
       "      <th>7071161603005270087</th>\n",
       "      <td>2021-06-20</td>\n",
       "      <td>PUNTO VENDITA</td>\n",
       "      <td>PREMIO FISICO</td>\n",
       "      <td>TAVOLA &amp; CUCINA</td>\n",
       "      <td>PRENOTAZIONE CUOCI RISO</td>\n",
       "      <td>350.0</td>\n",
       "      <td>0,000000</td>\n",
       "    </tr>\n",
       "    <tr>\n",
       "      <th>7071161603000875609</th>\n",
       "      <td>2021-06-20</td>\n",
       "      <td>PUNTO VENDITA</td>\n",
       "      <td>PREMIO FISICO</td>\n",
       "      <td>PER LA TUA CASA</td>\n",
       "      <td>PRENOTAZIONE BICCHIERE GUZZINI 4PZ</td>\n",
       "      <td>350.0</td>\n",
       "      <td>0,000000</td>\n",
       "    </tr>\n",
       "    <tr>\n",
       "      <th>7071161603000875609</th>\n",
       "      <td>2021-06-20</td>\n",
       "      <td>PUNTO VENDITA</td>\n",
       "      <td>PREMIO FISICO</td>\n",
       "      <td>PER LA TUA CASA</td>\n",
       "      <td>PRENOTAZIONE BICCHIERE GUZZINI 4PZ</td>\n",
       "      <td>350.0</td>\n",
       "      <td>0,000000</td>\n",
       "    </tr>\n",
       "    <tr>\n",
       "      <th>7071161603023337090</th>\n",
       "      <td>2021-06-20</td>\n",
       "      <td>ONLINE</td>\n",
       "      <td>PREMIO FISICO</td>\n",
       "      <td>PER TE</td>\n",
       "      <td>CONSEGNA CODICE GIFT AMILON 5?</td>\n",
       "      <td>650.0</td>\n",
       "      <td>NaN</td>\n",
       "    </tr>\n",
       "    <tr>\n",
       "      <th>7071161603023337090</th>\n",
       "      <td>2021-06-20</td>\n",
       "      <td>ONLINE</td>\n",
       "      <td>PREMIO FISICO</td>\n",
       "      <td>PER TE</td>\n",
       "      <td>CONSEGNA CODICE GIFT AMILON 5?</td>\n",
       "      <td>650.0</td>\n",
       "      <td>NaN</td>\n",
       "    </tr>\n",
       "  </tbody>\n",
       "</table>\n",
       "<p>125956 rows × 7 columns</p>\n",
       "</div>"
      ],
      "text/plain": [
       "                    DATA_OPERAZIONE LUOGO_PRENOTAZIONE_PREMIO      CATEGORIA  \\\n",
       "COD_PAN_DA_POS                                                                 \n",
       "7071161603013004585      2021-03-21             PUNTO VENDITA  PREMIO FISICO   \n",
       "7071161603670248178      2021-03-21             PUNTO VENDITA  PREMIO FISICO   \n",
       "7071161603013004585      2021-03-21             PUNTO VENDITA  PREMIO FISICO   \n",
       "7071161603002353464      2021-03-21                    ONLINE  PREMIO FISICO   \n",
       "7071161603002522829      2021-03-21             PUNTO VENDITA  PREMIO FISICO   \n",
       "...                             ...                       ...            ...   \n",
       "7071161603005270087      2021-06-20             PUNTO VENDITA  PREMIO FISICO   \n",
       "7071161603000875609      2021-06-20             PUNTO VENDITA  PREMIO FISICO   \n",
       "7071161603000875609      2021-06-20             PUNTO VENDITA  PREMIO FISICO   \n",
       "7071161603023337090      2021-06-20                    ONLINE  PREMIO FISICO   \n",
       "7071161603023337090      2021-06-20                    ONLINE  PREMIO FISICO   \n",
       "\n",
       "                    RAGGRUPPAMENTO_MERCEOLOGICO  \\\n",
       "COD_PAN_DA_POS                                    \n",
       "7071161603013004585                        MODA   \n",
       "7071161603670248178                     BAMBINI   \n",
       "7071161603013004585                        MODA   \n",
       "7071161603002353464                      PER TE   \n",
       "7071161603002522829                        MODA   \n",
       "...                                         ...   \n",
       "7071161603005270087             TAVOLA & CUCINA   \n",
       "7071161603000875609             PER LA TUA CASA   \n",
       "7071161603000875609             PER LA TUA CASA   \n",
       "7071161603023337090                      PER TE   \n",
       "7071161603023337090                      PER TE   \n",
       "\n",
       "                                            DESCRIZIONE PUNTI_RICHIESTI  \\\n",
       "COD_PAN_DA_POS                                                            \n",
       "7071161603013004585        PRENOTAZIONE 4 CALZINI  UOMO             650   \n",
       "7071161603670248178       PRENOTAZIONE 3 CALZINI  BIMBI             550   \n",
       "7071161603013004585        PRENOTAZIONE OCCHIALI D.SOLE            3775   \n",
       "7071161603002353464      CONSEGNA CODICE GIFT AMILON 5?             650   \n",
       "7071161603002522829        PRENOTAZIONE 4 CALZINI  UOMO             650   \n",
       "...                                                 ...             ...   \n",
       "7071161603005270087             PRENOTAZIONE CUOCI RISO           350.0   \n",
       "7071161603000875609  PRENOTAZIONE BICCHIERE GUZZINI 4PZ           350.0   \n",
       "7071161603000875609  PRENOTAZIONE BICCHIERE GUZZINI 4PZ           350.0   \n",
       "7071161603023337090      CONSEGNA CODICE GIFT AMILON 5?           650.0   \n",
       "7071161603023337090      CONSEGNA CODICE GIFT AMILON 5?           650.0   \n",
       "\n",
       "                    CONTRIBUTO_CLIENTE_CON_IVA  \n",
       "COD_PAN_DA_POS                                  \n",
       "7071161603013004585                   0,000000  \n",
       "7071161603670248178                   0,000000  \n",
       "7071161603013004585                   0,000000  \n",
       "7071161603002353464                        NaN  \n",
       "7071161603002522829                   0,000000  \n",
       "...                                        ...  \n",
       "7071161603005270087                   0,000000  \n",
       "7071161603000875609                   0,000000  \n",
       "7071161603000875609                   0,000000  \n",
       "7071161603023337090                        NaN  \n",
       "7071161603023337090                        NaN  \n",
       "\n",
       "[125956 rows x 7 columns]"
      ]
     },
     "execution_count": 49,
     "metadata": {},
     "output_type": "execute_result"
    }
   ],
   "source": [
    "Spring = (df[\"DATA_OPERAZIONE\"] > '2021-03-20') & (df[\"DATA_OPERAZIONE\"] < '2021-06-21')\n",
    "SPRING_FAV = df.loc[Spring]\n",
    "SPRING_FAV"
   ]
  },
  {
   "cell_type": "code",
   "execution_count": 50,
   "metadata": {},
   "outputs": [
    {
     "data": {
      "text/html": [
       "<div>\n",
       "<style scoped>\n",
       "    .dataframe tbody tr th:only-of-type {\n",
       "        vertical-align: middle;\n",
       "    }\n",
       "\n",
       "    .dataframe tbody tr th {\n",
       "        vertical-align: top;\n",
       "    }\n",
       "\n",
       "    .dataframe thead th {\n",
       "        text-align: right;\n",
       "    }\n",
       "</style>\n",
       "<table border=\"1\" class=\"dataframe\">\n",
       "  <thead>\n",
       "    <tr style=\"text-align: right;\">\n",
       "      <th></th>\n",
       "      <th>DATA_OPERAZIONE</th>\n",
       "      <th>LUOGO_PRENOTAZIONE_PREMIO</th>\n",
       "      <th>CATEGORIA</th>\n",
       "      <th>RAGGRUPPAMENTO_MERCEOLOGICO</th>\n",
       "      <th>DESCRIZIONE</th>\n",
       "      <th>PUNTI_RICHIESTI</th>\n",
       "      <th>CONTRIBUTO_CLIENTE_CON_IVA</th>\n",
       "    </tr>\n",
       "    <tr>\n",
       "      <th>COD_PAN_DA_POS</th>\n",
       "      <th></th>\n",
       "      <th></th>\n",
       "      <th></th>\n",
       "      <th></th>\n",
       "      <th></th>\n",
       "      <th></th>\n",
       "      <th></th>\n",
       "    </tr>\n",
       "  </thead>\n",
       "  <tbody>\n",
       "    <tr>\n",
       "      <th>7071161603000541409</th>\n",
       "      <td>2021-06-21</td>\n",
       "      <td>ONLINE</td>\n",
       "      <td>PREMIO FISICO</td>\n",
       "      <td>PER TE</td>\n",
       "      <td>CONSEGNA CODICE GIFT AMILON 20?</td>\n",
       "      <td>2600.0</td>\n",
       "      <td>NaN</td>\n",
       "    </tr>\n",
       "    <tr>\n",
       "      <th>7071161603014909626</th>\n",
       "      <td>2021-06-21</td>\n",
       "      <td>ONLINE</td>\n",
       "      <td>PREMIO FISICO</td>\n",
       "      <td>PER TE</td>\n",
       "      <td>CONSEGNA CODICE GIFT AMILON 20?</td>\n",
       "      <td>2600.0</td>\n",
       "      <td>NaN</td>\n",
       "    </tr>\n",
       "    <tr>\n",
       "      <th>7071161603672827748</th>\n",
       "      <td>2021-06-21</td>\n",
       "      <td>PUNTO VENDITA</td>\n",
       "      <td>PREMIO FISICO</td>\n",
       "      <td>ELETTRONICA</td>\n",
       "      <td>PRENOTAZIONE AVVITATORE</td>\n",
       "      <td>5813.0</td>\n",
       "      <td>0,000000</td>\n",
       "    </tr>\n",
       "    <tr>\n",
       "      <th>7071161603016223992</th>\n",
       "      <td>2021-06-21</td>\n",
       "      <td>ONLINE</td>\n",
       "      <td>PREMIO FISICO</td>\n",
       "      <td>PER TE</td>\n",
       "      <td>CONSEGNA CODICE GIFT AMILON 20?</td>\n",
       "      <td>2600.0</td>\n",
       "      <td>NaN</td>\n",
       "    </tr>\n",
       "    <tr>\n",
       "      <th>7071161603014909626</th>\n",
       "      <td>2021-06-21</td>\n",
       "      <td>ONLINE</td>\n",
       "      <td>PREMIO FISICO</td>\n",
       "      <td>PER TE</td>\n",
       "      <td>CONSEGNA CODICE GIFT AMILON 5?</td>\n",
       "      <td>650.0</td>\n",
       "      <td>NaN</td>\n",
       "    </tr>\n",
       "    <tr>\n",
       "      <th>...</th>\n",
       "      <td>...</td>\n",
       "      <td>...</td>\n",
       "      <td>...</td>\n",
       "      <td>...</td>\n",
       "      <td>...</td>\n",
       "      <td>...</td>\n",
       "      <td>...</td>\n",
       "    </tr>\n",
       "    <tr>\n",
       "      <th>7071161603014068530</th>\n",
       "      <td>2021-08-31</td>\n",
       "      <td>PUNTO VENDITA</td>\n",
       "      <td>PREMIO FISICO</td>\n",
       "      <td>ELETTRODOMESTICI</td>\n",
       "      <td>PRENOTAZIONE PHILIPS RASOIO</td>\n",
       "      <td>2395.0</td>\n",
       "      <td>0,000000</td>\n",
       "    </tr>\n",
       "    <tr>\n",
       "      <th>7071161603670271808</th>\n",
       "      <td>2021-08-31</td>\n",
       "      <td>PUNTO VENDITA</td>\n",
       "      <td>PREMIO FISICO</td>\n",
       "      <td>MODA</td>\n",
       "      <td>PRENOTAZIONE OROLOGIO SECTOR</td>\n",
       "      <td>3500.0</td>\n",
       "      <td>30,000000</td>\n",
       "    </tr>\n",
       "    <tr>\n",
       "      <th>7071161603014068530</th>\n",
       "      <td>2021-08-31</td>\n",
       "      <td>PUNTO VENDITA</td>\n",
       "      <td>PREMIO FISICO</td>\n",
       "      <td>ELETTRONICA</td>\n",
       "      <td>PRENOTAZIONE AVVITATORE</td>\n",
       "      <td>4200.0</td>\n",
       "      <td>15,000000</td>\n",
       "    </tr>\n",
       "    <tr>\n",
       "      <th>7071161603007816325</th>\n",
       "      <td>2021-08-31</td>\n",
       "      <td>PUNTO VENDITA</td>\n",
       "      <td>PREMIO FISICO</td>\n",
       "      <td>CASA</td>\n",
       "      <td>PRENOTAZIONE PORTABIANCHERIA</td>\n",
       "      <td>4175.0</td>\n",
       "      <td>0,000000</td>\n",
       "    </tr>\n",
       "    <tr>\n",
       "      <th>7071161603020806626</th>\n",
       "      <td>2021-08-31</td>\n",
       "      <td>PUNTO VENDITA</td>\n",
       "      <td>PREMIO FISICO</td>\n",
       "      <td>ELETTRODOMESTICI</td>\n",
       "      <td>PRENOTAZIONE PHILIPS RASOIO</td>\n",
       "      <td>1750.0</td>\n",
       "      <td>6,000000</td>\n",
       "    </tr>\n",
       "  </tbody>\n",
       "</table>\n",
       "<p>93425 rows × 7 columns</p>\n",
       "</div>"
      ],
      "text/plain": [
       "                    DATA_OPERAZIONE LUOGO_PRENOTAZIONE_PREMIO      CATEGORIA  \\\n",
       "COD_PAN_DA_POS                                                                 \n",
       "7071161603000541409      2021-06-21                    ONLINE  PREMIO FISICO   \n",
       "7071161603014909626      2021-06-21                    ONLINE  PREMIO FISICO   \n",
       "7071161603672827748      2021-06-21             PUNTO VENDITA  PREMIO FISICO   \n",
       "7071161603016223992      2021-06-21                    ONLINE  PREMIO FISICO   \n",
       "7071161603014909626      2021-06-21                    ONLINE  PREMIO FISICO   \n",
       "...                             ...                       ...            ...   \n",
       "7071161603014068530      2021-08-31             PUNTO VENDITA  PREMIO FISICO   \n",
       "7071161603670271808      2021-08-31             PUNTO VENDITA  PREMIO FISICO   \n",
       "7071161603014068530      2021-08-31             PUNTO VENDITA  PREMIO FISICO   \n",
       "7071161603007816325      2021-08-31             PUNTO VENDITA  PREMIO FISICO   \n",
       "7071161603020806626      2021-08-31             PUNTO VENDITA  PREMIO FISICO   \n",
       "\n",
       "                    RAGGRUPPAMENTO_MERCEOLOGICO  \\\n",
       "COD_PAN_DA_POS                                    \n",
       "7071161603000541409                      PER TE   \n",
       "7071161603014909626                      PER TE   \n",
       "7071161603672827748                 ELETTRONICA   \n",
       "7071161603016223992                      PER TE   \n",
       "7071161603014909626                      PER TE   \n",
       "...                                         ...   \n",
       "7071161603014068530            ELETTRODOMESTICI   \n",
       "7071161603670271808                        MODA   \n",
       "7071161603014068530                 ELETTRONICA   \n",
       "7071161603007816325                        CASA   \n",
       "7071161603020806626            ELETTRODOMESTICI   \n",
       "\n",
       "                                         DESCRIZIONE PUNTI_RICHIESTI  \\\n",
       "COD_PAN_DA_POS                                                         \n",
       "7071161603000541409  CONSEGNA CODICE GIFT AMILON 20?          2600.0   \n",
       "7071161603014909626  CONSEGNA CODICE GIFT AMILON 20?          2600.0   \n",
       "7071161603672827748          PRENOTAZIONE AVVITATORE          5813.0   \n",
       "7071161603016223992  CONSEGNA CODICE GIFT AMILON 20?          2600.0   \n",
       "7071161603014909626   CONSEGNA CODICE GIFT AMILON 5?           650.0   \n",
       "...                                              ...             ...   \n",
       "7071161603014068530      PRENOTAZIONE PHILIPS RASOIO          2395.0   \n",
       "7071161603670271808     PRENOTAZIONE OROLOGIO SECTOR          3500.0   \n",
       "7071161603014068530          PRENOTAZIONE AVVITATORE          4200.0   \n",
       "7071161603007816325     PRENOTAZIONE PORTABIANCHERIA          4175.0   \n",
       "7071161603020806626      PRENOTAZIONE PHILIPS RASOIO          1750.0   \n",
       "\n",
       "                    CONTRIBUTO_CLIENTE_CON_IVA  \n",
       "COD_PAN_DA_POS                                  \n",
       "7071161603000541409                        NaN  \n",
       "7071161603014909626                        NaN  \n",
       "7071161603672827748                   0,000000  \n",
       "7071161603016223992                        NaN  \n",
       "7071161603014909626                        NaN  \n",
       "...                                        ...  \n",
       "7071161603014068530                   0,000000  \n",
       "7071161603670271808                  30,000000  \n",
       "7071161603014068530                  15,000000  \n",
       "7071161603007816325                   0,000000  \n",
       "7071161603020806626                   6,000000  \n",
       "\n",
       "[93425 rows x 7 columns]"
      ]
     },
     "execution_count": 50,
     "metadata": {},
     "output_type": "execute_result"
    }
   ],
   "source": [
    "Summer = (df[\"DATA_OPERAZIONE\"] > '2021-06-20') & (df[\"DATA_OPERAZIONE\"] < '2021-09-21')\n",
    "SUMMER_FAV = df.loc[Summer]\n",
    "SUMMER_FAV"
   ]
  },
  {
   "cell_type": "code",
   "execution_count": null,
   "metadata": {},
   "outputs": [],
   "source": []
  },
  {
   "cell_type": "code",
   "execution_count": 51,
   "metadata": {},
   "outputs": [
    {
     "data": {
      "image/png": "[encoded data removed]",
      "text/plain": [
       "<Figure size 432x288 with 1 Axes>"
      ]
     },
     "metadata": {
      "needs_background": "light"
     },
     "output_type": "display_data"
    }
   ],
   "source": [
    "#favorite prizes- some trends\n",
    "tmp = AUTUMN_FAV['RAGGRUPPAMENTO_MERCEOLOGICO'].value_counts() / len(AUTUMN_FAV) * 100\n",
    "cmap = cm.get_cmap('viridis')\n",
    "ax = tmp.plot(kind='barh',\n",
    "              title=\"Type of Rewards in Autumn\",\n",
    "              color=cmap(.25),\n",
    "              width=.6,\n",
    "              )\n",
    "ax.grid(True, axis='x', color='lightgrey', linestyle='--')\n",
    "ax.set(xlabel='Frequency (in %)')\n",
    "plt.show()"
   ]
  },
  {
   "cell_type": "code",
   "execution_count": 52,
   "metadata": {},
   "outputs": [
    {
     "data": {
      "image/png": "[encoded data removed]",
      "text/plain": [
       "<Figure size 432x288 with 1 Axes>"
      ]
     },
     "metadata": {
      "needs_background": "light"
     },
     "output_type": "display_data"
    }
   ],
   "source": [
    "tmp = WINTER_FAV['RAGGRUPPAMENTO_MERCEOLOGICO'].value_counts() / len(WINTER_FAV) * 100\n",
    "cmap = cm.get_cmap('viridis')\n",
    "ax = tmp.plot(kind='barh',\n",
    "              title=\"Type of Rewards in Winter\",\n",
    "              color=cmap(.25),\n",
    "              width=.6,\n",
    "              )\n",
    "ax.grid(True, axis='x', color='lightgrey', linestyle='--')\n",
    "ax.set(xlabel='Frequency (in %)')\n",
    "plt.show()"
   ]
  },
  {
   "cell_type": "code",
   "execution_count": 53,
   "metadata": {},
   "outputs": [
    {
     "data": {
      "image/png": "[encoded data removed]",
      "text/plain": [
       "<Figure size 432x288 with 1 Axes>"
      ]
     },
     "metadata": {
      "needs_background": "light"
     },
     "output_type": "display_data"
    }
   ],
   "source": [
    "tmp = SPRING_FAV['RAGGRUPPAMENTO_MERCEOLOGICO'].value_counts() / len(SPRING_FAV) * 100\n",
    "cmap = cm.get_cmap('viridis')\n",
    "ax = tmp.plot(kind='barh',\n",
    "              title=\"Type of Rewards in Spring\",\n",
    "              color=cmap(.25),\n",
    "              width=.6,\n",
    "              )\n",
    "ax.grid(True, axis='x', color='lightgrey', linestyle='--')\n",
    "ax.set(xlabel='Frequency (in %)')\n",
    "plt.show()"
   ]
  },
  {
   "cell_type": "code",
   "execution_count": 54,
   "metadata": {},
   "outputs": [
    {
     "data": {
      "image/png": "[encoded data removed]",
      "text/plain": [
       "<Figure size 432x288 with 1 Axes>"
      ]
     },
     "metadata": {
      "needs_background": "light"
     },
     "output_type": "display_data"
    }
   ],
   "source": [
    "tmp = SUMMER_FAV['RAGGRUPPAMENTO_MERCEOLOGICO'].value_counts() / len(SUMMER_FAV) * 100\n",
    "cmap = cm.get_cmap('viridis')\n",
    "ax = tmp.plot(kind='barh',\n",
    "              title=\"Type of Rewards in Summer\",\n",
    "              color=cmap(.25),\n",
    "              width=.6,\n",
    "              )\n",
    "ax.grid(True, axis='x', color='lightgrey', linestyle='--')\n",
    "ax.set(xlabel='Frequency (in %)')\n",
    "plt.show()"
   ]
  },
  {
   "cell_type": "code",
   "execution_count": 55,
   "metadata": {},
   "outputs": [
    {
     "data": {
      "text/plain": [
       "BUONO SCONTO CARB 4E 430 PUNTI        88550\n",
       "BUONO SCONTO CARB 4E 860 PUNTI        70302\n",
       "BUONO SCONTO CARB 4E 1290 PUNTI       66117\n",
       "BUONO SCONTO CARB 4E 2580 PUNTI       47553\n",
       "CONSEGNA PASTA GAROFALO               30722\n",
       "PRENOTAZIONE BICCHIERE GUZZINI 4PZ    15623\n",
       "CONSEGNA CODICE GIFT AMILON 5?        14970\n",
       "PRENOTAZIONE MASCHERINA TOMBOLINI      8342\n",
       "PRENOTAZIONE PHILIPS RASOIO            6823\n",
       "PRENOTAZIONE MISUR PRESSIONE           5309\n",
       "Name: DESCRIZIONE, dtype: int64"
      ]
     },
     "execution_count": 55,
     "metadata": {},
     "output_type": "execute_result"
    }
   ],
   "source": [
    "df['DESCRIZIONE'].value_counts().head(10)"
   ]
  },
  {
   "cell_type": "code",
   "execution_count": 56,
   "metadata": {},
   "outputs": [
    {
     "data": {
      "text/plain": [
       "BUONO SCONTO CARB 4E 430 PUNTI        21012\n",
       "BUONO SCONTO CARB 4E 860 PUNTI        16504\n",
       "BUONO SCONTO CARB 4E 1290 PUNTI       15259\n",
       "BUONO SCONTO CARB 4E 2580 PUNTI       10791\n",
       "CONSEGNA PASTA GAROFALO                7500\n",
       "PRENOTAZIONE BICCHIERE GUZZINI 4PZ     5031\n",
       "CONSEGNA CODICE GIFT AMILON 5?         3867\n",
       "PRENOTAZIONE MASCHERINA TOMBOLINI      2056\n",
       "PRENOTAZIONE PHILIPS RASOIO            1801\n",
       "PRENOTAZIONE KIT 38 UTENSILI           1605\n",
       "Name: DESCRIZIONE, dtype: int64"
      ]
     },
     "execution_count": 56,
     "metadata": {},
     "output_type": "execute_result"
    }
   ],
   "source": [
    "WINTER_FAV['DESCRIZIONE'].value_counts().head(10)"
   ]
  },
  {
   "cell_type": "code",
   "execution_count": 57,
   "metadata": {},
   "outputs": [
    {
     "data": {
      "text/plain": [
       "BUONO SCONTO CARB 4E 430 PUNTI        24853\n",
       "BUONO SCONTO CARB 4E 860 PUNTI        19588\n",
       "BUONO SCONTO CARB 4E 1290 PUNTI       18252\n",
       "BUONO SCONTO CARB 4E 2580 PUNTI       12142\n",
       "CONSEGNA PASTA GAROFALO               12132\n",
       "PRENOTAZIONE BICCHIERE GUZZINI 4PZ     4898\n",
       "PRENOTAZIONE MASCHERINA TOMBOLINI      4526\n",
       "CONSEGNA MASCHERINA TOMBOLINI          3177\n",
       "CONSEGNA CODICE GIFT AMILON 5?         2799\n",
       "PRENOTAZIONE SET SPUGNE C.I.           2563\n",
       "Name: DESCRIZIONE, dtype: int64"
      ]
     },
     "execution_count": 57,
     "metadata": {},
     "output_type": "execute_result"
    }
   ],
   "source": [
    "AUTUMN_FAV['DESCRIZIONE'].value_counts().head(10)"
   ]
  },
  {
   "cell_type": "code",
   "execution_count": 58,
   "metadata": {},
   "outputs": [
    {
     "data": {
      "text/plain": [
       "BUONO SCONTO CARB 4E 430 PUNTI        23025\n",
       "BUONO SCONTO CARB 4E 860 PUNTI        18064\n",
       "BUONO SCONTO CARB 4E 1290 PUNTI       16870\n",
       "BUONO SCONTO CARB 4E 2580 PUNTI       12030\n",
       "CONSEGNA PASTA GAROFALO                6884\n",
       "CONSEGNA CODICE GIFT AMILON 5?         4729\n",
       "PRENOTAZIONE BICCHIERE GUZZINI 4PZ     3749\n",
       "CONSEGNA CODICE SET PIATTI 18PZ        2131\n",
       "PRENOTAZIONE PHILIPS RASOIO            1932\n",
       "CONSEGNA CODICE GIFT AMILON 20?        1672\n",
       "Name: DESCRIZIONE, dtype: int64"
      ]
     },
     "execution_count": 58,
     "metadata": {},
     "output_type": "execute_result"
    }
   ],
   "source": [
    "SPRING_FAV['DESCRIZIONE'].value_counts().head(10)"
   ]
  },
  {
   "cell_type": "code",
   "execution_count": 59,
   "metadata": {},
   "outputs": [
    {
     "data": {
      "text/plain": [
       "BUONO SCONTO CARB 4E 430 PUNTI        19660\n",
       "BUONO SCONTO CARB 4E 860 PUNTI        16146\n",
       "BUONO SCONTO CARB 4E 1290 PUNTI       15736\n",
       "BUONO SCONTO CARB 4E 2580 PUNTI       12590\n",
       "CONSEGNA PASTA GAROFALO                4206\n",
       "CONSEGNA CODICE GIFT AMILON 5?         3575\n",
       "PRENOTAZIONE BICCHIERE GUZZINI 4PZ     1945\n",
       "PRENOTAZIONE PHILIPS RASOIO            1156\n",
       "PRENOTAZIONE IDROPULITRICE KARCHER     1041\n",
       "CONSEGNA CODICE GIFT AMILON 20?        1024\n",
       "Name: DESCRIZIONE, dtype: int64"
      ]
     },
     "execution_count": 59,
     "metadata": {},
     "output_type": "execute_result"
    }
   ],
   "source": [
    "SUMMER_FAV['DESCRIZIONE'].value_counts().head(10)"
   ]
  },
  {
   "cell_type": "code",
   "execution_count": null,
   "metadata": {},
   "outputs": [],
   "source": []
  },
  {
   "cell_type": "code",
   "execution_count": 40,
   "metadata": {},
   "outputs": [],
   "source": [
    "dg=pd.read_csv('master_data/Anagrafica_ClubQ8.csv', sep=';',index_col='COD_PAN_DA_POS')"
   ]
  },
  {
   "cell_type": "code",
   "execution_count": 41,
   "metadata": {},
   "outputs": [
    {
     "data": {
      "text/html": [
       "<div>\n",
       "<style scoped>\n",
       "    .dataframe tbody tr th:only-of-type {\n",
       "        vertical-align: middle;\n",
       "    }\n",
       "\n",
       "    .dataframe tbody tr th {\n",
       "        vertical-align: top;\n",
       "    }\n",
       "\n",
       "    .dataframe thead th {\n",
       "        text-align: right;\n",
       "    }\n",
       "</style>\n",
       "<table border=\"1\" class=\"dataframe\">\n",
       "  <thead>\n",
       "    <tr style=\"text-align: right;\">\n",
       "      <th></th>\n",
       "      <th>SEX</th>\n",
       "      <th>DATA_NASCITA</th>\n",
       "      <th>REGIONE</th>\n",
       "      <th>PROVINCIA</th>\n",
       "      <th>COMUNE</th>\n",
       "      <th>TIPO_CARTA</th>\n",
       "      <th>DATA_BATTESIMO</th>\n",
       "      <th>SALDO_PUNTI</th>\n",
       "    </tr>\n",
       "    <tr>\n",
       "      <th>COD_PAN_DA_POS</th>\n",
       "      <th></th>\n",
       "      <th></th>\n",
       "      <th></th>\n",
       "      <th></th>\n",
       "      <th></th>\n",
       "      <th></th>\n",
       "      <th></th>\n",
       "      <th></th>\n",
       "    </tr>\n",
       "  </thead>\n",
       "  <tbody>\n",
       "    <tr>\n",
       "      <th>7071161603000000976</th>\n",
       "      <td>F</td>\n",
       "      <td>1979-09-06 00:00:00</td>\n",
       "      <td>LAZIO</td>\n",
       "      <td>ROMA</td>\n",
       "      <td>ROMA</td>\n",
       "      <td>STARQ8_FISICA</td>\n",
       "      <td>2020-02-28 10:36:06</td>\n",
       "      <td>3949,000000</td>\n",
       "    </tr>\n",
       "    <tr>\n",
       "      <th>7071161603000000992</th>\n",
       "      <td>F</td>\n",
       "      <td>1961-10-01 00:00:00</td>\n",
       "      <td>LAZIO</td>\n",
       "      <td>ROMA</td>\n",
       "      <td>ROMA</td>\n",
       "      <td>STARQ8_FISICA</td>\n",
       "      <td>2002-10-19 18:44:00</td>\n",
       "      <td>2110,000000</td>\n",
       "    </tr>\n",
       "    <tr>\n",
       "      <th>7071161603000001156</th>\n",
       "      <td>F</td>\n",
       "      <td>1984-10-23 00:00:00</td>\n",
       "      <td>EMILIA ROMAGNA</td>\n",
       "      <td>PIACENZA</td>\n",
       "      <td>PIACENZA</td>\n",
       "      <td>STARQ8_FISICA</td>\n",
       "      <td>2019-07-23 18:33:29</td>\n",
       "      <td>1921,000000</td>\n",
       "    </tr>\n",
       "    <tr>\n",
       "      <th>7071161603000001164</th>\n",
       "      <td>M</td>\n",
       "      <td>1969-10-23 00:00:00</td>\n",
       "      <td>EMILIA ROMAGNA</td>\n",
       "      <td>PIACENZA</td>\n",
       "      <td>PIACENZA</td>\n",
       "      <td>STARQ8_FISICA</td>\n",
       "      <td>2019-07-22 15:28:13</td>\n",
       "      <td>1798,000000</td>\n",
       "    </tr>\n",
       "    <tr>\n",
       "      <th>7071161603000001172</th>\n",
       "      <td>M</td>\n",
       "      <td>1964-06-06 00:00:00</td>\n",
       "      <td>EMILIA ROMAGNA</td>\n",
       "      <td>PIACENZA</td>\n",
       "      <td>PIACENZA</td>\n",
       "      <td>STARQ8_FISICA</td>\n",
       "      <td>2019-08-05 18:43:58</td>\n",
       "      <td>1278,000000</td>\n",
       "    </tr>\n",
       "    <tr>\n",
       "      <th>...</th>\n",
       "      <td>...</td>\n",
       "      <td>...</td>\n",
       "      <td>...</td>\n",
       "      <td>...</td>\n",
       "      <td>...</td>\n",
       "      <td>...</td>\n",
       "      <td>...</td>\n",
       "      <td>...</td>\n",
       "    </tr>\n",
       "    <tr>\n",
       "      <th>7071161603690008206</th>\n",
       "      <td>M</td>\n",
       "      <td>1972-05-24 00:00:00</td>\n",
       "      <td>PIEMONTE</td>\n",
       "      <td>VERCELLI</td>\n",
       "      <td>BORGOSESIA</td>\n",
       "      <td>STARQ8_FISICA</td>\n",
       "      <td>2019-06-13 07:57:22</td>\n",
       "      <td>10836,000000</td>\n",
       "    </tr>\n",
       "    <tr>\n",
       "      <th>7071161603690008222</th>\n",
       "      <td>M</td>\n",
       "      <td>1982-08-08 00:00:00</td>\n",
       "      <td>PIEMONTE</td>\n",
       "      <td>VERBANIA</td>\n",
       "      <td>VERBANIA</td>\n",
       "      <td>STARQ8_FISICA</td>\n",
       "      <td>2019-06-11 11:15:00</td>\n",
       "      <td>3112,000000</td>\n",
       "    </tr>\n",
       "    <tr>\n",
       "      <th>7071161603690008248</th>\n",
       "      <td>F</td>\n",
       "      <td>1960-10-08 00:00:00</td>\n",
       "      <td>CAMPANIA</td>\n",
       "      <td>NAPOLI</td>\n",
       "      <td>NAPOLI</td>\n",
       "      <td>STARQ8_FISICA</td>\n",
       "      <td>2019-10-01 08:52:20</td>\n",
       "      <td>148,000000</td>\n",
       "    </tr>\n",
       "    <tr>\n",
       "      <th>7071161603690008263</th>\n",
       "      <td>M</td>\n",
       "      <td>1977-11-29 00:00:00</td>\n",
       "      <td>SARDEGNA</td>\n",
       "      <td>CAGLIARI</td>\n",
       "      <td>CAGLIARI</td>\n",
       "      <td>STARQ8_FISICA</td>\n",
       "      <td>2019-09-26 08:34:33</td>\n",
       "      <td>1428,000000</td>\n",
       "    </tr>\n",
       "    <tr>\n",
       "      <th>7071161603690008354</th>\n",
       "      <td>M</td>\n",
       "      <td>1980-08-01 00:00:00</td>\n",
       "      <td>SARDEGNA</td>\n",
       "      <td>CAGLIARI</td>\n",
       "      <td>CAGLIARI</td>\n",
       "      <td>STARQ8_FISICA</td>\n",
       "      <td>2019-11-20 08:03:40</td>\n",
       "      <td>220,000000</td>\n",
       "    </tr>\n",
       "  </tbody>\n",
       "</table>\n",
       "<p>1656137 rows × 8 columns</p>\n",
       "</div>"
      ],
      "text/plain": [
       "                    SEX         DATA_NASCITA         REGIONE PROVINCIA  \\\n",
       "COD_PAN_DA_POS                                                           \n",
       "7071161603000000976   F  1979-09-06 00:00:00           LAZIO      ROMA   \n",
       "7071161603000000992   F  1961-10-01 00:00:00           LAZIO      ROMA   \n",
       "7071161603000001156   F  1984-10-23 00:00:00  EMILIA ROMAGNA  PIACENZA   \n",
       "7071161603000001164   M  1969-10-23 00:00:00  EMILIA ROMAGNA  PIACENZA   \n",
       "7071161603000001172   M  1964-06-06 00:00:00  EMILIA ROMAGNA  PIACENZA   \n",
       "...                  ..                  ...             ...       ...   \n",
       "7071161603690008206   M  1972-05-24 00:00:00        PIEMONTE  VERCELLI   \n",
       "7071161603690008222   M  1982-08-08 00:00:00        PIEMONTE  VERBANIA   \n",
       "7071161603690008248   F  1960-10-08 00:00:00        CAMPANIA    NAPOLI   \n",
       "7071161603690008263   M  1977-11-29 00:00:00        SARDEGNA  CAGLIARI   \n",
       "7071161603690008354   M  1980-08-01 00:00:00        SARDEGNA  CAGLIARI   \n",
       "\n",
       "                         COMUNE     TIPO_CARTA       DATA_BATTESIMO  \\\n",
       "COD_PAN_DA_POS                                                        \n",
       "7071161603000000976        ROMA  STARQ8_FISICA  2020-02-28 10:36:06   \n",
       "7071161603000000992        ROMA  STARQ8_FISICA  2002-10-19 18:44:00   \n",
       "7071161603000001156    PIACENZA  STARQ8_FISICA  2019-07-23 18:33:29   \n",
       "7071161603000001164    PIACENZA  STARQ8_FISICA  2019-07-22 15:28:13   \n",
       "7071161603000001172    PIACENZA  STARQ8_FISICA  2019-08-05 18:43:58   \n",
       "...                         ...            ...                  ...   \n",
       "7071161603690008206  BORGOSESIA  STARQ8_FISICA  2019-06-13 07:57:22   \n",
       "7071161603690008222    VERBANIA  STARQ8_FISICA  2019-06-11 11:15:00   \n",
       "7071161603690008248      NAPOLI  STARQ8_FISICA  2019-10-01 08:52:20   \n",
       "7071161603690008263    CAGLIARI  STARQ8_FISICA  2019-09-26 08:34:33   \n",
       "7071161603690008354    CAGLIARI  STARQ8_FISICA  2019-11-20 08:03:40   \n",
       "\n",
       "                      SALDO_PUNTI  \n",
       "COD_PAN_DA_POS                     \n",
       "7071161603000000976   3949,000000  \n",
       "7071161603000000992   2110,000000  \n",
       "7071161603000001156   1921,000000  \n",
       "7071161603000001164   1798,000000  \n",
       "7071161603000001172   1278,000000  \n",
       "...                           ...  \n",
       "7071161603690008206  10836,000000  \n",
       "7071161603690008222   3112,000000  \n",
       "7071161603690008248    148,000000  \n",
       "7071161603690008263   1428,000000  \n",
       "7071161603690008354    220,000000  \n",
       "\n",
       "[1656137 rows x 8 columns]"
      ]
     },
     "execution_count": 41,
     "metadata": {},
     "output_type": "execute_result"
    }
   ],
   "source": [
    "dg.sort_index()"
   ]
  },
  {
   "cell_type": "code",
   "execution_count": 38,
   "metadata": {},
   "outputs": [],
   "source": [
    "#Client distribution is on the Tom and Tracys data exploration "
   ]
  },
  {
   "cell_type": "code",
   "execution_count": null,
   "metadata": {},
   "outputs": [],
   "source": []
  },
  {
   "cell_type": "code",
   "execution_count": null,
   "metadata": {},
   "outputs": [],
   "source": [
    "##When did clients join Q8 Loyalty Program?##"
   ]
  },
  {
   "cell_type": "code",
   "execution_count": 45,
   "metadata": {},
   "outputs": [
    {
     "data": {
      "text/plain": [
       "SEX               object\n",
       "DATA_NASCITA      object\n",
       "REGIONE           object\n",
       "PROVINCIA         object\n",
       "COMUNE            object\n",
       "TIPO_CARTA        object\n",
       "DATA_BATTESIMO    object\n",
       "SALDO_PUNTI       object\n",
       "dtype: object"
      ]
     },
     "execution_count": 45,
     "metadata": {},
     "output_type": "execute_result"
    }
   ],
   "source": [
    "dg.dtypes"
   ]
  },
  {
   "cell_type": "code",
   "execution_count": 74,
   "metadata": {},
   "outputs": [],
   "source": [
    "dg[\"DATA_BATTESIMO\"] = dg[\"DATA_BATTESIMO\"].astype(\"datetime64\")"
   ]
  },
  {
   "cell_type": "code",
   "execution_count": 75,
   "metadata": {},
   "outputs": [],
   "source": [
    "dg[\"DATA_BATTESIMO\"] =dg[\"DATA_BATTESIMO\"].dt.date"
   ]
  },
  {
   "cell_type": "code",
   "execution_count": 76,
   "metadata": {},
   "outputs": [],
   "source": [
    "dg[\"DATA_BATTESIMO\"] = dg[\"DATA_BATTESIMO\"].astype(\"datetime64\")"
   ]
  },
  {
   "cell_type": "code",
   "execution_count": 77,
   "metadata": {},
   "outputs": [
    {
     "data": {
      "text/html": [
       "<div>\n",
       "<style scoped>\n",
       "    .dataframe tbody tr th:only-of-type {\n",
       "        vertical-align: middle;\n",
       "    }\n",
       "\n",
       "    .dataframe tbody tr th {\n",
       "        vertical-align: top;\n",
       "    }\n",
       "\n",
       "    .dataframe thead th {\n",
       "        text-align: right;\n",
       "    }\n",
       "</style>\n",
       "<table border=\"1\" class=\"dataframe\">\n",
       "  <thead>\n",
       "    <tr style=\"text-align: right;\">\n",
       "      <th></th>\n",
       "      <th>SEX</th>\n",
       "      <th>DATA_NASCITA</th>\n",
       "      <th>REGIONE</th>\n",
       "      <th>PROVINCIA</th>\n",
       "      <th>COMUNE</th>\n",
       "      <th>TIPO_CARTA</th>\n",
       "      <th>DATA_BATTESIMO</th>\n",
       "      <th>SALDO_PUNTI</th>\n",
       "    </tr>\n",
       "    <tr>\n",
       "      <th>COD_PAN_DA_POS</th>\n",
       "      <th></th>\n",
       "      <th></th>\n",
       "      <th></th>\n",
       "      <th></th>\n",
       "      <th></th>\n",
       "      <th></th>\n",
       "      <th></th>\n",
       "      <th></th>\n",
       "    </tr>\n",
       "  </thead>\n",
       "  <tbody>\n",
       "    <tr>\n",
       "      <th>7071161603018922195</th>\n",
       "      <td>M</td>\n",
       "      <td>1951-09-14</td>\n",
       "      <td>LAZIO</td>\n",
       "      <td>VITERBO</td>\n",
       "      <td>SUTRI</td>\n",
       "      <td>STARQ8_FISICA</td>\n",
       "      <td>2015-01-08</td>\n",
       "      <td>511,000000</td>\n",
       "    </tr>\n",
       "    <tr>\n",
       "      <th>7071161603005992565</th>\n",
       "      <td>F</td>\n",
       "      <td>1988-09-15</td>\n",
       "      <td>NaN</td>\n",
       "      <td>NaN</td>\n",
       "      <td>NaN</td>\n",
       "      <td>STARQ8_FISICA</td>\n",
       "      <td>2020-07-10</td>\n",
       "      <td>379,000000</td>\n",
       "    </tr>\n",
       "    <tr>\n",
       "      <th>7071161603025867243</th>\n",
       "      <td>F</td>\n",
       "      <td>1943-09-09</td>\n",
       "      <td>LAZIO</td>\n",
       "      <td>ROMA</td>\n",
       "      <td>ROMA</td>\n",
       "      <td>STARQ8_FISICA</td>\n",
       "      <td>2020-07-10</td>\n",
       "      <td>108,000000</td>\n",
       "    </tr>\n",
       "    <tr>\n",
       "      <th>7071161603021997861</th>\n",
       "      <td>M</td>\n",
       "      <td>1974-03-01</td>\n",
       "      <td>SICILIA</td>\n",
       "      <td>MESSINA</td>\n",
       "      <td>MESSINA</td>\n",
       "      <td>STARQ8_FISICA</td>\n",
       "      <td>2020-07-10</td>\n",
       "      <td>100,000000</td>\n",
       "    </tr>\n",
       "    <tr>\n",
       "      <th>7071161603025554049</th>\n",
       "      <td>M</td>\n",
       "      <td>1963-11-22</td>\n",
       "      <td>CAMPANIA</td>\n",
       "      <td>SALERNO</td>\n",
       "      <td>EBOLI</td>\n",
       "      <td>STARQ8_FISICA</td>\n",
       "      <td>2020-07-10</td>\n",
       "      <td>284,000000</td>\n",
       "    </tr>\n",
       "    <tr>\n",
       "      <th>...</th>\n",
       "      <td>...</td>\n",
       "      <td>...</td>\n",
       "      <td>...</td>\n",
       "      <td>...</td>\n",
       "      <td>...</td>\n",
       "      <td>...</td>\n",
       "      <td>...</td>\n",
       "      <td>...</td>\n",
       "    </tr>\n",
       "    <tr>\n",
       "      <th>7071161603672630225</th>\n",
       "      <td>F</td>\n",
       "      <td>1962-06-22</td>\n",
       "      <td>EMILIA ROMAGNA</td>\n",
       "      <td>RIMINI</td>\n",
       "      <td>SAN GIOVANNI IN MARIGNANO</td>\n",
       "      <td>STARQ8_FISICA</td>\n",
       "      <td>2019-11-27</td>\n",
       "      <td>2741,000000</td>\n",
       "    </tr>\n",
       "    <tr>\n",
       "      <th>7071161603673015798</th>\n",
       "      <td>M</td>\n",
       "      <td>1967-03-19</td>\n",
       "      <td>LAZIO</td>\n",
       "      <td>ROMA</td>\n",
       "      <td>ROMA</td>\n",
       "      <td>STARQ8_FISICA</td>\n",
       "      <td>2019-03-21</td>\n",
       "      <td>8996,000000</td>\n",
       "    </tr>\n",
       "    <tr>\n",
       "      <th>7071161603024035909</th>\n",
       "      <td>M</td>\n",
       "      <td>1987-03-18</td>\n",
       "      <td>SICILIA</td>\n",
       "      <td>PALERMO</td>\n",
       "      <td>PALERMO</td>\n",
       "      <td>STARQ8_FISICA</td>\n",
       "      <td>2021-01-19</td>\n",
       "      <td>424,000000</td>\n",
       "    </tr>\n",
       "    <tr>\n",
       "      <th>7071161603601002132</th>\n",
       "      <td>F</td>\n",
       "      <td>1984-09-20</td>\n",
       "      <td>LOMBARDIA</td>\n",
       "      <td>BRESCIA</td>\n",
       "      <td>ISEO</td>\n",
       "      <td>STARQ8_VIRTUALE</td>\n",
       "      <td>2020-12-15</td>\n",
       "      <td>740,000000</td>\n",
       "    </tr>\n",
       "    <tr>\n",
       "      <th>7071161603012594909</th>\n",
       "      <td>M</td>\n",
       "      <td>1977-09-27</td>\n",
       "      <td>SICILIA</td>\n",
       "      <td>CATANIA</td>\n",
       "      <td>CATANIA</td>\n",
       "      <td>STARQ8_FISICA</td>\n",
       "      <td>2020-01-22</td>\n",
       "      <td>NaN</td>\n",
       "    </tr>\n",
       "  </tbody>\n",
       "</table>\n",
       "<p>1656137 rows × 8 columns</p>\n",
       "</div>"
      ],
      "text/plain": [
       "                    SEX DATA_NASCITA         REGIONE PROVINCIA  \\\n",
       "COD_PAN_DA_POS                                                   \n",
       "7071161603018922195   M   1951-09-14           LAZIO   VITERBO   \n",
       "7071161603005992565   F   1988-09-15             NaN       NaN   \n",
       "7071161603025867243   F   1943-09-09           LAZIO      ROMA   \n",
       "7071161603021997861   M   1974-03-01         SICILIA   MESSINA   \n",
       "7071161603025554049   M   1963-11-22        CAMPANIA   SALERNO   \n",
       "...                  ..          ...             ...       ...   \n",
       "7071161603672630225   F   1962-06-22  EMILIA ROMAGNA    RIMINI   \n",
       "7071161603673015798   M   1967-03-19           LAZIO      ROMA   \n",
       "7071161603024035909   M   1987-03-18         SICILIA   PALERMO   \n",
       "7071161603601002132   F   1984-09-20       LOMBARDIA   BRESCIA   \n",
       "7071161603012594909   M   1977-09-27         SICILIA   CATANIA   \n",
       "\n",
       "                                        COMUNE       TIPO_CARTA  \\\n",
       "COD_PAN_DA_POS                                                    \n",
       "7071161603018922195                      SUTRI    STARQ8_FISICA   \n",
       "7071161603005992565                        NaN    STARQ8_FISICA   \n",
       "7071161603025867243                       ROMA    STARQ8_FISICA   \n",
       "7071161603021997861                    MESSINA    STARQ8_FISICA   \n",
       "7071161603025554049                      EBOLI    STARQ8_FISICA   \n",
       "...                                        ...              ...   \n",
       "7071161603672630225  SAN GIOVANNI IN MARIGNANO    STARQ8_FISICA   \n",
       "7071161603673015798                       ROMA    STARQ8_FISICA   \n",
       "7071161603024035909                    PALERMO    STARQ8_FISICA   \n",
       "7071161603601002132                       ISEO  STARQ8_VIRTUALE   \n",
       "7071161603012594909                    CATANIA    STARQ8_FISICA   \n",
       "\n",
       "                    DATA_BATTESIMO  SALDO_PUNTI  \n",
       "COD_PAN_DA_POS                                   \n",
       "7071161603018922195     2015-01-08   511,000000  \n",
       "7071161603005992565     2020-07-10   379,000000  \n",
       "7071161603025867243     2020-07-10   108,000000  \n",
       "7071161603021997861     2020-07-10   100,000000  \n",
       "7071161603025554049     2020-07-10   284,000000  \n",
       "...                            ...          ...  \n",
       "7071161603672630225     2019-11-27  2741,000000  \n",
       "7071161603673015798     2019-03-21  8996,000000  \n",
       "7071161603024035909     2021-01-19   424,000000  \n",
       "7071161603601002132     2020-12-15   740,000000  \n",
       "7071161603012594909     2020-01-22          NaN  \n",
       "\n",
       "[1656137 rows x 8 columns]"
      ]
     },
     "execution_count": 77,
     "metadata": {},
     "output_type": "execute_result"
    }
   ],
   "source": [
    "dg"
   ]
  },
  {
   "cell_type": "code",
   "execution_count": 78,
   "metadata": {},
   "outputs": [
    {
     "data": {
      "text/plain": [
       "SEX                       object\n",
       "DATA_NASCITA      datetime64[ns]\n",
       "REGIONE                   object\n",
       "PROVINCIA                 object\n",
       "COMUNE                    object\n",
       "TIPO_CARTA                object\n",
       "DATA_BATTESIMO    datetime64[ns]\n",
       "SALDO_PUNTI               object\n",
       "dtype: object"
      ]
     },
     "execution_count": 78,
     "metadata": {},
     "output_type": "execute_result"
    }
   ],
   "source": [
    "dg.dtypes"
   ]
  },
  {
   "cell_type": "code",
   "execution_count": 79,
   "metadata": {},
   "outputs": [],
   "source": [
    "#When did the customers join the Q8 Program?#"
   ]
  },
  {
   "cell_type": "code",
   "execution_count": 80,
   "metadata": {},
   "outputs": [
    {
     "data": {
      "text/plain": [
       "<AxesSubplot:xlabel='DATA_BATTESIMO'>"
      ]
     },
     "execution_count": 80,
     "metadata": {},
     "output_type": "execute_result"
    },
    {
     "data": {
      "image/png": "[encoded data removed]",
      "text/plain": [
       "<Figure size 432x288 with 1 Axes>"
      ]
     },
     "metadata": {
      "needs_background": "light"
     },
     "output_type": "display_data"
    }
   ],
   "source": [
    "dg['DATA_BATTESIMO'].groupby(dg['DATA_BATTESIMO'].dt.year).count().plot(kind=\"bar\")"
   ]
  },
  {
   "cell_type": "code",
   "execution_count": 81,
   "metadata": {},
   "outputs": [],
   "source": [
    "dg[\"DATA_NASCITA\"] = dg[\"DATA_NASCITA\"].astype(\"datetime64\")\n",
    "dg[\"DATA_NASCITA\"] =dg[\"DATA_NASCITA\"].dt.date\n",
    "dg[\"DATA_NASCITA\"] = dg[\"DATA_NASCITA\"].astype(\"datetime64\")"
   ]
  },
  {
   "cell_type": "code",
   "execution_count": 82,
   "metadata": {},
   "outputs": [
    {
     "data": {
      "text/plain": [
       "SEX                       object\n",
       "DATA_NASCITA      datetime64[ns]\n",
       "REGIONE                   object\n",
       "PROVINCIA                 object\n",
       "COMUNE                    object\n",
       "TIPO_CARTA                object\n",
       "DATA_BATTESIMO    datetime64[ns]\n",
       "SALDO_PUNTI               object\n",
       "dtype: object"
      ]
     },
     "execution_count": 82,
     "metadata": {},
     "output_type": "execute_result"
    }
   ],
   "source": [
    "dg.dtypes"
   ]
  },
  {
   "cell_type": "code",
   "execution_count": 83,
   "metadata": {},
   "outputs": [
    {
     "data": {
      "text/plain": [
       "<AxesSubplot:xlabel='DATA_NASCITA'>"
      ]
     },
     "execution_count": 83,
     "metadata": {},
     "output_type": "execute_result"
    },
    {
     "data": {
      "image/png": "[encoded data removed]",
      "text/plain": [
       "<Figure size 432x288 with 1 Axes>"
      ]
     },
     "metadata": {
      "needs_background": "light"
     },
     "output_type": "display_data"
    }
   ],
   "source": [
    "dg['DATA_NASCITA'].groupby(dg['DATA_NASCITA'].dt.year).count().plot(kind=\"bar\")"
   ]
  },
  {
   "cell_type": "code",
   "execution_count": 84,
   "metadata": {},
   "outputs": [
    {
     "data": {
      "image/png": "[encoded data removed]",
      "text/plain": [
       "<Figure size 432x288 with 1 Axes>"
      ]
     },
     "metadata": {
      "needs_background": "light"
     },
     "output_type": "display_data"
    }
   ],
   "source": [
    "hist = dg['DATA_NASCITA'].hist(bins=3)"
   ]
  },
  {
   "cell_type": "code",
   "execution_count": null,
   "metadata": {},
   "outputs": [],
   "source": [
    "#Age of the Q8 Clients#"
   ]
  },
  {
   "cell_type": "code",
   "execution_count": 88,
   "metadata": {},
   "outputs": [],
   "source": [
    "now = pd.Timestamp('now')"
   ]
  },
  {
   "cell_type": "code",
   "execution_count": 91,
   "metadata": {},
   "outputs": [],
   "source": [
    "dg['AGE'] = (now - dg['DATA_NASCITA']).astype('<m8[Y]')"
   ]
  },
  {
   "cell_type": "code",
   "execution_count": 99,
   "metadata": {},
   "outputs": [],
   "source": [
    "dg['YEARS_AFILLIATE'] = (now - dg['DATA_BATTESIMO']).astype('<m8[Y]')"
   ]
  },
  {
   "cell_type": "code",
   "execution_count": 100,
   "metadata": {},
   "outputs": [
    {
     "data": {
      "text/html": [
       "<div>\n",
       "<style scoped>\n",
       "    .dataframe tbody tr th:only-of-type {\n",
       "        vertical-align: middle;\n",
       "    }\n",
       "\n",
       "    .dataframe tbody tr th {\n",
       "        vertical-align: top;\n",
       "    }\n",
       "\n",
       "    .dataframe thead th {\n",
       "        text-align: right;\n",
       "    }\n",
       "</style>\n",
       "<table border=\"1\" class=\"dataframe\">\n",
       "  <thead>\n",
       "    <tr style=\"text-align: right;\">\n",
       "      <th></th>\n",
       "      <th>SEX</th>\n",
       "      <th>DATA_NASCITA</th>\n",
       "      <th>REGIONE</th>\n",
       "      <th>PROVINCIA</th>\n",
       "      <th>COMUNE</th>\n",
       "      <th>TIPO_CARTA</th>\n",
       "      <th>DATA_BATTESIMO</th>\n",
       "      <th>SALDO_PUNTI</th>\n",
       "      <th>AGE</th>\n",
       "      <th>YEARS_AFILLIATE</th>\n",
       "    </tr>\n",
       "    <tr>\n",
       "      <th>COD_PAN_DA_POS</th>\n",
       "      <th></th>\n",
       "      <th></th>\n",
       "      <th></th>\n",
       "      <th></th>\n",
       "      <th></th>\n",
       "      <th></th>\n",
       "      <th></th>\n",
       "      <th></th>\n",
       "      <th></th>\n",
       "      <th></th>\n",
       "    </tr>\n",
       "  </thead>\n",
       "  <tbody>\n",
       "    <tr>\n",
       "      <th>7071161603018922195</th>\n",
       "      <td>M</td>\n",
       "      <td>1951-09-14</td>\n",
       "      <td>LAZIO</td>\n",
       "      <td>VITERBO</td>\n",
       "      <td>SUTRI</td>\n",
       "      <td>STARQ8_FISICA</td>\n",
       "      <td>2015-01-08</td>\n",
       "      <td>511,000000</td>\n",
       "      <td>70.0</td>\n",
       "      <td>6.0</td>\n",
       "    </tr>\n",
       "    <tr>\n",
       "      <th>7071161603005992565</th>\n",
       "      <td>F</td>\n",
       "      <td>1988-09-15</td>\n",
       "      <td>NaN</td>\n",
       "      <td>NaN</td>\n",
       "      <td>NaN</td>\n",
       "      <td>STARQ8_FISICA</td>\n",
       "      <td>2020-07-10</td>\n",
       "      <td>379,000000</td>\n",
       "      <td>33.0</td>\n",
       "      <td>1.0</td>\n",
       "    </tr>\n",
       "    <tr>\n",
       "      <th>7071161603025867243</th>\n",
       "      <td>F</td>\n",
       "      <td>1943-09-09</td>\n",
       "      <td>LAZIO</td>\n",
       "      <td>ROMA</td>\n",
       "      <td>ROMA</td>\n",
       "      <td>STARQ8_FISICA</td>\n",
       "      <td>2020-07-10</td>\n",
       "      <td>108,000000</td>\n",
       "      <td>78.0</td>\n",
       "      <td>1.0</td>\n",
       "    </tr>\n",
       "    <tr>\n",
       "      <th>7071161603021997861</th>\n",
       "      <td>M</td>\n",
       "      <td>1974-03-01</td>\n",
       "      <td>SICILIA</td>\n",
       "      <td>MESSINA</td>\n",
       "      <td>MESSINA</td>\n",
       "      <td>STARQ8_FISICA</td>\n",
       "      <td>2020-07-10</td>\n",
       "      <td>100,000000</td>\n",
       "      <td>47.0</td>\n",
       "      <td>1.0</td>\n",
       "    </tr>\n",
       "    <tr>\n",
       "      <th>7071161603025554049</th>\n",
       "      <td>M</td>\n",
       "      <td>1963-11-22</td>\n",
       "      <td>CAMPANIA</td>\n",
       "      <td>SALERNO</td>\n",
       "      <td>EBOLI</td>\n",
       "      <td>STARQ8_FISICA</td>\n",
       "      <td>2020-07-10</td>\n",
       "      <td>284,000000</td>\n",
       "      <td>58.0</td>\n",
       "      <td>1.0</td>\n",
       "    </tr>\n",
       "    <tr>\n",
       "      <th>...</th>\n",
       "      <td>...</td>\n",
       "      <td>...</td>\n",
       "      <td>...</td>\n",
       "      <td>...</td>\n",
       "      <td>...</td>\n",
       "      <td>...</td>\n",
       "      <td>...</td>\n",
       "      <td>...</td>\n",
       "      <td>...</td>\n",
       "      <td>...</td>\n",
       "    </tr>\n",
       "    <tr>\n",
       "      <th>7071161603672630225</th>\n",
       "      <td>F</td>\n",
       "      <td>1962-06-22</td>\n",
       "      <td>EMILIA ROMAGNA</td>\n",
       "      <td>RIMINI</td>\n",
       "      <td>SAN GIOVANNI IN MARIGNANO</td>\n",
       "      <td>STARQ8_FISICA</td>\n",
       "      <td>2019-11-27</td>\n",
       "      <td>2741,000000</td>\n",
       "      <td>59.0</td>\n",
       "      <td>2.0</td>\n",
       "    </tr>\n",
       "    <tr>\n",
       "      <th>7071161603673015798</th>\n",
       "      <td>M</td>\n",
       "      <td>1967-03-19</td>\n",
       "      <td>LAZIO</td>\n",
       "      <td>ROMA</td>\n",
       "      <td>ROMA</td>\n",
       "      <td>STARQ8_FISICA</td>\n",
       "      <td>2019-03-21</td>\n",
       "      <td>8996,000000</td>\n",
       "      <td>54.0</td>\n",
       "      <td>2.0</td>\n",
       "    </tr>\n",
       "    <tr>\n",
       "      <th>7071161603024035909</th>\n",
       "      <td>M</td>\n",
       "      <td>1987-03-18</td>\n",
       "      <td>SICILIA</td>\n",
       "      <td>PALERMO</td>\n",
       "      <td>PALERMO</td>\n",
       "      <td>STARQ8_FISICA</td>\n",
       "      <td>2021-01-19</td>\n",
       "      <td>424,000000</td>\n",
       "      <td>34.0</td>\n",
       "      <td>0.0</td>\n",
       "    </tr>\n",
       "    <tr>\n",
       "      <th>7071161603601002132</th>\n",
       "      <td>F</td>\n",
       "      <td>1984-09-20</td>\n",
       "      <td>LOMBARDIA</td>\n",
       "      <td>BRESCIA</td>\n",
       "      <td>ISEO</td>\n",
       "      <td>STARQ8_VIRTUALE</td>\n",
       "      <td>2020-12-15</td>\n",
       "      <td>740,000000</td>\n",
       "      <td>37.0</td>\n",
       "      <td>1.0</td>\n",
       "    </tr>\n",
       "    <tr>\n",
       "      <th>7071161603012594909</th>\n",
       "      <td>M</td>\n",
       "      <td>1977-09-27</td>\n",
       "      <td>SICILIA</td>\n",
       "      <td>CATANIA</td>\n",
       "      <td>CATANIA</td>\n",
       "      <td>STARQ8_FISICA</td>\n",
       "      <td>2020-01-22</td>\n",
       "      <td>NaN</td>\n",
       "      <td>44.0</td>\n",
       "      <td>1.0</td>\n",
       "    </tr>\n",
       "  </tbody>\n",
       "</table>\n",
       "<p>1656137 rows × 10 columns</p>\n",
       "</div>"
      ],
      "text/plain": [
       "                    SEX DATA_NASCITA         REGIONE PROVINCIA  \\\n",
       "COD_PAN_DA_POS                                                   \n",
       "7071161603018922195   M   1951-09-14           LAZIO   VITERBO   \n",
       "7071161603005992565   F   1988-09-15             NaN       NaN   \n",
       "7071161603025867243   F   1943-09-09           LAZIO      ROMA   \n",
       "7071161603021997861   M   1974-03-01         SICILIA   MESSINA   \n",
       "7071161603025554049   M   1963-11-22        CAMPANIA   SALERNO   \n",
       "...                  ..          ...             ...       ...   \n",
       "7071161603672630225   F   1962-06-22  EMILIA ROMAGNA    RIMINI   \n",
       "7071161603673015798   M   1967-03-19           LAZIO      ROMA   \n",
       "7071161603024035909   M   1987-03-18         SICILIA   PALERMO   \n",
       "7071161603601002132   F   1984-09-20       LOMBARDIA   BRESCIA   \n",
       "7071161603012594909   M   1977-09-27         SICILIA   CATANIA   \n",
       "\n",
       "                                        COMUNE       TIPO_CARTA  \\\n",
       "COD_PAN_DA_POS                                                    \n",
       "7071161603018922195                      SUTRI    STARQ8_FISICA   \n",
       "7071161603005992565                        NaN    STARQ8_FISICA   \n",
       "7071161603025867243                       ROMA    STARQ8_FISICA   \n",
       "7071161603021997861                    MESSINA    STARQ8_FISICA   \n",
       "7071161603025554049                      EBOLI    STARQ8_FISICA   \n",
       "...                                        ...              ...   \n",
       "7071161603672630225  SAN GIOVANNI IN MARIGNANO    STARQ8_FISICA   \n",
       "7071161603673015798                       ROMA    STARQ8_FISICA   \n",
       "7071161603024035909                    PALERMO    STARQ8_FISICA   \n",
       "7071161603601002132                       ISEO  STARQ8_VIRTUALE   \n",
       "7071161603012594909                    CATANIA    STARQ8_FISICA   \n",
       "\n",
       "                    DATA_BATTESIMO  SALDO_PUNTI   AGE  YEARS_AFILLIATE  \n",
       "COD_PAN_DA_POS                                                          \n",
       "7071161603018922195     2015-01-08   511,000000  70.0              6.0  \n",
       "7071161603005992565     2020-07-10   379,000000  33.0              1.0  \n",
       "7071161603025867243     2020-07-10   108,000000  78.0              1.0  \n",
       "7071161603021997861     2020-07-10   100,000000  47.0              1.0  \n",
       "7071161603025554049     2020-07-10   284,000000  58.0              1.0  \n",
       "...                            ...          ...   ...              ...  \n",
       "7071161603672630225     2019-11-27  2741,000000  59.0              2.0  \n",
       "7071161603673015798     2019-03-21  8996,000000  54.0              2.0  \n",
       "7071161603024035909     2021-01-19   424,000000  34.0              0.0  \n",
       "7071161603601002132     2020-12-15   740,000000  37.0              1.0  \n",
       "7071161603012594909     2020-01-22          NaN  44.0              1.0  \n",
       "\n",
       "[1656137 rows x 10 columns]"
      ]
     },
     "execution_count": 100,
     "metadata": {},
     "output_type": "execute_result"
    }
   ],
   "source": [
    "dg"
   ]
  },
  {
   "cell_type": "code",
   "execution_count": 95,
   "metadata": {},
   "outputs": [
    {
     "data": {
      "image/png": "[encoded data removed]",
      "text/plain": [
       "<Figure size 432x288 with 1 Axes>"
      ]
     },
     "metadata": {
      "needs_background": "light"
     },
     "output_type": "display_data"
    }
   ],
   "source": [
    "hist = dg['AGE'].hist(bins=10)"
   ]
  },
  {
   "cell_type": "code",
   "execution_count": 112,
   "metadata": {},
   "outputs": [
    {
     "data": {
      "image/png": "[encoded data removed]",
      "text/plain": [
       "<Figure size 432x288 with 1 Axes>"
      ]
     },
     "metadata": {
      "needs_background": "light"
     },
     "output_type": "display_data"
    }
   ],
   "source": [
    "hist = dg['YEARS_AFILLIATE'].hist(bins=20)"
   ]
  },
  {
   "cell_type": "code",
   "execution_count": 97,
   "metadata": {},
   "outputs": [
    {
     "data": {
      "text/plain": [
       "49.0     44780\n",
       "52.0     44712\n",
       "50.0     44311\n",
       "47.0     44122\n",
       "48.0     43941\n",
       "         ...  \n",
       "2.0          1\n",
       "109.0        1\n",
       "104.0        1\n",
       "107.0        1\n",
       "111.0        1\n",
       "Name: AGE, Length: 118, dtype: int64"
      ]
     },
     "execution_count": 97,
     "metadata": {},
     "output_type": "execute_result"
    }
   ],
   "source": [
    "dg['AGE'].value_counts()"
   ]
  },
  {
   "cell_type": "code",
   "execution_count": 98,
   "metadata": {},
   "outputs": [
    {
     "data": {
      "text/plain": [
       "M    1114651\n",
       "F     541485\n",
       "Name: SEX, dtype: int64"
      ]
     },
     "execution_count": 98,
     "metadata": {},
     "output_type": "execute_result"
    }
   ],
   "source": [
    "dg['SEX'].value_counts()"
   ]
  },
  {
   "cell_type": "code",
   "execution_count": 102,
   "metadata": {},
   "outputs": [],
   "source": [
    "# see the caategorical variables and the absolute variables of ANAGRAPHICA DATAFRAME\n",
    "cols_focus_cat = [\n",
    "    'SEX',\n",
    "    'REGIONE',\n",
    "    'TIPO_CARTA',\n",
    "    ]\n",
    "cols_focus_num = [\n",
    "    'SALDO_PUNTI',\n",
    "    'AGE',\n",
    "    'YEARS_AFILLIATE'\n",
    "    ]"
   ]
  },
  {
   "cell_type": "code",
   "execution_count": 103,
   "metadata": {},
   "outputs": [],
   "source": [
    "cols_focus = cols_focus_cat + cols_focus_num"
   ]
  },
  {
   "cell_type": "code",
   "execution_count": 105,
   "metadata": {},
   "outputs": [
    {
     "data": {
      "text/html": [
       "<div>\n",
       "<style scoped>\n",
       "    .dataframe tbody tr th:only-of-type {\n",
       "        vertical-align: middle;\n",
       "    }\n",
       "\n",
       "    .dataframe tbody tr th {\n",
       "        vertical-align: top;\n",
       "    }\n",
       "\n",
       "    .dataframe thead th {\n",
       "        text-align: right;\n",
       "    }\n",
       "</style>\n",
       "<table border=\"1\" class=\"dataframe\">\n",
       "  <thead>\n",
       "    <tr style=\"text-align: right;\">\n",
       "      <th></th>\n",
       "      <th>count</th>\n",
       "      <th>mean</th>\n",
       "      <th>std</th>\n",
       "      <th>min</th>\n",
       "      <th>25%</th>\n",
       "      <th>50%</th>\n",
       "      <th>75%</th>\n",
       "      <th>max</th>\n",
       "    </tr>\n",
       "  </thead>\n",
       "  <tbody>\n",
       "    <tr>\n",
       "      <th>AGE</th>\n",
       "      <td>1656137.0</td>\n",
       "      <td>49.627476</td>\n",
       "      <td>14.733696</td>\n",
       "      <td>2.0</td>\n",
       "      <td>39.0</td>\n",
       "      <td>50.0</td>\n",
       "      <td>59.0</td>\n",
       "      <td>121.0</td>\n",
       "    </tr>\n",
       "    <tr>\n",
       "      <th>YEARS_AFILLIATE</th>\n",
       "      <td>1655941.0</td>\n",
       "      <td>4.177474</td>\n",
       "      <td>4.680234</td>\n",
       "      <td>0.0</td>\n",
       "      <td>1.0</td>\n",
       "      <td>2.0</td>\n",
       "      <td>6.0</td>\n",
       "      <td>21.0</td>\n",
       "    </tr>\n",
       "  </tbody>\n",
       "</table>\n",
       "</div>"
      ],
      "text/plain": [
       "                     count       mean        std  min   25%   50%   75%    max\n",
       "AGE              1656137.0  49.627476  14.733696  2.0  39.0  50.0  59.0  121.0\n",
       "YEARS_AFILLIATE  1655941.0   4.177474   4.680234  0.0   1.0   2.0   6.0   21.0"
      ]
     },
     "execution_count": 105,
     "metadata": {},
     "output_type": "execute_result"
    }
   ],
   "source": [
    "dg[cols_focus_num].describe().transpose()"
   ]
  },
  {
   "cell_type": "code",
   "execution_count": 106,
   "metadata": {},
   "outputs": [
    {
     "data": {
      "text/html": [
       "<div>\n",
       "<style scoped>\n",
       "    .dataframe tbody tr th:only-of-type {\n",
       "        vertical-align: middle;\n",
       "    }\n",
       "\n",
       "    .dataframe tbody tr th {\n",
       "        vertical-align: top;\n",
       "    }\n",
       "\n",
       "    .dataframe thead th {\n",
       "        text-align: right;\n",
       "    }\n",
       "</style>\n",
       "<table border=\"1\" class=\"dataframe\">\n",
       "  <thead>\n",
       "    <tr style=\"text-align: right;\">\n",
       "      <th></th>\n",
       "      <th>count</th>\n",
       "      <th>unique</th>\n",
       "      <th>top</th>\n",
       "      <th>freq</th>\n",
       "    </tr>\n",
       "  </thead>\n",
       "  <tbody>\n",
       "    <tr>\n",
       "      <th>SEX</th>\n",
       "      <td>1656137</td>\n",
       "      <td>3</td>\n",
       "      <td>M</td>\n",
       "      <td>1114651</td>\n",
       "    </tr>\n",
       "    <tr>\n",
       "      <th>REGIONE</th>\n",
       "      <td>1656137</td>\n",
       "      <td>21</td>\n",
       "      <td>LOMBARDIA</td>\n",
       "      <td>240771</td>\n",
       "    </tr>\n",
       "    <tr>\n",
       "      <th>TIPO_CARTA</th>\n",
       "      <td>1656137</td>\n",
       "      <td>3</td>\n",
       "      <td>STARQ8_FISICA</td>\n",
       "      <td>1497919</td>\n",
       "    </tr>\n",
       "  </tbody>\n",
       "</table>\n",
       "</div>"
      ],
      "text/plain": [
       "              count unique            top     freq\n",
       "SEX         1656137      3              M  1114651\n",
       "REGIONE     1656137     21      LOMBARDIA   240771\n",
       "TIPO_CARTA  1656137      3  STARQ8_FISICA  1497919"
      ]
     },
     "execution_count": 106,
     "metadata": {},
     "output_type": "execute_result"
    }
   ],
   "source": [
    "dg[cols_focus_cat].astype(str).describe().transpose()"
   ]
  },
  {
   "cell_type": "code",
   "execution_count": 107,
   "metadata": {},
   "outputs": [],
   "source": [
    "def get_frequencies(series: pd.Series, n_categories: int = None, \n",
    "                    bins: int = None, dropna: bool = True\n",
    "                    ) -> pd.DataFrame:\n",
    "    vc = series.value_counts(ascending=False,\n",
    "                             bins=bins,\n",
    "                             dropna=dropna\n",
    "                            ) \n",
    "    if n_categories is not None:\n",
    "        if not isinstance(n_categories, int) or n_categories <= 0:\n",
    "            raise TypeError('n_categories should be a strictly positive integer')\n",
    "        if n_categories < len(vc):\n",
    "            freq_others = vc.iloc[n_categories - 1:].sum()\n",
    "            vc = vc.iloc[:n_categories - 1]\\\n",
    "                   .append(pd.Series({'others': freq_others}))\n",
    "    return pd.DataFrame({'absolute': vc,\n",
    "                         'relative': vc / len(series) * 100,\n",
    "                         },\n",
    "                        index=vc.index\n",
    "                        )"
   ]
  },
  {
   "cell_type": "code",
   "execution_count": 108,
   "metadata": {},
   "outputs": [
    {
     "data": {
      "text/html": [
       "<div>\n",
       "<style scoped>\n",
       "    .dataframe tbody tr th:only-of-type {\n",
       "        vertical-align: middle;\n",
       "    }\n",
       "\n",
       "    .dataframe tbody tr th {\n",
       "        vertical-align: top;\n",
       "    }\n",
       "\n",
       "    .dataframe thead th {\n",
       "        text-align: right;\n",
       "    }\n",
       "</style>\n",
       "<table border=\"1\" class=\"dataframe\">\n",
       "  <thead>\n",
       "    <tr style=\"text-align: right;\">\n",
       "      <th></th>\n",
       "      <th>absolute</th>\n",
       "      <th>relative</th>\n",
       "    </tr>\n",
       "  </thead>\n",
       "  <tbody>\n",
       "    <tr>\n",
       "      <th>M</th>\n",
       "      <td>1114651</td>\n",
       "      <td>67.304275</td>\n",
       "    </tr>\n",
       "    <tr>\n",
       "      <th>F</th>\n",
       "      <td>541485</td>\n",
       "      <td>32.695665</td>\n",
       "    </tr>\n",
       "  </tbody>\n",
       "</table>\n",
       "</div>"
      ],
      "text/plain": [
       "   absolute   relative\n",
       "M   1114651  67.304275\n",
       "F    541485  32.695665"
      ]
     },
     "execution_count": 108,
     "metadata": {},
     "output_type": "execute_result"
    }
   ],
   "source": [
    "get_frequencies(dg['SEX'], n_categories=2)"
   ]
  },
  {
   "cell_type": "code",
   "execution_count": 109,
   "metadata": {},
   "outputs": [
    {
     "data": {
      "text/html": [
       "<div>\n",
       "<style scoped>\n",
       "    .dataframe tbody tr th:only-of-type {\n",
       "        vertical-align: middle;\n",
       "    }\n",
       "\n",
       "    .dataframe tbody tr th {\n",
       "        vertical-align: top;\n",
       "    }\n",
       "\n",
       "    .dataframe thead th {\n",
       "        text-align: right;\n",
       "    }\n",
       "</style>\n",
       "<table border=\"1\" class=\"dataframe\">\n",
       "  <thead>\n",
       "    <tr style=\"text-align: right;\">\n",
       "      <th></th>\n",
       "      <th>absolute</th>\n",
       "      <th>relative</th>\n",
       "    </tr>\n",
       "  </thead>\n",
       "  <tbody>\n",
       "    <tr>\n",
       "      <th>LOMBARDIA</th>\n",
       "      <td>240771</td>\n",
       "      <td>14.538109</td>\n",
       "    </tr>\n",
       "    <tr>\n",
       "      <th>CAMPANIA</th>\n",
       "      <td>211322</td>\n",
       "      <td>12.759935</td>\n",
       "    </tr>\n",
       "    <tr>\n",
       "      <th>SICILIA</th>\n",
       "      <td>201247</td>\n",
       "      <td>12.151591</td>\n",
       "    </tr>\n",
       "    <tr>\n",
       "      <th>LAZIO</th>\n",
       "      <td>156526</td>\n",
       "      <td>9.451271</td>\n",
       "    </tr>\n",
       "    <tr>\n",
       "      <th>TOSCANA</th>\n",
       "      <td>113771</td>\n",
       "      <td>6.869661</td>\n",
       "    </tr>\n",
       "    <tr>\n",
       "      <th>PUGLIA</th>\n",
       "      <td>108151</td>\n",
       "      <td>6.530317</td>\n",
       "    </tr>\n",
       "    <tr>\n",
       "      <th>PIEMONTE</th>\n",
       "      <td>100616</td>\n",
       "      <td>6.075343</td>\n",
       "    </tr>\n",
       "    <tr>\n",
       "      <th>CALABRIA</th>\n",
       "      <td>89785</td>\n",
       "      <td>5.421351</td>\n",
       "    </tr>\n",
       "    <tr>\n",
       "      <th>VENETO</th>\n",
       "      <td>60169</td>\n",
       "      <td>3.633093</td>\n",
       "    </tr>\n",
       "    <tr>\n",
       "      <th>EMILIA ROMAGNA</th>\n",
       "      <td>57308</td>\n",
       "      <td>3.460342</td>\n",
       "    </tr>\n",
       "    <tr>\n",
       "      <th>SARDEGNA</th>\n",
       "      <td>55092</td>\n",
       "      <td>3.326536</td>\n",
       "    </tr>\n",
       "    <tr>\n",
       "      <th>LIGURIA</th>\n",
       "      <td>25398</td>\n",
       "      <td>1.533569</td>\n",
       "    </tr>\n",
       "    <tr>\n",
       "      <th>TRENTINO ALTO ADIGE</th>\n",
       "      <td>21320</td>\n",
       "      <td>1.287333</td>\n",
       "    </tr>\n",
       "    <tr>\n",
       "      <th>BASILICATA</th>\n",
       "      <td>19453</td>\n",
       "      <td>1.174601</td>\n",
       "    </tr>\n",
       "    <tr>\n",
       "      <th>FRIULI VENEZIA GIULIA</th>\n",
       "      <td>17971</td>\n",
       "      <td>1.085116</td>\n",
       "    </tr>\n",
       "    <tr>\n",
       "      <th>MARCHE</th>\n",
       "      <td>15308</td>\n",
       "      <td>0.924320</td>\n",
       "    </tr>\n",
       "    <tr>\n",
       "      <th>UMBRIA</th>\n",
       "      <td>14890</td>\n",
       "      <td>0.899080</td>\n",
       "    </tr>\n",
       "    <tr>\n",
       "      <th>ABRUZZO</th>\n",
       "      <td>14607</td>\n",
       "      <td>0.881992</td>\n",
       "    </tr>\n",
       "    <tr>\n",
       "      <th>MOLISE</th>\n",
       "      <td>9458</td>\n",
       "      <td>0.571088</td>\n",
       "    </tr>\n",
       "    <tr>\n",
       "      <th>VALLE D'AOSTA</th>\n",
       "      <td>1165</td>\n",
       "      <td>0.070344</td>\n",
       "    </tr>\n",
       "  </tbody>\n",
       "</table>\n",
       "</div>"
      ],
      "text/plain": [
       "                       absolute   relative\n",
       "LOMBARDIA                240771  14.538109\n",
       "CAMPANIA                 211322  12.759935\n",
       "SICILIA                  201247  12.151591\n",
       "LAZIO                    156526   9.451271\n",
       "TOSCANA                  113771   6.869661\n",
       "PUGLIA                   108151   6.530317\n",
       "PIEMONTE                 100616   6.075343\n",
       "CALABRIA                  89785   5.421351\n",
       "VENETO                    60169   3.633093\n",
       "EMILIA ROMAGNA            57308   3.460342\n",
       "SARDEGNA                  55092   3.326536\n",
       "LIGURIA                   25398   1.533569\n",
       "TRENTINO ALTO ADIGE       21320   1.287333\n",
       "BASILICATA                19453   1.174601\n",
       "FRIULI VENEZIA GIULIA     17971   1.085116\n",
       "MARCHE                    15308   0.924320\n",
       "UMBRIA                    14890   0.899080\n",
       "ABRUZZO                   14607   0.881992\n",
       "MOLISE                     9458   0.571088\n",
       "VALLE D'AOSTA              1165   0.070344"
      ]
     },
     "execution_count": 109,
     "metadata": {},
     "output_type": "execute_result"
    }
   ],
   "source": [
    "get_frequencies(dg['REGIONE'], n_categories=21)"
   ]
  },
  {
   "cell_type": "code",
   "execution_count": 158,
   "metadata": {},
   "outputs": [
    {
     "data": {
      "text/html": [
       "<div>\n",
       "<style scoped>\n",
       "    .dataframe tbody tr th:only-of-type {\n",
       "        vertical-align: middle;\n",
       "    }\n",
       "\n",
       "    .dataframe tbody tr th {\n",
       "        vertical-align: top;\n",
       "    }\n",
       "\n",
       "    .dataframe thead th {\n",
       "        text-align: right;\n",
       "    }\n",
       "</style>\n",
       "<table border=\"1\" class=\"dataframe\">\n",
       "  <thead>\n",
       "    <tr style=\"text-align: right;\">\n",
       "      <th></th>\n",
       "      <th>absolute</th>\n",
       "      <th>relative</th>\n",
       "    </tr>\n",
       "  </thead>\n",
       "  <tbody>\n",
       "    <tr>\n",
       "      <th>STARQ8_FISICA</th>\n",
       "      <td>1497919</td>\n",
       "      <td>90.446563</td>\n",
       "    </tr>\n",
       "    <tr>\n",
       "      <th>STARQ8_VIRTUALE</th>\n",
       "      <td>148678</td>\n",
       "      <td>8.977397</td>\n",
       "    </tr>\n",
       "    <tr>\n",
       "      <th>STAR_TRUCK</th>\n",
       "      <td>9540</td>\n",
       "      <td>0.576039</td>\n",
       "    </tr>\n",
       "  </tbody>\n",
       "</table>\n",
       "</div>"
      ],
      "text/plain": [
       "                 absolute   relative\n",
       "STARQ8_FISICA     1497919  90.446563\n",
       "STARQ8_VIRTUALE    148678   8.977397\n",
       "STAR_TRUCK           9540   0.576039"
      ]
     },
     "execution_count": 158,
     "metadata": {},
     "output_type": "execute_result"
    }
   ],
   "source": [
    "get_frequencies(dg['TIPO_CARTA'], n_categories=3)"
   ]
  },
  {
   "cell_type": "code",
   "execution_count": 182,
   "metadata": {},
   "outputs": [
    {
     "data": {
      "image/png": "[encoded data removed]",
      "text/plain": [
       "<Figure size 432x288 with 1 Axes>"
      ]
     },
     "metadata": {
      "needs_background": "light"
     },
     "output_type": "display_data"
    }
   ],
   "source": [
    "#Points Distribution accross clients\n",
    "hist = dg['SALDO_PUNTI'].hist(bins=100)\n"
   ]
  },
  {
   "cell_type": "code",
   "execution_count": null,
   "metadata": {},
   "outputs": [],
   "source": []
  },
  {
   "cell_type": "code",
   "execution_count": null,
   "metadata": {},
   "outputs": [],
   "source": []
  },
  {
   "cell_type": "code",
   "execution_count": null,
   "metadata": {},
   "outputs": [],
   "source": []
  },
  {
   "cell_type": "code",
   "execution_count": 65,
   "metadata": {},
   "outputs": [],
   "source": [
    "#Rifornimenti_Carburante_ClubQ8 brief analysis\n",
    "dh=pd.read_csv('master_data/Rifornimenti_Carburante_ClubQ8.csv', sep=';')\n"
   ]
  },
  {
   "cell_type": "code",
   "execution_count": 66,
   "metadata": {},
   "outputs": [
    {
     "data": {
      "text/html": [
       "<div>\n",
       "<style scoped>\n",
       "    .dataframe tbody tr th:only-of-type {\n",
       "        vertical-align: middle;\n",
       "    }\n",
       "\n",
       "    .dataframe tbody tr th {\n",
       "        vertical-align: top;\n",
       "    }\n",
       "\n",
       "    .dataframe thead th {\n",
       "        text-align: right;\n",
       "    }\n",
       "</style>\n",
       "<table border=\"1\" class=\"dataframe\">\n",
       "  <thead>\n",
       "    <tr style=\"text-align: right;\">\n",
       "      <th></th>\n",
       "      <th>COD_PAN_DA_POS</th>\n",
       "      <th>COD_PV</th>\n",
       "      <th>DATA_OPERAZIONE</th>\n",
       "      <th>PRODOTTO</th>\n",
       "      <th>MODALITA_VENDITA</th>\n",
       "      <th>LITRI</th>\n",
       "      <th>PUNTI_CARBURANTE</th>\n",
       "    </tr>\n",
       "  </thead>\n",
       "  <tbody>\n",
       "    <tr>\n",
       "      <th>0</th>\n",
       "      <td>7071161603600606750</td>\n",
       "      <td>584</td>\n",
       "      <td>2021-03-01 00:00:57</td>\n",
       "      <td>CARICO GASOLIO</td>\n",
       "      <td>EASY</td>\n",
       "      <td>7</td>\n",
       "      <td>3</td>\n",
       "    </tr>\n",
       "    <tr>\n",
       "      <th>1</th>\n",
       "      <td>7071161603000039982</td>\n",
       "      <td>155</td>\n",
       "      <td>2021-03-01 00:02:53</td>\n",
       "      <td>CARICO GASOLIO</td>\n",
       "      <td>SELF</td>\n",
       "      <td>17</td>\n",
       "      <td>17</td>\n",
       "    </tr>\n",
       "    <tr>\n",
       "      <th>2</th>\n",
       "      <td>7071161603000720656</td>\n",
       "      <td>4803</td>\n",
       "      <td>2021-03-01 00:03:10</td>\n",
       "      <td>CARICO GASOLIO</td>\n",
       "      <td>OPT</td>\n",
       "      <td>39</td>\n",
       "      <td>19</td>\n",
       "    </tr>\n",
       "    <tr>\n",
       "      <th>3</th>\n",
       "      <td>7071161603014646483</td>\n",
       "      <td>2491</td>\n",
       "      <td>2021-03-01 00:05:45</td>\n",
       "      <td>CARICO HIPERFORM DIESEL</td>\n",
       "      <td>SERVITO</td>\n",
       "      <td>54</td>\n",
       "      <td>54</td>\n",
       "    </tr>\n",
       "    <tr>\n",
       "      <th>4</th>\n",
       "      <td>7071161603011692357</td>\n",
       "      <td>8265</td>\n",
       "      <td>2021-03-01 00:07:29</td>\n",
       "      <td>CARICO GPL</td>\n",
       "      <td>SERVITO</td>\n",
       "      <td>31</td>\n",
       "      <td>31</td>\n",
       "    </tr>\n",
       "    <tr>\n",
       "      <th>...</th>\n",
       "      <td>...</td>\n",
       "      <td>...</td>\n",
       "      <td>...</td>\n",
       "      <td>...</td>\n",
       "      <td>...</td>\n",
       "      <td>...</td>\n",
       "      <td>...</td>\n",
       "    </tr>\n",
       "    <tr>\n",
       "      <th>11787857</th>\n",
       "      <td>7071161603670650324</td>\n",
       "      <td>1114</td>\n",
       "      <td>2021-08-31 23:58:22</td>\n",
       "      <td>CARICO GASOLIO</td>\n",
       "      <td>SELF</td>\n",
       "      <td>50</td>\n",
       "      <td>50</td>\n",
       "    </tr>\n",
       "    <tr>\n",
       "      <th>11787858</th>\n",
       "      <td>7071161603020697769</td>\n",
       "      <td>7064</td>\n",
       "      <td>2021-08-31 23:58:26</td>\n",
       "      <td>CARICO BENZINA</td>\n",
       "      <td>EASY</td>\n",
       "      <td>12</td>\n",
       "      <td>6</td>\n",
       "    </tr>\n",
       "    <tr>\n",
       "      <th>11787859</th>\n",
       "      <td>7071161603010864247</td>\n",
       "      <td>7933</td>\n",
       "      <td>2021-08-31 23:58:56</td>\n",
       "      <td>CARICO BENZINA</td>\n",
       "      <td>OPT</td>\n",
       "      <td>9</td>\n",
       "      <td>4</td>\n",
       "    </tr>\n",
       "    <tr>\n",
       "      <th>11787860</th>\n",
       "      <td>7071161603601882848</td>\n",
       "      <td>5693</td>\n",
       "      <td>2021-08-31 23:59:03</td>\n",
       "      <td>CARICO GASOLIO</td>\n",
       "      <td>SERVITO</td>\n",
       "      <td>50</td>\n",
       "      <td>50</td>\n",
       "    </tr>\n",
       "    <tr>\n",
       "      <th>11787861</th>\n",
       "      <td>7071161603008369308</td>\n",
       "      <td>5493</td>\n",
       "      <td>2021-08-31 23:59:18</td>\n",
       "      <td>CARICO GASOLIO</td>\n",
       "      <td>SELF</td>\n",
       "      <td>40</td>\n",
       "      <td>40</td>\n",
       "    </tr>\n",
       "  </tbody>\n",
       "</table>\n",
       "<p>11787862 rows × 7 columns</p>\n",
       "</div>"
      ],
      "text/plain": [
       "               COD_PAN_DA_POS  COD_PV      DATA_OPERAZIONE  \\\n",
       "0         7071161603600606750     584  2021-03-01 00:00:57   \n",
       "1         7071161603000039982     155  2021-03-01 00:02:53   \n",
       "2         7071161603000720656    4803  2021-03-01 00:03:10   \n",
       "3         7071161603014646483    2491  2021-03-01 00:05:45   \n",
       "4         7071161603011692357    8265  2021-03-01 00:07:29   \n",
       "...                       ...     ...                  ...   \n",
       "11787857  7071161603670650324    1114  2021-08-31 23:58:22   \n",
       "11787858  7071161603020697769    7064  2021-08-31 23:58:26   \n",
       "11787859  7071161603010864247    7933  2021-08-31 23:58:56   \n",
       "11787860  7071161603601882848    5693  2021-08-31 23:59:03   \n",
       "11787861  7071161603008369308    5493  2021-08-31 23:59:18   \n",
       "\n",
       "                         PRODOTTO MODALITA_VENDITA  LITRI  PUNTI_CARBURANTE  \n",
       "0                  CARICO GASOLIO             EASY      7                 3  \n",
       "1                  CARICO GASOLIO             SELF     17                17  \n",
       "2                  CARICO GASOLIO              OPT     39                19  \n",
       "3         CARICO HIPERFORM DIESEL          SERVITO     54                54  \n",
       "4                      CARICO GPL          SERVITO     31                31  \n",
       "...                           ...              ...    ...               ...  \n",
       "11787857           CARICO GASOLIO             SELF     50                50  \n",
       "11787858           CARICO BENZINA             EASY     12                 6  \n",
       "11787859           CARICO BENZINA              OPT      9                 4  \n",
       "11787860           CARICO GASOLIO          SERVITO     50                50  \n",
       "11787861           CARICO GASOLIO             SELF     40                40  \n",
       "\n",
       "[11787862 rows x 7 columns]"
      ]
     },
     "execution_count": 66,
     "metadata": {},
     "output_type": "execute_result"
    }
   ],
   "source": [
    "dh"
   ]
  },
  {
   "cell_type": "code",
   "execution_count": 67,
   "metadata": {},
   "outputs": [],
   "source": [
    "#sum liters consumption by product \n",
    "dh1 = dh.groupby([\"PRODOTTO\"]).sum()\n",
    "dh1['LITRI'] = dh.groupby([\"PRODOTTO\"]).mean()['LITRI']"
   ]
  },
  {
   "cell_type": "code",
   "execution_count": 68,
   "metadata": {},
   "outputs": [
    {
     "data": {
      "text/html": [
       "<div>\n",
       "<style scoped>\n",
       "    .dataframe tbody tr th:only-of-type {\n",
       "        vertical-align: middle;\n",
       "    }\n",
       "\n",
       "    .dataframe tbody tr th {\n",
       "        vertical-align: top;\n",
       "    }\n",
       "\n",
       "    .dataframe thead th {\n",
       "        text-align: right;\n",
       "    }\n",
       "</style>\n",
       "<table border=\"1\" class=\"dataframe\">\n",
       "  <thead>\n",
       "    <tr style=\"text-align: right;\">\n",
       "      <th></th>\n",
       "      <th>COD_PAN_DA_POS</th>\n",
       "      <th>COD_PV</th>\n",
       "      <th>LITRI</th>\n",
       "      <th>PUNTI_CARBURANTE</th>\n",
       "    </tr>\n",
       "    <tr>\n",
       "      <th>PRODOTTO</th>\n",
       "      <th></th>\n",
       "      <th></th>\n",
       "      <th></th>\n",
       "      <th></th>\n",
       "    </tr>\n",
       "  </thead>\n",
       "  <tbody>\n",
       "    <tr>\n",
       "      <th>ANNULLO CARICO BENZINA</th>\n",
       "      <td>1.735263e+22</td>\n",
       "      <td>1.532300e+07</td>\n",
       "      <td>26.387938</td>\n",
       "      <td>-64680.0</td>\n",
       "    </tr>\n",
       "    <tr>\n",
       "      <th>ANNULLO CARICO GASOLIO</th>\n",
       "      <td>2.180746e+22</td>\n",
       "      <td>1.945034e+07</td>\n",
       "      <td>36.736706</td>\n",
       "      <td>-113263.0</td>\n",
       "    </tr>\n",
       "    <tr>\n",
       "      <th>ANNULLO CARICO GASOLIO PESANTE</th>\n",
       "      <td>1.888000e+21</td>\n",
       "      <td>1.152847e+06</td>\n",
       "      <td>118.352060</td>\n",
       "      <td>-6325.0</td>\n",
       "    </tr>\n",
       "    <tr>\n",
       "      <th>ANNULLO CARICO GPL</th>\n",
       "      <td>1.393019e+21</td>\n",
       "      <td>9.783620e+05</td>\n",
       "      <td>30.456853</td>\n",
       "      <td>-6000.0</td>\n",
       "    </tr>\n",
       "    <tr>\n",
       "      <th>ANNULLO CARICO HIPERFORM 100 OTTANI</th>\n",
       "      <td>1.640509e+21</td>\n",
       "      <td>1.083431e+06</td>\n",
       "      <td>29.827586</td>\n",
       "      <td>-6920.0</td>\n",
       "    </tr>\n",
       "    <tr>\n",
       "      <th>ANNULLO CARICO HIPERFORM DIESEL</th>\n",
       "      <td>4.419476e+21</td>\n",
       "      <td>3.658608e+06</td>\n",
       "      <td>35.739200</td>\n",
       "      <td>-22327.0</td>\n",
       "    </tr>\n",
       "    <tr>\n",
       "      <th>ANNULLO CARICO METANO</th>\n",
       "      <td>2.828465e+19</td>\n",
       "      <td>2.167600e+04</td>\n",
       "      <td>11.750000</td>\n",
       "      <td>-47.0</td>\n",
       "    </tr>\n",
       "    <tr>\n",
       "      <th>CARICO BENZINA</th>\n",
       "      <td>3.113654e+25</td>\n",
       "      <td>2.280608e+10</td>\n",
       "      <td>30.558111</td>\n",
       "      <td>131720350.0</td>\n",
       "    </tr>\n",
       "    <tr>\n",
       "      <th>CARICO GASOLIO</th>\n",
       "      <td>4.126279e+25</td>\n",
       "      <td>3.086821e+10</td>\n",
       "      <td>44.488438</td>\n",
       "      <td>250583101.0</td>\n",
       "    </tr>\n",
       "    <tr>\n",
       "      <th>CARICO GASOLIO PESANTE</th>\n",
       "      <td>5.478877e+23</td>\n",
       "      <td>3.475988e+08</td>\n",
       "      <td>419.130237</td>\n",
       "      <td>6313837.0</td>\n",
       "    </tr>\n",
       "    <tr>\n",
       "      <th>CARICO GPL</th>\n",
       "      <td>4.538844e+24</td>\n",
       "      <td>2.713282e+09</td>\n",
       "      <td>34.947789</td>\n",
       "      <td>22024968.0</td>\n",
       "    </tr>\n",
       "    <tr>\n",
       "      <th>CARICO HIPERFORM 100 OTTANI</th>\n",
       "      <td>1.613745e+24</td>\n",
       "      <td>8.490397e+08</td>\n",
       "      <td>29.190877</td>\n",
       "      <td>6584208.0</td>\n",
       "    </tr>\n",
       "    <tr>\n",
       "      <th>CARICO HIPERFORM DIESEL</th>\n",
       "      <td>3.900983e+24</td>\n",
       "      <td>2.557418e+09</td>\n",
       "      <td>38.414809</td>\n",
       "      <td>21042980.0</td>\n",
       "    </tr>\n",
       "    <tr>\n",
       "      <th>CARICO METANO</th>\n",
       "      <td>3.037912e+23</td>\n",
       "      <td>1.949558e+08</td>\n",
       "      <td>20.321587</td>\n",
       "      <td>873056.0</td>\n",
       "    </tr>\n",
       "    <tr>\n",
       "      <th>CARICO METANO PESANTE</th>\n",
       "      <td>7.566143e+20</td>\n",
       "      <td>1.992770e+05</td>\n",
       "      <td>247.542056</td>\n",
       "      <td>5301.0</td>\n",
       "    </tr>\n",
       "  </tbody>\n",
       "</table>\n",
       "</div>"
      ],
      "text/plain": [
       "                                     COD_PAN_DA_POS        COD_PV       LITRI  \\\n",
       "PRODOTTO                                                                        \n",
       "ANNULLO CARICO BENZINA                 1.735263e+22  1.532300e+07   26.387938   \n",
       "ANNULLO CARICO GASOLIO                 2.180746e+22  1.945034e+07   36.736706   \n",
       "ANNULLO CARICO GASOLIO PESANTE         1.888000e+21  1.152847e+06  118.352060   \n",
       "ANNULLO CARICO GPL                     1.393019e+21  9.783620e+05   30.456853   \n",
       "ANNULLO CARICO HIPERFORM 100 OTTANI    1.640509e+21  1.083431e+06   29.827586   \n",
       "ANNULLO CARICO HIPERFORM DIESEL        4.419476e+21  3.658608e+06   35.739200   \n",
       "ANNULLO CARICO METANO                  2.828465e+19  2.167600e+04   11.750000   \n",
       "CARICO BENZINA                         3.113654e+25  2.280608e+10   30.558111   \n",
       "CARICO GASOLIO                         4.126279e+25  3.086821e+10   44.488438   \n",
       "CARICO GASOLIO PESANTE                 5.478877e+23  3.475988e+08  419.130237   \n",
       "CARICO GPL                             4.538844e+24  2.713282e+09   34.947789   \n",
       "CARICO HIPERFORM 100 OTTANI            1.613745e+24  8.490397e+08   29.190877   \n",
       "CARICO HIPERFORM DIESEL                3.900983e+24  2.557418e+09   38.414809   \n",
       "CARICO METANO                          3.037912e+23  1.949558e+08   20.321587   \n",
       "CARICO METANO PESANTE                  7.566143e+20  1.992770e+05  247.542056   \n",
       "\n",
       "                                     PUNTI_CARBURANTE  \n",
       "PRODOTTO                                               \n",
       "ANNULLO CARICO BENZINA                       -64680.0  \n",
       "ANNULLO CARICO GASOLIO                      -113263.0  \n",
       "ANNULLO CARICO GASOLIO PESANTE                -6325.0  \n",
       "ANNULLO CARICO GPL                            -6000.0  \n",
       "ANNULLO CARICO HIPERFORM 100 OTTANI           -6920.0  \n",
       "ANNULLO CARICO HIPERFORM DIESEL              -22327.0  \n",
       "ANNULLO CARICO METANO                           -47.0  \n",
       "CARICO BENZINA                            131720350.0  \n",
       "CARICO GASOLIO                            250583101.0  \n",
       "CARICO GASOLIO PESANTE                      6313837.0  \n",
       "CARICO GPL                                 22024968.0  \n",
       "CARICO HIPERFORM 100 OTTANI                 6584208.0  \n",
       "CARICO HIPERFORM DIESEL                    21042980.0  \n",
       "CARICO METANO                                873056.0  \n",
       "CARICO METANO PESANTE                          5301.0  "
      ]
     },
     "execution_count": 68,
     "metadata": {},
     "output_type": "execute_result"
    }
   ],
   "source": [
    "dh1"
   ]
  },
  {
   "cell_type": "code",
   "execution_count": 69,
   "metadata": {},
   "outputs": [
    {
     "name": "stdout",
     "output_type": "stream",
     "text": [
      "478069301\n"
     ]
    }
   ],
   "source": [
    "#ammount of litter clients bought ignoring the different fuels\n",
    "Total = dh['LITRI'].sum()\n",
    "print (Total)\n"
   ]
  },
  {
   "cell_type": "code",
   "execution_count": 70,
   "metadata": {},
   "outputs": [],
   "source": [
    "#Considering as active customers those who have the card and made at leat one purchase during the timeframe considered\n",
    "number_of_active_clients= dh['COD_PAN_DA_POS'].nunique()"
   ]
  },
  {
   "cell_type": "code",
   "execution_count": 71,
   "metadata": {},
   "outputs": [
    {
     "data": {
      "text/plain": [
       "957357"
      ]
     },
     "execution_count": 71,
     "metadata": {},
     "output_type": "execute_result"
    }
   ],
   "source": [
    "number_of_active_clients"
   ]
  },
  {
   "cell_type": "code",
   "execution_count": 72,
   "metadata": {},
   "outputs": [],
   "source": [
    "#Average ammount of fuel that each individual acquires in Q8 gas stations during the time horizon of our data\n",
    "Average=Total/number_of_active_clients"
   ]
  },
  {
   "cell_type": "code",
   "execution_count": 73,
   "metadata": {},
   "outputs": [
    {
     "data": {
      "text/plain": [
       "499.363665800741"
      ]
     },
     "execution_count": 73,
     "metadata": {},
     "output_type": "execute_result"
    }
   ],
   "source": [
    "Average"
   ]
  },
  {
   "cell_type": "code",
   "execution_count": 80,
   "metadata": {},
   "outputs": [],
   "source": [
    "#see the number of total transactions by taking out 2* the value of annullo because those operations were cancelled, in order to see how many times does the average client go to the gas station using its card.\n",
    "#see the ammount of fuel that each client buys via groupby using then client code --> make an histogram or a table to check the values\n",
    "\n",
    "Neutralize_canceled_purchases=(2*(len(dh[dh['PRODOTTO'].str.contains('ANNULLO ')])))\n"
   ]
  },
  {
   "cell_type": "code",
   "execution_count": 84,
   "metadata": {},
   "outputs": [],
   "source": [
    "Transactions=11787862"
   ]
  },
  {
   "cell_type": "code",
   "execution_count": 85,
   "metadata": {},
   "outputs": [],
   "source": [
    "Number_of_real_transactions=Transactions-Neutralize_canceled_purchases"
   ]
  },
  {
   "cell_type": "code",
   "execution_count": 86,
   "metadata": {},
   "outputs": [
    {
     "data": {
      "text/plain": [
       "11774136"
      ]
     },
     "execution_count": 86,
     "metadata": {},
     "output_type": "execute_result"
    }
   ],
   "source": [
    "Number_of_real_transactions"
   ]
  },
  {
   "cell_type": "code",
   "execution_count": 89,
   "metadata": {},
   "outputs": [],
   "source": [
    "Client_rotation=Number_of_real_transactions/number_of_active_clients"
   ]
  },
  {
   "cell_type": "code",
   "execution_count": 90,
   "metadata": {},
   "outputs": [
    {
     "data": {
      "text/plain": [
       "12.298584540563239"
      ]
     },
     "execution_count": 90,
     "metadata": {},
     "output_type": "execute_result"
    }
   ],
   "source": [
    "Client_rotation"
   ]
  },
  {
   "cell_type": "code",
   "execution_count": null,
   "metadata": {},
   "outputs": [],
   "source": []
  }
 ],
 "metadata": {
  "kernelspec": {
   "display_name": "Python 3 (ipykernel)",
   "language": "python",
   "name": "python3"
  },
  "language_info": {
   "codemirror_mode": {
    "name": "ipython",
    "version": 3
   },
   "file_extension": ".py",
   "mimetype": "text/x-python",
   "name": "python",
   "nbconvert_exporter": "python",
   "pygments_lexer": "ipython3",
   "version": "3.8.2"
  }
 },
 "nbformat": 4,
 "nbformat_minor": 4
}

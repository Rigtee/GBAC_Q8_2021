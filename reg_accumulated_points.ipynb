{
 "cells": [
  {
   "cell_type": "code",
   "execution_count": 24,
   "id": "e54bfd37-1269-4976-b780-63f8e972d4cd",
   "metadata": {},
   "outputs": [],
   "source": [
    "import pandas as pd\n",
    "import pandas as pd\n",
    "import numpy as np\n",
    "import matplotlib.pyplot as plt\n",
    "import seaborn as sns\n",
    "from sklearn.model_selection import train_test_split\n",
    "from sklearn.linear_model import LogisticRegression\n",
    "from sklearn import metrics\n",
    "import statsmodels.api as sm\n",
    "from statsmodels.discrete.discrete_model import Probit"
   ]
  },
  {
   "cell_type": "code",
   "execution_count": null,
   "id": "b3d32282-bb1e-4f72-82b3-7c17c2408d30",
   "metadata": {
    "pycharm": {
     "is_executing": true
    },
    "scrolled": true
   },
   "outputs": [],
   "source": [
    "fuel= pd.read_csv('master_data/Rifornimenti_Carburante_ClubQ8.csv', sep=';')\n",
    "fuel.sort_values(by=['COD_PAN_DA_POS'], inplace=True)\n",
    "fuel['DATA_OPERAZIONE'] = fuel['DATA_OPERAZIONE'].astype('datetime64')\n",
    "#fuel['DATA_OPERAZIONE'] = fuel['DATA_OPERAZIONE'].dt.date\n",
    "fuel['DATA_OPERAZIONE'] = fuel['DATA_OPERAZIONE'].dt.to_period('M')\n",
    "#fuel.set_index(['DATA_OPERAZIONE','COD_PAN_DA_POS'], drop=True, append=False, inplace=False, verify_integrity=False)\n",
    "fuel.head(10)"
   ]
  },
  {
   "cell_type": "code",
   "execution_count": null,
   "id": "e02aa1cf",
   "metadata": {
    "pycharm": {
     "is_executing": true
    }
   },
   "outputs": [],
   "source": [
    "#fuel.set_index(['DATA_OPERAZIONE','COD_PAN_DA_POS'], inplace = True)\n",
    "#fuel.index"
   ]
  },
  {
   "cell_type": "code",
   "execution_count": null,
   "id": "36095d60-dfc8-471a-a34b-e30a0784a261",
   "metadata": {
    "pycharm": {
     "is_executing": true
    },
    "scrolled": true
   },
   "outputs": [],
   "source": [
    "#Accumulated points by customer \n",
    "fuel['Accumulated Points']= fuel.groupby(['COD_PAN_DA_POS'])['PUNTI_CARBURANTE'].cumsum(axis = 0) \n",
    "fuel.head(30)"
   ]
  },
  {
   "cell_type": "code",
   "execution_count": null,
   "id": "d765f3aa",
   "metadata": {
    "pycharm": {
     "is_executing": true
    }
   },
   "outputs": [],
   "source": [
    "mfuel = fuel.groupby(['COD_PAN_DA_POS', 'DATA_OPERAZIONE'])['PUNTI_CARBURANTE'].sum()\n",
    "mfuel.head(30)"
   ]
  },
  {
   "cell_type": "code",
   "execution_count": null,
   "id": "b4e1ddb7-11c8-4bc2-ad53-ae5ad6f8970d",
   "metadata": {
    "pycharm": {
     "is_executing": true
    }
   },
   "outputs": [],
   "source": [
    "premi = pd.read_csv('master_data/Premi_ClubQ8.csv', sep=';', decimal = ',')\n",
    "premi.sort_values(by=['COD_PAN_DA_POS'], inplace=True)\n",
    "#premi['PUNTI_RICHIESTI'].astype('float64')\n",
    "premi['DATA_OPERAZIONE'] = premi['DATA_OPERAZIONE'].astype('datetime64')\n",
    "premi['DATA_OPERAZIONE'] = premi['DATA_OPERAZIONE'].dt.to_period('M')\n",
    "premi.head(10)\n",
    "\n",
    "acc_points = premi.merge(mfuel, how='inner', on='COD_PAN_DA_POS')\n",
    "df_points = acc_points.iloc[:,[0,1,8]]\n",
    "\n",
    "df_points['Points'] = df_points['COD_PAN_DA_POS'] + df_points['DATA_OPERAZIONE']\n",
    "df_points['Points'] = df_points.groupby(['COD_PAN_DA_POS', 'DATA_OPERAZIONE'])['PUNTI_CARBURANTE'].transform('sum')\n",
    "#see : https://stackoverflow.com/questions/34099684/how-to-use-groupby-transform-across-multiple-columns\n",
    "\n",
    "df_points = df_points.drop('PUNTI_CARBURANTE', 1)\n",
    "\n",
    "\n",
    "df_points = df_points.rename(columns={'COD_PAN_DA_POS': 'CustNumber', 'DATA_OPERAZIONE': 'Date'})\n",
    "\n",
    "df_points['Points2'] = (df_points['Points']**2)\n",
    "\n",
    "df_points.drop_duplicates(subset=['Date', 'CustNumber'], keep='first', inplace=True)\n",
    "df_points = df_points.sort_values(by=['CustNumber', 'Date'], ascending = [True, True])\n",
    "\n",
    "df_points['PointsSpent'] = (df_points['Points'] - df_points['Points'].shift()).fillna(0)\n",
    "\n",
    "#Check all the rows with a duplicated customer number \n",
    "#It shows that there is an evolution of the number of points and thus good for the probit/logit\n",
    "regular_cust = df_points[df_points['CustNumber'].duplicated() == True]\n",
    "print(len(regular_cust))\n",
    "regular_cust.head(100)"
   ]
  },
  {
   "cell_type": "code",
   "execution_count": null,
   "id": "ecd1cd24-78f3-4054-b1ed-409e37544fe8",
   "metadata": {
    "pycharm": {
     "is_executing": true
    }
   },
   "outputs": [],
   "source": [
    "#Creating the target variable by taking the assumption that an increase of points from one month to the next one\n",
    "# (from t-1 to t) means increasing fuel purchase\n",
    "df_points['IncreaseFuel'] = np.where(df_points['PointsSpent'] < 0, 0, 1)\n",
    "\n",
    "#Logistic regression using SkLearn\n",
    "\n",
    "features_cols = ['Points', 'Points2', 'PointsSpent']\n",
    "X = df_points[features_cols]\n",
    "\n",
    "y = df_points['IncreaseFuel']\n",
    "\n",
    "print(X.shape, y.shape)\n",
    "\n",
    "X_train, X_test, y_train, y_test = train_test_split(X, y, test_size = 0.2, random_state = 0)\n",
    "logit = LogisticRegression()\n",
    "logit.fit(X_train, y_train)\n",
    "y_pred = logit.predict(X_test)\n",
    "\n",
    "\n",
    "#Checking the validity of the model\n",
    "cnf_matrix = metrics.confusion_matrix(y_test, y_pred)\n",
    "cnf_matrix"
   ]
  },
  {
   "cell_type": "code",
   "execution_count": null,
   "id": "1bb3af41-133e-4487-b5e3-5b8c151cca9c",
   "metadata": {
    "pycharm": {
     "is_executing": true
    }
   },
   "outputs": [],
   "source": [
    "class_names=[0,1] # name  of classes\n",
    "fig, ax = plt.subplots()\n",
    "tick_marks = np.arange(len(class_names))\n",
    "plt.xticks(tick_marks, class_names)\n",
    "plt.yticks(tick_marks, class_names)\n",
    "# create heatmap\n",
    "sns.heatmap(pd.DataFrame(cnf_matrix), annot=True, cmap=\"YlGnBu\" ,fmt='g')\n",
    "ax.xaxis.set_label_position(\"top\")\n",
    "plt.title('Logit - Confusion matrix', fontsize=20)\n",
    "plt.ylabel('Actual IncreaseFuel')\n",
    "plt.xlabel('Predicted IncreaseFuel')\n",
    "#plt.tight_layout()\n",
    "plt.savefig('figures/cnf_matrix_logit.png')\n",
    "plt.show()\n",
    "\n",
    "#Metrics\n",
    "\n",
    "accuracy, precision, recall = metrics.accuracy_score(y_test, y_pred), metrics.precision_score(y_test, y_pred), metrics.recall_score(y_test, y_pred)\n",
    "print('Accuracy : {}%'.format(accuracy*100))\n",
    "print('Precision: {}%'.format(precision*100))\n",
    "print('Recall: {}%'.format(recall*100))"
   ]
  },
  {
   "cell_type": "code",
   "execution_count": null,
   "id": "08900dc2-fe7b-4c4f-bd6e-b26b848e1e76",
   "metadata": {
    "pycharm": {
     "is_executing": true
    }
   },
   "outputs": [],
   "source": [
    "#Receiver Operating Characteristic (ROC) curve\n",
    "\n",
    "y_pred_proba = logit.predict_proba(X_test)[::,1]\n",
    "fpr, tpr, _ = metrics.roc_curve(y_test,  y_pred_proba)\n",
    "auc = metrics.roc_auc_score(y_test, y_pred_proba)\n",
    "plt.plot(fpr,tpr,label=\"Data set, auc=\"+str(auc))\n",
    "plt.title('ROC curve of logistic regression', fontsize=20)\n",
    "plt.legend()\n",
    "plt.savefig('figures/roc_logit.png')\n",
    "plt.show()\n",
    "\n",
    "#Source : https://www.datacamp.com/community/tutorials/understanding-logistic-regression-python"
   ]
  },
  {
   "cell_type": "code",
   "execution_count": null,
   "id": "4d1154e3",
   "metadata": {
    "pycharm": {
     "is_executing": true
    }
   },
   "outputs": [],
   "source": [
    "sns.regplot(x='PointsSpent', y='IncreaseFuel', data=df_points, logistic=True, ci=None)\n",
    "plt.title('Logistic Regression Curve', fontsize=20)\n",
    "plt.savefig('figures/regplot_logit.png')\n",
    "plt.show()"
   ]
  },
  {
   "cell_type": "code",
   "execution_count": null,
   "id": "d145b085",
   "metadata": {
    "pycharm": {
     "is_executing": true
    }
   },
   "outputs": [],
   "source": []
  }
 ],
 "metadata": {
  "kernelspec": {
   "display_name": "Python 3 (ipykernel)",
   "language": "python",
   "name": "python3"
  },
  "language_info": {
   "codemirror_mode": {
    "name": "ipython",
    "version": 3
   },
   "file_extension": ".py",
   "mimetype": "text/x-python",
   "name": "python",
   "nbconvert_exporter": "python",
   "pygments_lexer": "ipython3",
   "version": "3.9.7"
  }
 },
 "nbformat": 4,
 "nbformat_minor": 5
}
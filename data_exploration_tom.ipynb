{
 "cells": [
  {
   "cell_type": "code",
   "execution_count": 31,
   "metadata": {},
   "outputs": [
    {
     "data": {
      "text/html": [
       "<div>\n",
       "<style scoped>\n",
       "    .dataframe tbody tr th:only-of-type {\n",
       "        vertical-align: middle;\n",
       "    }\n",
       "\n",
       "    .dataframe tbody tr th {\n",
       "        vertical-align: top;\n",
       "    }\n",
       "\n",
       "    .dataframe thead th {\n",
       "        text-align: right;\n",
       "    }\n",
       "</style>\n",
       "<table border=\"1\" class=\"dataframe\">\n",
       "  <thead>\n",
       "    <tr style=\"text-align: right;\">\n",
       "      <th></th>\n",
       "      <th>COD_PAN_DA_POS</th>\n",
       "      <th>SEX</th>\n",
       "      <th>DATA_NASCITA</th>\n",
       "      <th>REGIONE</th>\n",
       "      <th>PROVINCIA</th>\n",
       "      <th>COMUNE</th>\n",
       "      <th>TIPO_CARTA</th>\n",
       "      <th>DATA_BATTESIMO</th>\n",
       "      <th>SALDO_PUNTI</th>\n",
       "    </tr>\n",
       "  </thead>\n",
       "  <tbody>\n",
       "    <tr>\n",
       "      <th>0</th>\n",
       "      <td>7071161603018922195</td>\n",
       "      <td>M</td>\n",
       "      <td>1951-09-14 00:00:00</td>\n",
       "      <td>LAZIO</td>\n",
       "      <td>VITERBO</td>\n",
       "      <td>SUTRI</td>\n",
       "      <td>STARQ8_FISICA</td>\n",
       "      <td>2015-01-08 12:32:58</td>\n",
       "      <td>511,000000</td>\n",
       "    </tr>\n",
       "    <tr>\n",
       "      <th>1</th>\n",
       "      <td>7071161603005992565</td>\n",
       "      <td>F</td>\n",
       "      <td>1988-09-15 00:00:00</td>\n",
       "      <td>NaN</td>\n",
       "      <td>NaN</td>\n",
       "      <td>NaN</td>\n",
       "      <td>STARQ8_FISICA</td>\n",
       "      <td>2020-07-10 12:22:35</td>\n",
       "      <td>379,000000</td>\n",
       "    </tr>\n",
       "    <tr>\n",
       "      <th>2</th>\n",
       "      <td>7071161603025867243</td>\n",
       "      <td>F</td>\n",
       "      <td>1943-09-09 00:00:00</td>\n",
       "      <td>LAZIO</td>\n",
       "      <td>ROMA</td>\n",
       "      <td>ROMA</td>\n",
       "      <td>STARQ8_FISICA</td>\n",
       "      <td>2020-07-10 18:07:14</td>\n",
       "      <td>108,000000</td>\n",
       "    </tr>\n",
       "    <tr>\n",
       "      <th>3</th>\n",
       "      <td>7071161603021997861</td>\n",
       "      <td>M</td>\n",
       "      <td>1974-03-01 00:00:00</td>\n",
       "      <td>SICILIA</td>\n",
       "      <td>MESSINA</td>\n",
       "      <td>MESSINA</td>\n",
       "      <td>STARQ8_FISICA</td>\n",
       "      <td>2020-07-10 18:08:21</td>\n",
       "      <td>100,000000</td>\n",
       "    </tr>\n",
       "    <tr>\n",
       "      <th>4</th>\n",
       "      <td>7071161603025554049</td>\n",
       "      <td>M</td>\n",
       "      <td>1963-11-22 00:00:00</td>\n",
       "      <td>CAMPANIA</td>\n",
       "      <td>SALERNO</td>\n",
       "      <td>EBOLI</td>\n",
       "      <td>STARQ8_FISICA</td>\n",
       "      <td>2020-07-10 18:09:27</td>\n",
       "      <td>284,000000</td>\n",
       "    </tr>\n",
       "  </tbody>\n",
       "</table>\n",
       "</div>"
      ],
      "text/plain": [
       "        COD_PAN_DA_POS SEX         DATA_NASCITA   REGIONE PROVINCIA   COMUNE  \\\n",
       "0  7071161603018922195   M  1951-09-14 00:00:00     LAZIO   VITERBO    SUTRI   \n",
       "1  7071161603005992565   F  1988-09-15 00:00:00       NaN       NaN      NaN   \n",
       "2  7071161603025867243   F  1943-09-09 00:00:00     LAZIO      ROMA     ROMA   \n",
       "3  7071161603021997861   M  1974-03-01 00:00:00   SICILIA   MESSINA  MESSINA   \n",
       "4  7071161603025554049   M  1963-11-22 00:00:00  CAMPANIA   SALERNO    EBOLI   \n",
       "\n",
       "      TIPO_CARTA       DATA_BATTESIMO SALDO_PUNTI  \n",
       "0  STARQ8_FISICA  2015-01-08 12:32:58  511,000000  \n",
       "1  STARQ8_FISICA  2020-07-10 12:22:35  379,000000  \n",
       "2  STARQ8_FISICA  2020-07-10 18:07:14  108,000000  \n",
       "3  STARQ8_FISICA  2020-07-10 18:08:21  100,000000  \n",
       "4  STARQ8_FISICA  2020-07-10 18:09:27  284,000000  "
      ]
     },
     "execution_count": 31,
     "metadata": {},
     "output_type": "execute_result"
    }
   ],
   "source": [
    "##Data exploration by Tom ##\n",
    "\n",
    "import pandas as pd\n",
    "import numpy as np\n",
    "import matplotlib.pyplot as plt\n",
    "import seaborn as sns\n",
    "\n",
    "cust_db = pd.read_csv('master_data/Anagrafica_ClubQ8.csv', sep=';')\n",
    "\n",
    "cust_db.head()"
   ]
  },
  {
   "cell_type": "code",
   "execution_count": 32,
   "metadata": {},
   "outputs": [
    {
     "name": "stdout",
     "output_type": "stream",
     "text": [
      "<class 'pandas.core.frame.DataFrame'>\n",
      "RangeIndex: 1656137 entries, 0 to 1656136\n",
      "Data columns (total 9 columns):\n",
      " #   Column          Non-Null Count    Dtype \n",
      "---  ------          --------------    ----- \n",
      " 0   COD_PAN_DA_POS  1656137 non-null  int64 \n",
      " 1   SEX             1656136 non-null  object\n",
      " 2   DATA_NASCITA    1656137 non-null  object\n",
      " 3   REGIONE         1534328 non-null  object\n",
      " 4   PROVINCIA       1534328 non-null  object\n",
      " 5   COMUNE          1534328 non-null  object\n",
      " 6   TIPO_CARTA      1656137 non-null  object\n",
      " 7   DATA_BATTESIMO  1655941 non-null  object\n",
      " 8   SALDO_PUNTI     1627207 non-null  object\n",
      "dtypes: int64(1), object(8)\n",
      "memory usage: 113.7+ MB\n"
     ]
    }
   ],
   "source": [
    "cust_db.info()"
   ]
  },
  {
   "cell_type": "code",
   "execution_count": 33,
   "metadata": {},
   "outputs": [
    {
     "data": {
      "image/png": "[encoded data removed]",
      "text/plain": [
       "<Figure size 432x288 with 1 Axes>"
      ]
     },
     "metadata": {
      "needs_background": "light"
     },
     "output_type": "display_data"
    }
   ],
   "source": [
    "## Where are customers located in Italy?\n",
    "cust_regions = cust_db.groupby(['REGIONE']).size().plot(kind = \"bar\")\n",
    "\n",
    "## More elegantly: could work with Matplotlib"
   ]
  },
  {
   "cell_type": "code",
   "execution_count": 34,
   "metadata": {},
   "outputs": [
    {
     "data": {
      "text/plain": [
       "<AxesSubplot:ylabel='SEX'>"
      ]
     },
     "execution_count": 34,
     "metadata": {},
     "output_type": "execute_result"
    },
    {
     "data": {
      "image/png": "[encoded data removed]",
      "text/plain": [
       "<Figure size 432x288 with 1 Axes>"
      ]
     },
     "metadata": {
      "needs_background": "light"
     },
     "output_type": "display_data"
    }
   ],
   "source": [
    "# Gender distribution across our customers\n",
    "\n",
    "cust_gender = cust_db.groupby(['SEX']).size().plot(kind = 'barh')\n",
    "\n",
    "# Only shows the absolute number of customers for each gender: what if we want a percentage?\n",
    "\n",
    "cust_gender_perc = cust_db.groupby(['SEX']).size().transform(lambda x: x/sum(x))\n",
    "\n",
    "cust_gender_perc.plot(kind = 'barh')"
   ]
  },
  {
   "cell_type": "code",
   "execution_count": 35,
   "metadata": {},
   "outputs": [
    {
     "data": {
      "text/plain": [
       "<AxesSubplot:xlabel='TIPO_CARTA'>"
      ]
     },
     "execution_count": 35,
     "metadata": {},
     "output_type": "execute_result"
    },
    {
     "data": {
      "image/png": "[encoded data removed]",
      "text/plain": [
       "<Figure size 432x288 with 1 Axes>"
      ]
     },
     "metadata": {
      "needs_background": "light"
     },
     "output_type": "display_data"
    }
   ],
   "source": [
    "#Distribution of the type of cards\n",
    "\n",
    "cust_card = cust_db.groupby(['TIPO_CARTA']).size().transform(lambda x: x/sum(x))\n",
    "cust_card.plot(kind = 'bar')"
   ]
  },
  {
   "cell_type": "code",
   "execution_count": 36,
   "metadata": {},
   "outputs": [
    {
     "name": "stderr",
     "output_type": "stream",
     "text": [
      "/Users/tomrigal/PycharmProjects/GBAC_Q8_2021/venv/lib/python3.9/site-packages/seaborn/distributions.py:2619: FutureWarning: `distplot` is a deprecated function and will be removed in a future version. Please adapt your code to use either `displot` (a figure-level function with similar flexibility) or `histplot` (an axes-level function for histograms).\n",
      "  warnings.warn(msg, FutureWarning)\n"
     ]
    },
    {
     "ename": "ValueError",
     "evalue": "could not convert string to float: '511,000000'",
     "output_type": "error",
     "traceback": [
      "\u001B[0;31m---------------------------------------------------------------------------\u001B[0m",
      "\u001B[0;31mValueError\u001B[0m                                Traceback (most recent call last)",
      "\u001B[0;32m/var/folders/c5/6ls10kd543qg372hhy_r3nc00000gn/T/ipykernel_39546/412735883.py\u001B[0m in \u001B[0;36m<module>\u001B[0;34m\u001B[0m\n\u001B[1;32m      5\u001B[0m \u001B[0;31m#We can represent them in a distribution plot using Seaborn\u001B[0m\u001B[0;34m\u001B[0m\u001B[0;34m\u001B[0m\u001B[0m\n\u001B[1;32m      6\u001B[0m \u001B[0;34m\u001B[0m\u001B[0m\n\u001B[0;32m----> 7\u001B[0;31m \u001B[0msns\u001B[0m\u001B[0;34m.\u001B[0m\u001B[0mdistplot\u001B[0m\u001B[0;34m(\u001B[0m\u001B[0mcust_db\u001B[0m\u001B[0;34m[\u001B[0m\u001B[0;34m'SALDO_PUNTI'\u001B[0m\u001B[0;34m]\u001B[0m\u001B[0;34m)\u001B[0m\u001B[0;34m\u001B[0m\u001B[0;34m\u001B[0m\u001B[0m\n\u001B[0m",
      "\u001B[0;32m~/PycharmProjects/GBAC_Q8_2021/venv/lib/python3.9/site-packages/seaborn/distributions.py\u001B[0m in \u001B[0;36mdistplot\u001B[0;34m(a, bins, hist, kde, rug, fit, hist_kws, kde_kws, rug_kws, fit_kws, color, vertical, norm_hist, axlabel, label, ax, x)\u001B[0m\n\u001B[1;32m   2634\u001B[0m \u001B[0;34m\u001B[0m\u001B[0m\n\u001B[1;32m   2635\u001B[0m     \u001B[0;31m# Make a a 1-d float array\u001B[0m\u001B[0;34m\u001B[0m\u001B[0;34m\u001B[0m\u001B[0m\n\u001B[0;32m-> 2636\u001B[0;31m     \u001B[0ma\u001B[0m \u001B[0;34m=\u001B[0m \u001B[0mnp\u001B[0m\u001B[0;34m.\u001B[0m\u001B[0masarray\u001B[0m\u001B[0;34m(\u001B[0m\u001B[0ma\u001B[0m\u001B[0;34m,\u001B[0m \u001B[0mfloat\u001B[0m\u001B[0;34m)\u001B[0m\u001B[0;34m\u001B[0m\u001B[0;34m\u001B[0m\u001B[0m\n\u001B[0m\u001B[1;32m   2637\u001B[0m     \u001B[0;32mif\u001B[0m \u001B[0ma\u001B[0m\u001B[0;34m.\u001B[0m\u001B[0mndim\u001B[0m \u001B[0;34m>\u001B[0m \u001B[0;36m1\u001B[0m\u001B[0;34m:\u001B[0m\u001B[0;34m\u001B[0m\u001B[0;34m\u001B[0m\u001B[0m\n\u001B[1;32m   2638\u001B[0m         \u001B[0ma\u001B[0m \u001B[0;34m=\u001B[0m \u001B[0ma\u001B[0m\u001B[0;34m.\u001B[0m\u001B[0msqueeze\u001B[0m\u001B[0;34m(\u001B[0m\u001B[0;34m)\u001B[0m\u001B[0;34m\u001B[0m\u001B[0;34m\u001B[0m\u001B[0m\n",
      "\u001B[0;32m~/PycharmProjects/GBAC_Q8_2021/venv/lib/python3.9/site-packages/pandas/core/series.py\u001B[0m in \u001B[0;36m__array__\u001B[0;34m(self, dtype)\u001B[0m\n\u001B[1;32m    855\u001B[0m               dtype='datetime64[ns]')\n\u001B[1;32m    856\u001B[0m         \"\"\"\n\u001B[0;32m--> 857\u001B[0;31m         \u001B[0;32mreturn\u001B[0m \u001B[0mnp\u001B[0m\u001B[0;34m.\u001B[0m\u001B[0masarray\u001B[0m\u001B[0;34m(\u001B[0m\u001B[0mself\u001B[0m\u001B[0;34m.\u001B[0m\u001B[0m_values\u001B[0m\u001B[0;34m,\u001B[0m \u001B[0mdtype\u001B[0m\u001B[0;34m)\u001B[0m\u001B[0;34m\u001B[0m\u001B[0;34m\u001B[0m\u001B[0m\n\u001B[0m\u001B[1;32m    858\u001B[0m \u001B[0;34m\u001B[0m\u001B[0m\n\u001B[1;32m    859\u001B[0m     \u001B[0;31m# ----------------------------------------------------------------------\u001B[0m\u001B[0;34m\u001B[0m\u001B[0;34m\u001B[0m\u001B[0m\n",
      "\u001B[0;31mValueError\u001B[0m: could not convert string to float: '511,000000'"
     ]
    },
    {
     "data": {
      "image/png": "[encoded data removed]",
      "text/plain": [
       "<Figure size 432x288 with 1 Axes>"
      ]
     },
     "metadata": {
      "needs_background": "light"
     },
     "output_type": "display_data"
    }
   ],
   "source": [
    "# Summary of the amount of points of each customer\n",
    "\n",
    "cust_db['SALDO_PUNTI'].describe()\n",
    "\n",
    "#We can represent them in a distribution plot using Seaborn\n",
    "\n",
    "sns.distplot(cust_db['SALDO_PUNTI'])\n",
    "#doesn't work as numerical transformation is needed for our numbers\n"
   ]
  },
  {
   "cell_type": "code",
   "execution_count": null,
   "metadata": {},
   "outputs": [],
   "source": []
  }
 ],
 "metadata": {
  "kernelspec": {
   "display_name": "Python 3 (ipykernel)",
   "language": "python",
   "name": "python3"
  },
  "language_info": {
   "codemirror_mode": {
    "name": "ipython",
    "version": 3
   },
   "file_extension": ".py",
   "mimetype": "text/x-python",
   "name": "python",
   "nbconvert_exporter": "python",
   "pygments_lexer": "ipython3",
   "version": "3.9.7"
  }
 },
 "nbformat": 4,
 "nbformat_minor": 1
}
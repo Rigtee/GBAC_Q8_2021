{
 "cells": [
  {
   "cell_type": "code",
   "execution_count": 1,
   "metadata": {},
   "outputs": [
    {
     "data": {
      "text/html": [
       "<div>\n",
       "<style scoped>\n",
       "    .dataframe tbody tr th:only-of-type {\n",
       "        vertical-align: middle;\n",
       "    }\n",
       "\n",
       "    .dataframe tbody tr th {\n",
       "        vertical-align: top;\n",
       "    }\n",
       "\n",
       "    .dataframe thead th {\n",
       "        text-align: right;\n",
       "    }\n",
       "</style>\n",
       "<table border=\"1\" class=\"dataframe\">\n",
       "  <thead>\n",
       "    <tr style=\"text-align: right;\">\n",
       "      <th></th>\n",
       "      <th>SEX</th>\n",
       "      <th>DATA_NASCITA</th>\n",
       "      <th>REGIONE</th>\n",
       "      <th>PROVINCIA</th>\n",
       "      <th>COMUNE</th>\n",
       "      <th>TIPO_CARTA</th>\n",
       "      <th>DATA_BATTESIMO</th>\n",
       "      <th>SALDO_PUNTI</th>\n",
       "    </tr>\n",
       "    <tr>\n",
       "      <th>COD_PAN_DA_POS</th>\n",
       "      <th></th>\n",
       "      <th></th>\n",
       "      <th></th>\n",
       "      <th></th>\n",
       "      <th></th>\n",
       "      <th></th>\n",
       "      <th></th>\n",
       "      <th></th>\n",
       "    </tr>\n",
       "  </thead>\n",
       "  <tbody>\n",
       "    <tr>\n",
       "      <th>7071161603018922195</th>\n",
       "      <td>M</td>\n",
       "      <td>1951-09-14</td>\n",
       "      <td>LAZIO</td>\n",
       "      <td>VITERBO</td>\n",
       "      <td>SUTRI</td>\n",
       "      <td>STARQ8_FISICA</td>\n",
       "      <td>2015-01-08 12:32:58</td>\n",
       "      <td>511.0</td>\n",
       "    </tr>\n",
       "    <tr>\n",
       "      <th>7071161603005992565</th>\n",
       "      <td>F</td>\n",
       "      <td>1988-09-15</td>\n",
       "      <td>NaN</td>\n",
       "      <td>NaN</td>\n",
       "      <td>NaN</td>\n",
       "      <td>STARQ8_FISICA</td>\n",
       "      <td>2020-07-10 12:22:35</td>\n",
       "      <td>379.0</td>\n",
       "    </tr>\n",
       "    <tr>\n",
       "      <th>7071161603025867243</th>\n",
       "      <td>F</td>\n",
       "      <td>1943-09-09</td>\n",
       "      <td>LAZIO</td>\n",
       "      <td>ROMA</td>\n",
       "      <td>ROMA</td>\n",
       "      <td>STARQ8_FISICA</td>\n",
       "      <td>2020-07-10 18:07:14</td>\n",
       "      <td>108.0</td>\n",
       "    </tr>\n",
       "    <tr>\n",
       "      <th>7071161603021997861</th>\n",
       "      <td>M</td>\n",
       "      <td>1974-03-01</td>\n",
       "      <td>SICILIA</td>\n",
       "      <td>MESSINA</td>\n",
       "      <td>MESSINA</td>\n",
       "      <td>STARQ8_FISICA</td>\n",
       "      <td>2020-07-10 18:08:21</td>\n",
       "      <td>100.0</td>\n",
       "    </tr>\n",
       "    <tr>\n",
       "      <th>7071161603025554049</th>\n",
       "      <td>M</td>\n",
       "      <td>1963-11-22</td>\n",
       "      <td>CAMPANIA</td>\n",
       "      <td>SALERNO</td>\n",
       "      <td>EBOLI</td>\n",
       "      <td>STARQ8_FISICA</td>\n",
       "      <td>2020-07-10 18:09:27</td>\n",
       "      <td>284.0</td>\n",
       "    </tr>\n",
       "  </tbody>\n",
       "</table>\n",
       "</div>"
      ],
      "text/plain": [
       "                    SEX DATA_NASCITA   REGIONE PROVINCIA   COMUNE  \\\n",
       "COD_PAN_DA_POS                                                      \n",
       "7071161603018922195   M   1951-09-14     LAZIO   VITERBO    SUTRI   \n",
       "7071161603005992565   F   1988-09-15       NaN       NaN      NaN   \n",
       "7071161603025867243   F   1943-09-09     LAZIO      ROMA     ROMA   \n",
       "7071161603021997861   M   1974-03-01   SICILIA   MESSINA  MESSINA   \n",
       "7071161603025554049   M   1963-11-22  CAMPANIA   SALERNO    EBOLI   \n",
       "\n",
       "                        TIPO_CARTA       DATA_BATTESIMO  SALDO_PUNTI  \n",
       "COD_PAN_DA_POS                                                        \n",
       "7071161603018922195  STARQ8_FISICA  2015-01-08 12:32:58        511.0  \n",
       "7071161603005992565  STARQ8_FISICA  2020-07-10 12:22:35        379.0  \n",
       "7071161603025867243  STARQ8_FISICA  2020-07-10 18:07:14        108.0  \n",
       "7071161603021997861  STARQ8_FISICA  2020-07-10 18:08:21        100.0  \n",
       "7071161603025554049  STARQ8_FISICA  2020-07-10 18:09:27        284.0  "
      ]
     },
     "execution_count": 1,
     "metadata": {},
     "output_type": "execute_result"
    }
   ],
   "source": [
    "##Data exploration by Tom ##\n",
    "\n",
    "import pandas as pd\n",
    "import numpy as np\n",
    "import matplotlib.pyplot as plt\n",
    "import seaborn as sns\n",
    "\n",
    "cust_db = pd.read_csv('master_data/Anagrafica_ClubQ8.csv', sep=';',decimal = ',', index_col='COD_PAN_DA_POS',parse_dates=['DATA_NASCITA'])\n",
    "\n",
    "cust_db.head()"
   ]
  },
  {
   "cell_type": "code",
   "execution_count": 2,
   "metadata": {},
   "outputs": [
    {
     "name": "stdout",
     "output_type": "stream",
     "text": [
      "<class 'pandas.core.frame.DataFrame'>\n",
      "Int64Index: 1656137 entries, 7071161603018922195 to 7071161603012594909\n",
      "Data columns (total 8 columns):\n",
      " #   Column          Non-Null Count    Dtype         \n",
      "---  ------          --------------    -----         \n",
      " 0   SEX             1656136 non-null  object        \n",
      " 1   DATA_NASCITA    1656137 non-null  datetime64[ns]\n",
      " 2   REGIONE         1534328 non-null  object        \n",
      " 3   PROVINCIA       1534328 non-null  object        \n",
      " 4   COMUNE          1534328 non-null  object        \n",
      " 5   TIPO_CARTA      1656137 non-null  object        \n",
      " 6   DATA_BATTESIMO  1655941 non-null  object        \n",
      " 7   SALDO_PUNTI     1627207 non-null  float64       \n",
      "dtypes: datetime64[ns](1), float64(1), object(6)\n",
      "memory usage: 113.7+ MB\n"
     ]
    }
   ],
   "source": [
    "cust_db.info()"
   ]
  },
  {
   "cell_type": "code",
   "execution_count": 3,
   "metadata": {},
   "outputs": [
    {
     "data": {
      "image/png": "[encoded data removed]",
      "text/plain": [
       "<Figure size 432x288 with 1 Axes>"
      ]
     },
     "metadata": {
      "needs_background": "light"
     },
     "output_type": "display_data"
    }
   ],
   "source": [
    "## Where are customers located in Italy?\n",
    "cust_regions = cust_db.groupby(['REGIONE']).size().plot(kind = \"bar\")\n",
    "\n",
    "## More elegantly: could work with Matplotlib"
   ]
  },
  {
   "cell_type": "markdown",
   "metadata": {},
   "source": []
  },
  {
   "cell_type": "code",
   "execution_count": 4,
   "metadata": {},
   "outputs": [
    {
     "data": {
      "text/plain": [
       "<AxesSubplot:ylabel='SEX'>"
      ]
     },
     "execution_count": 4,
     "metadata": {},
     "output_type": "execute_result"
    },
    {
     "data": {
      "image/png": "[encoded data removed]",
      "text/plain": [
       "<Figure size 432x288 with 1 Axes>"
      ]
     },
     "metadata": {
      "needs_background": "light"
     },
     "output_type": "display_data"
    }
   ],
   "source": [
    "# Gender distribution across our customers\n",
    "\n",
    "cust_gender = cust_db.groupby(['SEX']).size().plot(kind = 'barh')\n",
    "\n",
    "# Only shows the absolute number of customers for each gender: what if we want a percentage?\n",
    "\n",
    "cust_gender_perc = cust_db.groupby(['SEX']).size().transform(lambda x: x/sum(x))\n",
    "\n",
    "cust_gender_perc.plot(kind = 'barh')"
   ]
  },
  {
   "cell_type": "code",
   "execution_count": 5,
   "metadata": {},
   "outputs": [
    {
     "data": {
      "text/plain": [
       "<AxesSubplot:xlabel='TIPO_CARTA'>"
      ]
     },
     "execution_count": 5,
     "metadata": {},
     "output_type": "execute_result"
    },
    {
     "data": {
      "image/png": "[encoded data removed]",
      "text/plain": [
       "<Figure size 432x288 with 1 Axes>"
      ]
     },
     "metadata": {
      "needs_background": "light"
     },
     "output_type": "display_data"
    }
   ],
   "source": [
    "#Distribution of the type of cards\n",
    "\n",
    "cust_card = cust_db.groupby(['TIPO_CARTA']).size().transform(lambda x: x/sum(x))\n",
    "cust_card.plot(kind = 'bar')"
   ]
  },
  {
   "cell_type": "code",
   "execution_count": 6,
   "metadata": {},
   "outputs": [
    {
     "name": "stderr",
     "output_type": "stream",
     "text": [
      "/Users/tomrigal/opt/miniconda3/envs/gbac/lib/python3.9/site-packages/seaborn/distributions.py:2619: FutureWarning: `distplot` is a deprecated function and will be removed in a future version. Please adapt your code to use either `displot` (a figure-level function with similar flexibility) or `histplot` (an axes-level function for histograms).\n",
      "  warnings.warn(msg, FutureWarning)\n"
     ]
    },
    {
     "data": {
      "text/plain": [
       "<AxesSubplot:xlabel='SALDO_PUNTI', ylabel='Density'>"
      ]
     },
     "execution_count": 6,
     "metadata": {},
     "output_type": "execute_result"
    },
    {
     "data": {
      "image/png": "[encoded data removed]",
      "text/plain": [
       "<Figure size 432x288 with 1 Axes>"
      ]
     },
     "metadata": {
      "needs_background": "light"
     },
     "output_type": "display_data"
    }
   ],
   "source": [
    "# Summary of the amount of points of each customer\n",
    "\n",
    "\n",
    "cust_db['SALDO_PUNTI'].describe()\n",
    "\n",
    "#We can represent them in a distribution plot using Seaborn\n",
    "\n",
    "sns.distplot(cust_db['SALDO_PUNTI'])\n",
    "#doesn't work as numerical transformation is needed for our numbers"
   ]
  },
  {
   "cell_type": "code",
   "execution_count": null,
   "metadata": {},
   "outputs": [],
   "source": []
  }
 ],
 "metadata": {
  "kernelspec": {
   "display_name": "Python 3 (ipykernel)",
   "language": "python",
   "name": "python3"
  },
  "language_info": {
   "codemirror_mode": {
    "name": "ipython",
    "version": 3
   },
   "file_extension": ".py",
   "mimetype": "text/x-python",
   "name": "python",
   "nbconvert_exporter": "python",
   "pygments_lexer": "ipython3",
   "version": "3.9.7"
  }
 },
 "nbformat": 4,
 "nbformat_minor": 1
}

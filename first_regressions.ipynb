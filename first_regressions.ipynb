{
 "cells": [
  {
   "cell_type": "markdown",
   "metadata": {},
   "source": [
    "### Running first regressions with our datasets\n",
    "\n",
    "Procedure:\n",
    "- Importing datasets in the notebook\n",
    "- Graph interpretation: variable Y which is the **gas purchases** (for a certain timeframe: month, week, day...) and variable x which is the time. We expect a 'bump' (increase in the gas purchases) around the first claim of prize which indicates a change in the consumer behaviour.\n",
    "- Running a regression: we try to predict the amount of liters purchased per time period (month) based on the number of prizes claims per month"
   ]
  },
  {
   "cell_type": "code",
   "execution_count": 2,
   "metadata": {},
   "outputs": [
    {
     "data": {
      "text/plain": [
       "11787162"
      ]
     },
     "execution_count": 2,
     "metadata": {},
     "output_type": "execute_result"
    }
   ],
   "source": [
    "import pandas as pd\n",
    "import numpy as np\n",
    "import matplotlib.pyplot as plt\n",
    "df1 = pd.read_csv('master_data/Anagrafica_ClubQ8.csv', sep=';',decimal = ',', index_col='COD_PAN_DA_POS', parse_dates=['DATA_NASCITA'])\n",
    "#df2 = pd.read_csv('master_data/Premi_ClubQ8.csv', sep=';',decimal = ',', index_col='COD_PAN_DA_POS', parse_dates=['DATA_OPERAZIONE'])\n",
    "df3 = pd.read_csv('master_data/Rifornimenti_Carburante_ClubQ8.csv', sep=';',decimal = ',', index_col='COD_PAN_DA_POS', parse_dates=['DATA_OPERAZIONE'])\n",
    "\n",
    "#df1 = pd.read_csv('copy_master_data/Anagrafica_ClubQ8_red.csv', sep=';',decimal = ',', index_col='COD_PAN_DA_POS')\n",
    "df2 = pd.read_csv('copy_master_data/Premi_ClubQ8_red.csv', sep=';',decimal = ',', index_col='COD_PAN_DA_POS', parse_dates=['DATA_OPERAZIONE'])\n",
    "#df3 = pd.read_csv('copy_master_data/Rifornimenti_Carburante_ClubQ8_red.csv', sep=';',decimal = ',', index_col='COD_PAN_DA_POS', parse_dates=['DATA_OPERAZIONE'])\n",
    "\n",
    "duplicates = df3.duplicated()\n",
    "duplicates = duplicates.tolist()\n",
    "\n",
    "duplicates.count(False)\n"
   ]
  },
  {
   "cell_type": "code",
   "execution_count": 3,
   "metadata": {},
   "outputs": [
    {
     "data": {
      "text/plain": [
       "7071161603001989086    265\n",
       "7071161603670007327    231\n",
       "7071161603021890256    225\n",
       "7071161603601202773    219\n",
       "7071161603600566012    210\n",
       "                      ... \n",
       "7071161603011255189      1\n",
       "7071161603016136764      1\n",
       "7071161603001486232      1\n",
       "7071161603020265674      1\n",
       "7071161603601882848      1\n",
       "Name: COD_PAN_DA_POS, Length: 957357, dtype: int64"
      ]
     },
     "execution_count": 3,
     "metadata": {},
     "output_type": "execute_result"
    }
   ],
   "source": [
    "df4 = pd.read_csv('master_data/Rifornimenti_Carburante_ClubQ8.csv', sep=';',decimal = ',', parse_dates=['DATA_OPERAZIONE'])\n",
    "df4['COD_PAN_DA_POS'].value_counts()"
   ]
  },
  {
   "cell_type": "code",
   "execution_count": 4,
   "metadata": {},
   "outputs": [
    {
     "name": "stdout",
     "output_type": "stream",
     "text": [
      "0\n"
     ]
    },
    {
     "data": {
      "text/plain": [
       "1656137"
      ]
     },
     "execution_count": 4,
     "metadata": {},
     "output_type": "execute_result"
    }
   ],
   "source": [
    "\n",
    "\n",
    "duplicates_customers = df1.duplicated()\n",
    "duplicates_customers = duplicates_customers.to_list()\n",
    "\n",
    "print(duplicates_customers.count(True))\n",
    "len(duplicates_customers)"
   ]
  },
  {
   "cell_type": "code",
   "execution_count": 5,
   "metadata": {},
   "outputs": [],
   "source": []
  },
  {
   "cell_type": "markdown",
   "metadata": {},
   "source": [
    "https://pandas.pydata.org/docs/reference/api/pandas.Index.duplicated.html"
   ]
  },
  {
   "cell_type": "code",
   "execution_count": null,
   "metadata": {},
   "outputs": [],
   "source": []
  }
 ],
 "metadata": {
  "interpreter": {
   "hash": "a10414e34ee1ee24831f883c3dce5c930c508b375af281114ccb5fd4a78029ee"
  },
  "kernelspec": {
   "display_name": "Python 3 (ipykernel)",
   "language": "python",
   "name": "python3"
  },
  "language_info": {
   "codemirror_mode": {
    "name": "ipython",
    "version": 3
   },
   "file_extension": ".py",
   "mimetype": "text/x-python",
   "name": "python",
   "nbconvert_exporter": "python",
   "pygments_lexer": "ipython3",
   "version": "3.9.7"
  }
 },
 "nbformat": 4,
 "nbformat_minor": 4
}
